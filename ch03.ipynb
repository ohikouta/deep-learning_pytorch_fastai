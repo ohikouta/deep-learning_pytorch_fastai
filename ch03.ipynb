{
  "nbformat": 4,
  "nbformat_minor": 0,
  "metadata": {
    "colab": {
      "provenance": [],
      "collapsed_sections": [],
      "authorship_tag": "ABX9TyOTwar1UFs7Ng2FFCjgMeXo",
      "include_colab_link": true
    },
    "kernelspec": {
      "name": "python3",
      "display_name": "Python 3"
    },
    "language_info": {
      "name": "python"
    }
  },
  "cells": [
    {
      "cell_type": "markdown",
      "metadata": {
        "id": "view-in-github",
        "colab_type": "text"
      },
      "source": [
        "<a href=\"https://colab.research.google.com/github/ohikouta/deep-learning_pytorch_fastai/blob/main/ch03.ipynb\" target=\"_parent\"><img src=\"https://colab.research.google.com/assets/colab-badge.svg\" alt=\"Open In Colab\"/></a>"
      ]
    },
    {
      "cell_type": "markdown",
      "source": [
        "# 3章 データ倫理"
      ],
      "metadata": {
        "id": "QNuY5_ZubQT6"
      }
    },
    {
      "cell_type": "markdown",
      "source": [
        "## 3.1 データ倫理の重要な例"
      ],
      "metadata": {
        "id": "n3R9bT-hbboB"
      }
    },
    {
      "cell_type": "markdown",
      "source": [
        "### 3.1.1 バグと遡求権：医療手当アルゴリズムのバグ"
      ],
      "metadata": {
        "id": "xB0cnwEpLpHx"
      }
    },
    {
      "cell_type": "markdown",
      "source": [
        "### 3.1.2 フィードバックループ：YouTubeの推薦システム"
      ],
      "metadata": {
        "id": "hzpUvWM9LvUa"
      }
    },
    {
      "cell_type": "markdown",
      "source": [
        "### 3.1.3 バイアス：Latanya Sweety教授「逮捕」"
      ],
      "metadata": {
        "id": "TdXVlvqgL2bQ"
      }
    },
    {
      "cell_type": "markdown",
      "source": [
        "### 3.1.4 何がいけないんだ？"
      ],
      "metadata": {
        "id": "jHZpO88bL98_"
      }
    },
    {
      "cell_type": "markdown",
      "source": [
        "## 3.2 機械学習と製品設計の統合"
      ],
      "metadata": {
        "id": "ywCOPj-SMCML"
      }
    },
    {
      "cell_type": "markdown",
      "source": [
        "## 3.3 データ倫理のトピック"
      ],
      "metadata": {
        "id": "mqoOABpsMFvG"
      }
    },
    {
      "cell_type": "markdown",
      "source": [
        "### 3.3.1 遡求権と説明責任"
      ],
      "metadata": {
        "id": "yzqBzL7cMJNH"
      }
    },
    {
      "cell_type": "markdown",
      "source": [
        "### 3.3.2 フィードバックループ"
      ],
      "metadata": {
        "id": "Ym5ArMMYMMql"
      }
    },
    {
      "cell_type": "markdown",
      "source": [
        "### 3.3.3 バイアス"
      ],
      "metadata": {
        "id": "A_puEdGgMQTR"
      }
    },
    {
      "cell_type": "markdown",
      "source": [
        "### 3.3.4 逆情報"
      ],
      "metadata": {
        "id": "0UllDtp1MTuh"
      }
    },
    {
      "cell_type": "markdown",
      "source": [
        "## 3.4 倫理的な問題の特定と対応"
      ],
      "metadata": {
        "id": "rz9kjAQhMYrt"
      }
    },
    {
      "cell_type": "markdown",
      "source": [
        "### 3.4.1 対象となるプロジェクトの解析"
      ],
      "metadata": {
        "id": "VA3tgHKWMclV"
      }
    },
    {
      "cell_type": "markdown",
      "source": [
        "### 3.4.2 実現するべきプロセス"
      ],
      "metadata": {
        "id": "B0KgsAVtMf43"
      }
    },
    {
      "cell_type": "markdown",
      "source": [
        "### 3.4.3 多様性の力"
      ],
      "metadata": {
        "id": "SBzx1RT2Mj3D"
      }
    },
    {
      "cell_type": "markdown",
      "source": [
        "### 3.4.4 公平性、説明責任、透明性"
      ],
      "metadata": {
        "id": "6h_fctyNPMgX"
      }
    },
    {
      "cell_type": "markdown",
      "source": [
        "## 3.5 政策の役割"
      ],
      "metadata": {
        "id": "wbGJtCw1PR75"
      }
    },
    {
      "cell_type": "markdown",
      "source": [
        "### 3.5.1 規制の効果"
      ],
      "metadata": {
        "id": "Tyo1ug_sPUYf"
      }
    },
    {
      "cell_type": "markdown",
      "source": [
        "### 3.5.2 権利と政策"
      ],
      "metadata": {
        "id": "MCtt7kXcPW58"
      }
    },
    {
      "cell_type": "markdown",
      "source": [
        "### 3.5.3 自動車：歴史上の前例"
      ],
      "metadata": {
        "id": "HJB7l-woPmsp"
      }
    },
    {
      "cell_type": "markdown",
      "source": [
        "## 3.6 まとめ"
      ],
      "metadata": {
        "id": "Et7IjdnQPqtM"
      }
    },
    {
      "cell_type": "markdown",
      "source": [
        "## 3.7 問題"
      ],
      "metadata": {
        "id": "SMpC8MWiPtMM"
      }
    },
    {
      "cell_type": "markdown",
      "source": [
        "### 3.7.1 さらに詳しく"
      ],
      "metadata": {
        "id": "Bh0XbksPPv8t"
      }
    }
  ]
}