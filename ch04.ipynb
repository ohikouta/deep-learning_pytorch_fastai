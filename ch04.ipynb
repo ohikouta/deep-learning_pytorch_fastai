{
  "nbformat": 4,
  "nbformat_minor": 0,
  "metadata": {
    "colab": {
      "provenance": [],
      "collapsed_sections": [],
      "authorship_tag": "ABX9TyPoiA7LXzTJw+SMFSWqTJhQ",
      "include_colab_link": true
    },
    "kernelspec": {
      "name": "python3",
      "display_name": "Python 3"
    },
    "language_info": {
      "name": "python"
    },
    "accelerator": "GPU",
    "gpuClass": "standard"
  },
  "cells": [
    {
      "cell_type": "markdown",
      "metadata": {
        "id": "view-in-github",
        "colab_type": "text"
      },
      "source": [
        "<a href=\"https://colab.research.google.com/github/ohikouta/deep-learning_pytorch_fastai/blob/main/ch04.ipynb\" target=\"_parent\"><img src=\"https://colab.research.google.com/assets/colab-badge.svg\" alt=\"Open In Colab\"/></a>"
      ]
    },
    {
      "cell_type": "markdown",
      "source": [
        "# 4章 舞台裏：数字のクラス分類器"
      ],
      "metadata": {
        "id": "XybLBBJ6Qp-r"
      }
    },
    {
      "cell_type": "markdown",
      "source": [
        "## 4.1 ピクセル：コンピュータビジョンの基礎"
      ],
      "metadata": {
        "id": "To05xPhUQ0sW"
      }
    },
    {
      "cell_type": "code",
      "source": [
        "from fastai.vision.all import *\n",
        "path = untar_data(URLs.MNIST_SAMPLE)"
      ],
      "metadata": {
        "colab": {
          "base_uri": "https://localhost:8080/",
          "height": 37
        },
        "id": "DmmGkHTQReIT",
        "outputId": "d8065dbc-7969-4108-dc26-940e85ceebba"
      },
      "execution_count": 1,
      "outputs": [
        {
          "output_type": "display_data",
          "data": {
            "text/plain": [
              "<IPython.core.display.HTML object>"
            ],
            "text/html": [
              "\n",
              "<style>\n",
              "    /* Turns off some styling */\n",
              "    progress {\n",
              "        /* gets rid of default border in Firefox and Opera. */\n",
              "        border: none;\n",
              "        /* Needs to be in here for Safari polyfill so background images work as expected. */\n",
              "        background-size: auto;\n",
              "    }\n",
              "    progress:not([value]), progress:not([value])::-webkit-progress-bar {\n",
              "        background: repeating-linear-gradient(45deg, #7e7e7e, #7e7e7e 10px, #5c5c5c 10px, #5c5c5c 20px);\n",
              "    }\n",
              "    .progress-bar-interrupted, .progress-bar-interrupted::-webkit-progress-bar {\n",
              "        background: #F44336;\n",
              "    }\n",
              "</style>\n"
            ]
          },
          "metadata": {}
        },
        {
          "output_type": "display_data",
          "data": {
            "text/plain": [
              "<IPython.core.display.HTML object>"
            ],
            "text/html": [
              "\n",
              "    <div>\n",
              "      <progress value='3219456' class='' max='3214948' style='width:300px; height:20px; vertical-align: middle;'></progress>\n",
              "      100.14% [3219456/3214948 00:00&lt;00:00]\n",
              "    </div>\n",
              "    "
            ]
          },
          "metadata": {}
        }
      ]
    },
    {
      "cell_type": "code",
      "source": [
        "path.ls()"
      ],
      "metadata": {
        "colab": {
          "base_uri": "https://localhost:8080/"
        },
        "id": "EdkQj-0iRkLf",
        "outputId": "1c5e6bf5-b804-4511-af79-6ebafa37cd80"
      },
      "execution_count": 2,
      "outputs": [
        {
          "output_type": "execute_result",
          "data": {
            "text/plain": [
              "(#3) [Path('/root/.fastai/data/mnist_sample/labels.csv'),Path('/root/.fastai/data/mnist_sample/valid'),Path('/root/.fastai/data/mnist_sample/train')]"
            ]
          },
          "metadata": {},
          "execution_count": 2
        }
      ]
    },
    {
      "cell_type": "code",
      "source": [
        "(path/'train').ls()"
      ],
      "metadata": {
        "colab": {
          "base_uri": "https://localhost:8080/"
        },
        "id": "jdjGR27NR8kB",
        "outputId": "2cb97bb2-c060-4601-cdc1-cd627dfbaa0f"
      },
      "execution_count": 3,
      "outputs": [
        {
          "output_type": "execute_result",
          "data": {
            "text/plain": [
              "(#2) [Path('/root/.fastai/data/mnist_sample/train/7'),Path('/root/.fastai/data/mnist_sample/train/3')]"
            ]
          },
          "metadata": {},
          "execution_count": 3
        }
      ]
    },
    {
      "cell_type": "code",
      "source": [
        "threes = (path/'train'/'3').ls().sorted()\n",
        "sevens = (path/'train'/'7').ls().sorted()\n",
        "threes"
      ],
      "metadata": {
        "colab": {
          "base_uri": "https://localhost:8080/"
        },
        "id": "8fceIwO2SFy4",
        "outputId": "ecc2c9fe-6d23-4cb5-b752-bf00a1d36366"
      },
      "execution_count": 4,
      "outputs": [
        {
          "output_type": "execute_result",
          "data": {
            "text/plain": [
              "(#6131) [Path('/root/.fastai/data/mnist_sample/train/3/10.png'),Path('/root/.fastai/data/mnist_sample/train/3/10000.png'),Path('/root/.fastai/data/mnist_sample/train/3/10011.png'),Path('/root/.fastai/data/mnist_sample/train/3/10031.png'),Path('/root/.fastai/data/mnist_sample/train/3/10034.png'),Path('/root/.fastai/data/mnist_sample/train/3/10042.png'),Path('/root/.fastai/data/mnist_sample/train/3/10052.png'),Path('/root/.fastai/data/mnist_sample/train/3/1007.png'),Path('/root/.fastai/data/mnist_sample/train/3/10074.png'),Path('/root/.fastai/data/mnist_sample/train/3/10091.png')...]"
            ]
          },
          "metadata": {},
          "execution_count": 4
        }
      ]
    },
    {
      "cell_type": "code",
      "source": [
        "im3_path = threes[1]\n",
        "im3 = Image.open(im3_path)\n",
        "im3\n",
        "im3.shape"
      ],
      "metadata": {
        "colab": {
          "base_uri": "https://localhost:8080/"
        },
        "id": "O-agDYxjSWo6",
        "outputId": "8f567616-75bb-461b-f769-af0e5f2b0b68"
      },
      "execution_count": 5,
      "outputs": [
        {
          "output_type": "execute_result",
          "data": {
            "text/plain": [
              "(28, 28)"
            ]
          },
          "metadata": {},
          "execution_count": 5
        }
      ]
    },
    {
      "cell_type": "code",
      "source": [
        "array(im3)[4:10, 4:10]"
      ],
      "metadata": {
        "colab": {
          "base_uri": "https://localhost:8080/"
        },
        "id": "nTwB7h4NSkMd",
        "outputId": "559da250-c36d-4e32-f4be-766d842b2242"
      },
      "execution_count": 6,
      "outputs": [
        {
          "output_type": "execute_result",
          "data": {
            "text/plain": [
              "array([[  0,   0,   0,   0,   0,   0],\n",
              "       [  0,   0,   0,   0,   0,  29],\n",
              "       [  0,   0,   0,  48, 166, 224],\n",
              "       [  0,  93, 244, 249, 253, 187],\n",
              "       [  0, 107, 253, 253, 230,  48],\n",
              "       [  0,   3,  20,  20,  15,   0]], dtype=uint8)"
            ]
          },
          "metadata": {},
          "execution_count": 6
        }
      ]
    },
    {
      "cell_type": "code",
      "source": [
        "tensor(im3)[4:10, 4:10]"
      ],
      "metadata": {
        "colab": {
          "base_uri": "https://localhost:8080/"
        },
        "id": "f6f1RC0gS_Rq",
        "outputId": "bad90323-c88c-43fd-ef5f-f59d236ce5ee"
      },
      "execution_count": 7,
      "outputs": [
        {
          "output_type": "execute_result",
          "data": {
            "text/plain": [
              "tensor([[  0,   0,   0,   0,   0,   0],\n",
              "        [  0,   0,   0,   0,   0,  29],\n",
              "        [  0,   0,   0,  48, 166, 224],\n",
              "        [  0,  93, 244, 249, 253, 187],\n",
              "        [  0, 107, 253, 253, 230,  48],\n",
              "        [  0,   3,  20,  20,  15,   0]], dtype=torch.uint8)"
            ]
          },
          "metadata": {},
          "execution_count": 7
        }
      ]
    },
    {
      "cell_type": "code",
      "source": [
        "im3_t = tensor(im3)\n",
        "df = pd.DataFrame(im3_t[4:15, 4:22])\n",
        "df.style.set_properties(**{'font-size':'6pt'}).background_gradient('Greys')"
      ],
      "metadata": {
        "colab": {
          "base_uri": "https://localhost:8080/",
          "height": 394
        },
        "id": "mG9zueJdTnMG",
        "outputId": "44247793-39f2-4df6-92c6-9dea4b056814"
      },
      "execution_count": 8,
      "outputs": [
        {
          "output_type": "execute_result",
          "data": {
            "text/plain": [
              "<pandas.io.formats.style.Styler at 0x7f5aa39f8250>"
            ],
            "text/html": [
              "<style type=\"text/css\">\n",
              "#T_9f905_row0_col0, #T_9f905_row0_col1, #T_9f905_row0_col2, #T_9f905_row0_col3, #T_9f905_row0_col4, #T_9f905_row0_col5, #T_9f905_row0_col6, #T_9f905_row0_col7, #T_9f905_row0_col8, #T_9f905_row0_col9, #T_9f905_row0_col10, #T_9f905_row0_col11, #T_9f905_row0_col12, #T_9f905_row0_col13, #T_9f905_row0_col14, #T_9f905_row0_col15, #T_9f905_row0_col16, #T_9f905_row0_col17, #T_9f905_row1_col0, #T_9f905_row1_col1, #T_9f905_row1_col2, #T_9f905_row1_col3, #T_9f905_row1_col4, #T_9f905_row1_col15, #T_9f905_row1_col16, #T_9f905_row1_col17, #T_9f905_row2_col0, #T_9f905_row2_col1, #T_9f905_row2_col2, #T_9f905_row2_col15, #T_9f905_row2_col16, #T_9f905_row2_col17, #T_9f905_row3_col0, #T_9f905_row3_col15, #T_9f905_row3_col16, #T_9f905_row3_col17, #T_9f905_row4_col0, #T_9f905_row4_col6, #T_9f905_row4_col7, #T_9f905_row4_col8, #T_9f905_row4_col9, #T_9f905_row4_col10, #T_9f905_row4_col15, #T_9f905_row4_col16, #T_9f905_row4_col17, #T_9f905_row5_col0, #T_9f905_row5_col5, #T_9f905_row5_col6, #T_9f905_row5_col7, #T_9f905_row5_col8, #T_9f905_row5_col9, #T_9f905_row5_col15, #T_9f905_row5_col16, #T_9f905_row5_col17, #T_9f905_row6_col0, #T_9f905_row6_col1, #T_9f905_row6_col2, #T_9f905_row6_col3, #T_9f905_row6_col4, #T_9f905_row6_col5, #T_9f905_row6_col6, #T_9f905_row6_col7, #T_9f905_row6_col8, #T_9f905_row6_col9, #T_9f905_row6_col14, #T_9f905_row6_col15, #T_9f905_row6_col16, #T_9f905_row6_col17, #T_9f905_row7_col0, #T_9f905_row7_col1, #T_9f905_row7_col2, #T_9f905_row7_col3, #T_9f905_row7_col4, #T_9f905_row7_col5, #T_9f905_row7_col6, #T_9f905_row7_col13, #T_9f905_row7_col14, #T_9f905_row7_col15, #T_9f905_row7_col16, #T_9f905_row7_col17, #T_9f905_row8_col0, #T_9f905_row8_col1, #T_9f905_row8_col2, #T_9f905_row8_col3, #T_9f905_row8_col4, #T_9f905_row8_col13, #T_9f905_row8_col14, #T_9f905_row8_col15, #T_9f905_row8_col16, #T_9f905_row8_col17, #T_9f905_row9_col0, #T_9f905_row9_col1, #T_9f905_row9_col2, #T_9f905_row9_col3, #T_9f905_row9_col4, #T_9f905_row9_col16, #T_9f905_row9_col17, #T_9f905_row10_col0, #T_9f905_row10_col1, #T_9f905_row10_col2, #T_9f905_row10_col3, #T_9f905_row10_col4, #T_9f905_row10_col5, #T_9f905_row10_col6, #T_9f905_row10_col17 {\n",
              "  font-size: 6pt;\n",
              "  background-color: #ffffff;\n",
              "  color: #000000;\n",
              "}\n",
              "#T_9f905_row1_col5 {\n",
              "  font-size: 6pt;\n",
              "  background-color: #efefef;\n",
              "  color: #000000;\n",
              "}\n",
              "#T_9f905_row1_col6, #T_9f905_row1_col13 {\n",
              "  font-size: 6pt;\n",
              "  background-color: #7c7c7c;\n",
              "  color: #f1f1f1;\n",
              "}\n",
              "#T_9f905_row1_col7 {\n",
              "  font-size: 6pt;\n",
              "  background-color: #4a4a4a;\n",
              "  color: #f1f1f1;\n",
              "}\n",
              "#T_9f905_row1_col8, #T_9f905_row1_col9, #T_9f905_row1_col10, #T_9f905_row2_col5, #T_9f905_row2_col6, #T_9f905_row2_col7, #T_9f905_row2_col11, #T_9f905_row2_col12, #T_9f905_row2_col13, #T_9f905_row3_col4, #T_9f905_row3_col12, #T_9f905_row3_col13, #T_9f905_row4_col1, #T_9f905_row4_col2, #T_9f905_row4_col3, #T_9f905_row4_col12, #T_9f905_row4_col13, #T_9f905_row5_col12, #T_9f905_row6_col11, #T_9f905_row9_col11, #T_9f905_row10_col11, #T_9f905_row10_col12, #T_9f905_row10_col13, #T_9f905_row10_col14, #T_9f905_row10_col15, #T_9f905_row10_col16 {\n",
              "  font-size: 6pt;\n",
              "  background-color: #000000;\n",
              "  color: #f1f1f1;\n",
              "}\n",
              "#T_9f905_row1_col11 {\n",
              "  font-size: 6pt;\n",
              "  background-color: #606060;\n",
              "  color: #f1f1f1;\n",
              "}\n",
              "#T_9f905_row1_col12 {\n",
              "  font-size: 6pt;\n",
              "  background-color: #4d4d4d;\n",
              "  color: #f1f1f1;\n",
              "}\n",
              "#T_9f905_row1_col14 {\n",
              "  font-size: 6pt;\n",
              "  background-color: #bbbbbb;\n",
              "  color: #000000;\n",
              "}\n",
              "#T_9f905_row2_col3 {\n",
              "  font-size: 6pt;\n",
              "  background-color: #e4e4e4;\n",
              "  color: #000000;\n",
              "}\n",
              "#T_9f905_row2_col4, #T_9f905_row8_col6 {\n",
              "  font-size: 6pt;\n",
              "  background-color: #6b6b6b;\n",
              "  color: #f1f1f1;\n",
              "}\n",
              "#T_9f905_row2_col8, #T_9f905_row2_col14, #T_9f905_row3_col14 {\n",
              "  font-size: 6pt;\n",
              "  background-color: #171717;\n",
              "  color: #f1f1f1;\n",
              "}\n",
              "#T_9f905_row2_col9, #T_9f905_row3_col11 {\n",
              "  font-size: 6pt;\n",
              "  background-color: #4b4b4b;\n",
              "  color: #f1f1f1;\n",
              "}\n",
              "#T_9f905_row2_col10, #T_9f905_row7_col10, #T_9f905_row8_col8, #T_9f905_row8_col10, #T_9f905_row9_col8, #T_9f905_row9_col10 {\n",
              "  font-size: 6pt;\n",
              "  background-color: #010101;\n",
              "  color: #f1f1f1;\n",
              "}\n",
              "#T_9f905_row3_col1 {\n",
              "  font-size: 6pt;\n",
              "  background-color: #272727;\n",
              "  color: #f1f1f1;\n",
              "}\n",
              "#T_9f905_row3_col2 {\n",
              "  font-size: 6pt;\n",
              "  background-color: #0a0a0a;\n",
              "  color: #f1f1f1;\n",
              "}\n",
              "#T_9f905_row3_col3 {\n",
              "  font-size: 6pt;\n",
              "  background-color: #050505;\n",
              "  color: #f1f1f1;\n",
              "}\n",
              "#T_9f905_row3_col5 {\n",
              "  font-size: 6pt;\n",
              "  background-color: #333333;\n",
              "  color: #f1f1f1;\n",
              "}\n",
              "#T_9f905_row3_col6 {\n",
              "  font-size: 6pt;\n",
              "  background-color: #e6e6e6;\n",
              "  color: #000000;\n",
              "}\n",
              "#T_9f905_row3_col7, #T_9f905_row3_col10 {\n",
              "  font-size: 6pt;\n",
              "  background-color: #fafafa;\n",
              "  color: #000000;\n",
              "}\n",
              "#T_9f905_row3_col8 {\n",
              "  font-size: 6pt;\n",
              "  background-color: #fbfbfb;\n",
              "  color: #000000;\n",
              "}\n",
              "#T_9f905_row3_col9 {\n",
              "  font-size: 6pt;\n",
              "  background-color: #fdfdfd;\n",
              "  color: #000000;\n",
              "}\n",
              "#T_9f905_row4_col4 {\n",
              "  font-size: 6pt;\n",
              "  background-color: #1b1b1b;\n",
              "  color: #f1f1f1;\n",
              "}\n",
              "#T_9f905_row4_col5 {\n",
              "  font-size: 6pt;\n",
              "  background-color: #e0e0e0;\n",
              "  color: #000000;\n",
              "}\n",
              "#T_9f905_row4_col11 {\n",
              "  font-size: 6pt;\n",
              "  background-color: #4e4e4e;\n",
              "  color: #f1f1f1;\n",
              "}\n",
              "#T_9f905_row4_col14 {\n",
              "  font-size: 6pt;\n",
              "  background-color: #767676;\n",
              "  color: #f1f1f1;\n",
              "}\n",
              "#T_9f905_row5_col1 {\n",
              "  font-size: 6pt;\n",
              "  background-color: #fcfcfc;\n",
              "  color: #000000;\n",
              "}\n",
              "#T_9f905_row5_col2, #T_9f905_row5_col3 {\n",
              "  font-size: 6pt;\n",
              "  background-color: #f6f6f6;\n",
              "  color: #000000;\n",
              "}\n",
              "#T_9f905_row5_col4, #T_9f905_row7_col7 {\n",
              "  font-size: 6pt;\n",
              "  background-color: #f8f8f8;\n",
              "  color: #000000;\n",
              "}\n",
              "#T_9f905_row5_col10, #T_9f905_row10_col7 {\n",
              "  font-size: 6pt;\n",
              "  background-color: #e8e8e8;\n",
              "  color: #000000;\n",
              "}\n",
              "#T_9f905_row5_col11 {\n",
              "  font-size: 6pt;\n",
              "  background-color: #222222;\n",
              "  color: #f1f1f1;\n",
              "}\n",
              "#T_9f905_row5_col13, #T_9f905_row6_col12 {\n",
              "  font-size: 6pt;\n",
              "  background-color: #090909;\n",
              "  color: #f1f1f1;\n",
              "}\n",
              "#T_9f905_row5_col14 {\n",
              "  font-size: 6pt;\n",
              "  background-color: #d0d0d0;\n",
              "  color: #000000;\n",
              "}\n",
              "#T_9f905_row6_col10, #T_9f905_row7_col11, #T_9f905_row9_col6 {\n",
              "  font-size: 6pt;\n",
              "  background-color: #060606;\n",
              "  color: #f1f1f1;\n",
              "}\n",
              "#T_9f905_row6_col13 {\n",
              "  font-size: 6pt;\n",
              "  background-color: #979797;\n",
              "  color: #f1f1f1;\n",
              "}\n",
              "#T_9f905_row7_col8 {\n",
              "  font-size: 6pt;\n",
              "  background-color: #b6b6b6;\n",
              "  color: #000000;\n",
              "}\n",
              "#T_9f905_row7_col9 {\n",
              "  font-size: 6pt;\n",
              "  background-color: #252525;\n",
              "  color: #f1f1f1;\n",
              "}\n",
              "#T_9f905_row7_col12 {\n",
              "  font-size: 6pt;\n",
              "  background-color: #999999;\n",
              "  color: #f1f1f1;\n",
              "}\n",
              "#T_9f905_row8_col5 {\n",
              "  font-size: 6pt;\n",
              "  background-color: #f9f9f9;\n",
              "  color: #000000;\n",
              "}\n",
              "#T_9f905_row8_col7 {\n",
              "  font-size: 6pt;\n",
              "  background-color: #101010;\n",
              "  color: #f1f1f1;\n",
              "}\n",
              "#T_9f905_row8_col9, #T_9f905_row9_col9 {\n",
              "  font-size: 6pt;\n",
              "  background-color: #020202;\n",
              "  color: #f1f1f1;\n",
              "}\n",
              "#T_9f905_row8_col11 {\n",
              "  font-size: 6pt;\n",
              "  background-color: #545454;\n",
              "  color: #f1f1f1;\n",
              "}\n",
              "#T_9f905_row8_col12 {\n",
              "  font-size: 6pt;\n",
              "  background-color: #f1f1f1;\n",
              "  color: #000000;\n",
              "}\n",
              "#T_9f905_row9_col5 {\n",
              "  font-size: 6pt;\n",
              "  background-color: #f7f7f7;\n",
              "  color: #000000;\n",
              "}\n",
              "#T_9f905_row9_col7 {\n",
              "  font-size: 6pt;\n",
              "  background-color: #030303;\n",
              "  color: #f1f1f1;\n",
              "}\n",
              "#T_9f905_row9_col12 {\n",
              "  font-size: 6pt;\n",
              "  background-color: #181818;\n",
              "  color: #f1f1f1;\n",
              "}\n",
              "#T_9f905_row9_col13 {\n",
              "  font-size: 6pt;\n",
              "  background-color: #303030;\n",
              "  color: #f1f1f1;\n",
              "}\n",
              "#T_9f905_row9_col14 {\n",
              "  font-size: 6pt;\n",
              "  background-color: #a9a9a9;\n",
              "  color: #f1f1f1;\n",
              "}\n",
              "#T_9f905_row9_col15 {\n",
              "  font-size: 6pt;\n",
              "  background-color: #fefefe;\n",
              "  color: #000000;\n",
              "}\n",
              "#T_9f905_row10_col8, #T_9f905_row10_col9 {\n",
              "  font-size: 6pt;\n",
              "  background-color: #bababa;\n",
              "  color: #000000;\n",
              "}\n",
              "#T_9f905_row10_col10 {\n",
              "  font-size: 6pt;\n",
              "  background-color: #393939;\n",
              "  color: #f1f1f1;\n",
              "}\n",
              "</style>\n",
              "<table id=\"T_9f905_\" class=\"dataframe\">\n",
              "  <thead>\n",
              "    <tr>\n",
              "      <th class=\"blank level0\" >&nbsp;</th>\n",
              "      <th class=\"col_heading level0 col0\" >0</th>\n",
              "      <th class=\"col_heading level0 col1\" >1</th>\n",
              "      <th class=\"col_heading level0 col2\" >2</th>\n",
              "      <th class=\"col_heading level0 col3\" >3</th>\n",
              "      <th class=\"col_heading level0 col4\" >4</th>\n",
              "      <th class=\"col_heading level0 col5\" >5</th>\n",
              "      <th class=\"col_heading level0 col6\" >6</th>\n",
              "      <th class=\"col_heading level0 col7\" >7</th>\n",
              "      <th class=\"col_heading level0 col8\" >8</th>\n",
              "      <th class=\"col_heading level0 col9\" >9</th>\n",
              "      <th class=\"col_heading level0 col10\" >10</th>\n",
              "      <th class=\"col_heading level0 col11\" >11</th>\n",
              "      <th class=\"col_heading level0 col12\" >12</th>\n",
              "      <th class=\"col_heading level0 col13\" >13</th>\n",
              "      <th class=\"col_heading level0 col14\" >14</th>\n",
              "      <th class=\"col_heading level0 col15\" >15</th>\n",
              "      <th class=\"col_heading level0 col16\" >16</th>\n",
              "      <th class=\"col_heading level0 col17\" >17</th>\n",
              "    </tr>\n",
              "  </thead>\n",
              "  <tbody>\n",
              "    <tr>\n",
              "      <th id=\"T_9f905_level0_row0\" class=\"row_heading level0 row0\" >0</th>\n",
              "      <td id=\"T_9f905_row0_col0\" class=\"data row0 col0\" >0</td>\n",
              "      <td id=\"T_9f905_row0_col1\" class=\"data row0 col1\" >0</td>\n",
              "      <td id=\"T_9f905_row0_col2\" class=\"data row0 col2\" >0</td>\n",
              "      <td id=\"T_9f905_row0_col3\" class=\"data row0 col3\" >0</td>\n",
              "      <td id=\"T_9f905_row0_col4\" class=\"data row0 col4\" >0</td>\n",
              "      <td id=\"T_9f905_row0_col5\" class=\"data row0 col5\" >0</td>\n",
              "      <td id=\"T_9f905_row0_col6\" class=\"data row0 col6\" >0</td>\n",
              "      <td id=\"T_9f905_row0_col7\" class=\"data row0 col7\" >0</td>\n",
              "      <td id=\"T_9f905_row0_col8\" class=\"data row0 col8\" >0</td>\n",
              "      <td id=\"T_9f905_row0_col9\" class=\"data row0 col9\" >0</td>\n",
              "      <td id=\"T_9f905_row0_col10\" class=\"data row0 col10\" >0</td>\n",
              "      <td id=\"T_9f905_row0_col11\" class=\"data row0 col11\" >0</td>\n",
              "      <td id=\"T_9f905_row0_col12\" class=\"data row0 col12\" >0</td>\n",
              "      <td id=\"T_9f905_row0_col13\" class=\"data row0 col13\" >0</td>\n",
              "      <td id=\"T_9f905_row0_col14\" class=\"data row0 col14\" >0</td>\n",
              "      <td id=\"T_9f905_row0_col15\" class=\"data row0 col15\" >0</td>\n",
              "      <td id=\"T_9f905_row0_col16\" class=\"data row0 col16\" >0</td>\n",
              "      <td id=\"T_9f905_row0_col17\" class=\"data row0 col17\" >0</td>\n",
              "    </tr>\n",
              "    <tr>\n",
              "      <th id=\"T_9f905_level0_row1\" class=\"row_heading level0 row1\" >1</th>\n",
              "      <td id=\"T_9f905_row1_col0\" class=\"data row1 col0\" >0</td>\n",
              "      <td id=\"T_9f905_row1_col1\" class=\"data row1 col1\" >0</td>\n",
              "      <td id=\"T_9f905_row1_col2\" class=\"data row1 col2\" >0</td>\n",
              "      <td id=\"T_9f905_row1_col3\" class=\"data row1 col3\" >0</td>\n",
              "      <td id=\"T_9f905_row1_col4\" class=\"data row1 col4\" >0</td>\n",
              "      <td id=\"T_9f905_row1_col5\" class=\"data row1 col5\" >29</td>\n",
              "      <td id=\"T_9f905_row1_col6\" class=\"data row1 col6\" >150</td>\n",
              "      <td id=\"T_9f905_row1_col7\" class=\"data row1 col7\" >195</td>\n",
              "      <td id=\"T_9f905_row1_col8\" class=\"data row1 col8\" >254</td>\n",
              "      <td id=\"T_9f905_row1_col9\" class=\"data row1 col9\" >255</td>\n",
              "      <td id=\"T_9f905_row1_col10\" class=\"data row1 col10\" >254</td>\n",
              "      <td id=\"T_9f905_row1_col11\" class=\"data row1 col11\" >176</td>\n",
              "      <td id=\"T_9f905_row1_col12\" class=\"data row1 col12\" >193</td>\n",
              "      <td id=\"T_9f905_row1_col13\" class=\"data row1 col13\" >150</td>\n",
              "      <td id=\"T_9f905_row1_col14\" class=\"data row1 col14\" >96</td>\n",
              "      <td id=\"T_9f905_row1_col15\" class=\"data row1 col15\" >0</td>\n",
              "      <td id=\"T_9f905_row1_col16\" class=\"data row1 col16\" >0</td>\n",
              "      <td id=\"T_9f905_row1_col17\" class=\"data row1 col17\" >0</td>\n",
              "    </tr>\n",
              "    <tr>\n",
              "      <th id=\"T_9f905_level0_row2\" class=\"row_heading level0 row2\" >2</th>\n",
              "      <td id=\"T_9f905_row2_col0\" class=\"data row2 col0\" >0</td>\n",
              "      <td id=\"T_9f905_row2_col1\" class=\"data row2 col1\" >0</td>\n",
              "      <td id=\"T_9f905_row2_col2\" class=\"data row2 col2\" >0</td>\n",
              "      <td id=\"T_9f905_row2_col3\" class=\"data row2 col3\" >48</td>\n",
              "      <td id=\"T_9f905_row2_col4\" class=\"data row2 col4\" >166</td>\n",
              "      <td id=\"T_9f905_row2_col5\" class=\"data row2 col5\" >224</td>\n",
              "      <td id=\"T_9f905_row2_col6\" class=\"data row2 col6\" >253</td>\n",
              "      <td id=\"T_9f905_row2_col7\" class=\"data row2 col7\" >253</td>\n",
              "      <td id=\"T_9f905_row2_col8\" class=\"data row2 col8\" >234</td>\n",
              "      <td id=\"T_9f905_row2_col9\" class=\"data row2 col9\" >196</td>\n",
              "      <td id=\"T_9f905_row2_col10\" class=\"data row2 col10\" >253</td>\n",
              "      <td id=\"T_9f905_row2_col11\" class=\"data row2 col11\" >253</td>\n",
              "      <td id=\"T_9f905_row2_col12\" class=\"data row2 col12\" >253</td>\n",
              "      <td id=\"T_9f905_row2_col13\" class=\"data row2 col13\" >253</td>\n",
              "      <td id=\"T_9f905_row2_col14\" class=\"data row2 col14\" >233</td>\n",
              "      <td id=\"T_9f905_row2_col15\" class=\"data row2 col15\" >0</td>\n",
              "      <td id=\"T_9f905_row2_col16\" class=\"data row2 col16\" >0</td>\n",
              "      <td id=\"T_9f905_row2_col17\" class=\"data row2 col17\" >0</td>\n",
              "    </tr>\n",
              "    <tr>\n",
              "      <th id=\"T_9f905_level0_row3\" class=\"row_heading level0 row3\" >3</th>\n",
              "      <td id=\"T_9f905_row3_col0\" class=\"data row3 col0\" >0</td>\n",
              "      <td id=\"T_9f905_row3_col1\" class=\"data row3 col1\" >93</td>\n",
              "      <td id=\"T_9f905_row3_col2\" class=\"data row3 col2\" >244</td>\n",
              "      <td id=\"T_9f905_row3_col3\" class=\"data row3 col3\" >249</td>\n",
              "      <td id=\"T_9f905_row3_col4\" class=\"data row3 col4\" >253</td>\n",
              "      <td id=\"T_9f905_row3_col5\" class=\"data row3 col5\" >187</td>\n",
              "      <td id=\"T_9f905_row3_col6\" class=\"data row3 col6\" >46</td>\n",
              "      <td id=\"T_9f905_row3_col7\" class=\"data row3 col7\" >10</td>\n",
              "      <td id=\"T_9f905_row3_col8\" class=\"data row3 col8\" >8</td>\n",
              "      <td id=\"T_9f905_row3_col9\" class=\"data row3 col9\" >4</td>\n",
              "      <td id=\"T_9f905_row3_col10\" class=\"data row3 col10\" >10</td>\n",
              "      <td id=\"T_9f905_row3_col11\" class=\"data row3 col11\" >194</td>\n",
              "      <td id=\"T_9f905_row3_col12\" class=\"data row3 col12\" >253</td>\n",
              "      <td id=\"T_9f905_row3_col13\" class=\"data row3 col13\" >253</td>\n",
              "      <td id=\"T_9f905_row3_col14\" class=\"data row3 col14\" >233</td>\n",
              "      <td id=\"T_9f905_row3_col15\" class=\"data row3 col15\" >0</td>\n",
              "      <td id=\"T_9f905_row3_col16\" class=\"data row3 col16\" >0</td>\n",
              "      <td id=\"T_9f905_row3_col17\" class=\"data row3 col17\" >0</td>\n",
              "    </tr>\n",
              "    <tr>\n",
              "      <th id=\"T_9f905_level0_row4\" class=\"row_heading level0 row4\" >4</th>\n",
              "      <td id=\"T_9f905_row4_col0\" class=\"data row4 col0\" >0</td>\n",
              "      <td id=\"T_9f905_row4_col1\" class=\"data row4 col1\" >107</td>\n",
              "      <td id=\"T_9f905_row4_col2\" class=\"data row4 col2\" >253</td>\n",
              "      <td id=\"T_9f905_row4_col3\" class=\"data row4 col3\" >253</td>\n",
              "      <td id=\"T_9f905_row4_col4\" class=\"data row4 col4\" >230</td>\n",
              "      <td id=\"T_9f905_row4_col5\" class=\"data row4 col5\" >48</td>\n",
              "      <td id=\"T_9f905_row4_col6\" class=\"data row4 col6\" >0</td>\n",
              "      <td id=\"T_9f905_row4_col7\" class=\"data row4 col7\" >0</td>\n",
              "      <td id=\"T_9f905_row4_col8\" class=\"data row4 col8\" >0</td>\n",
              "      <td id=\"T_9f905_row4_col9\" class=\"data row4 col9\" >0</td>\n",
              "      <td id=\"T_9f905_row4_col10\" class=\"data row4 col10\" >0</td>\n",
              "      <td id=\"T_9f905_row4_col11\" class=\"data row4 col11\" >192</td>\n",
              "      <td id=\"T_9f905_row4_col12\" class=\"data row4 col12\" >253</td>\n",
              "      <td id=\"T_9f905_row4_col13\" class=\"data row4 col13\" >253</td>\n",
              "      <td id=\"T_9f905_row4_col14\" class=\"data row4 col14\" >156</td>\n",
              "      <td id=\"T_9f905_row4_col15\" class=\"data row4 col15\" >0</td>\n",
              "      <td id=\"T_9f905_row4_col16\" class=\"data row4 col16\" >0</td>\n",
              "      <td id=\"T_9f905_row4_col17\" class=\"data row4 col17\" >0</td>\n",
              "    </tr>\n",
              "    <tr>\n",
              "      <th id=\"T_9f905_level0_row5\" class=\"row_heading level0 row5\" >5</th>\n",
              "      <td id=\"T_9f905_row5_col0\" class=\"data row5 col0\" >0</td>\n",
              "      <td id=\"T_9f905_row5_col1\" class=\"data row5 col1\" >3</td>\n",
              "      <td id=\"T_9f905_row5_col2\" class=\"data row5 col2\" >20</td>\n",
              "      <td id=\"T_9f905_row5_col3\" class=\"data row5 col3\" >20</td>\n",
              "      <td id=\"T_9f905_row5_col4\" class=\"data row5 col4\" >15</td>\n",
              "      <td id=\"T_9f905_row5_col5\" class=\"data row5 col5\" >0</td>\n",
              "      <td id=\"T_9f905_row5_col6\" class=\"data row5 col6\" >0</td>\n",
              "      <td id=\"T_9f905_row5_col7\" class=\"data row5 col7\" >0</td>\n",
              "      <td id=\"T_9f905_row5_col8\" class=\"data row5 col8\" >0</td>\n",
              "      <td id=\"T_9f905_row5_col9\" class=\"data row5 col9\" >0</td>\n",
              "      <td id=\"T_9f905_row5_col10\" class=\"data row5 col10\" >43</td>\n",
              "      <td id=\"T_9f905_row5_col11\" class=\"data row5 col11\" >224</td>\n",
              "      <td id=\"T_9f905_row5_col12\" class=\"data row5 col12\" >253</td>\n",
              "      <td id=\"T_9f905_row5_col13\" class=\"data row5 col13\" >245</td>\n",
              "      <td id=\"T_9f905_row5_col14\" class=\"data row5 col14\" >74</td>\n",
              "      <td id=\"T_9f905_row5_col15\" class=\"data row5 col15\" >0</td>\n",
              "      <td id=\"T_9f905_row5_col16\" class=\"data row5 col16\" >0</td>\n",
              "      <td id=\"T_9f905_row5_col17\" class=\"data row5 col17\" >0</td>\n",
              "    </tr>\n",
              "    <tr>\n",
              "      <th id=\"T_9f905_level0_row6\" class=\"row_heading level0 row6\" >6</th>\n",
              "      <td id=\"T_9f905_row6_col0\" class=\"data row6 col0\" >0</td>\n",
              "      <td id=\"T_9f905_row6_col1\" class=\"data row6 col1\" >0</td>\n",
              "      <td id=\"T_9f905_row6_col2\" class=\"data row6 col2\" >0</td>\n",
              "      <td id=\"T_9f905_row6_col3\" class=\"data row6 col3\" >0</td>\n",
              "      <td id=\"T_9f905_row6_col4\" class=\"data row6 col4\" >0</td>\n",
              "      <td id=\"T_9f905_row6_col5\" class=\"data row6 col5\" >0</td>\n",
              "      <td id=\"T_9f905_row6_col6\" class=\"data row6 col6\" >0</td>\n",
              "      <td id=\"T_9f905_row6_col7\" class=\"data row6 col7\" >0</td>\n",
              "      <td id=\"T_9f905_row6_col8\" class=\"data row6 col8\" >0</td>\n",
              "      <td id=\"T_9f905_row6_col9\" class=\"data row6 col9\" >0</td>\n",
              "      <td id=\"T_9f905_row6_col10\" class=\"data row6 col10\" >249</td>\n",
              "      <td id=\"T_9f905_row6_col11\" class=\"data row6 col11\" >253</td>\n",
              "      <td id=\"T_9f905_row6_col12\" class=\"data row6 col12\" >245</td>\n",
              "      <td id=\"T_9f905_row6_col13\" class=\"data row6 col13\" >126</td>\n",
              "      <td id=\"T_9f905_row6_col14\" class=\"data row6 col14\" >0</td>\n",
              "      <td id=\"T_9f905_row6_col15\" class=\"data row6 col15\" >0</td>\n",
              "      <td id=\"T_9f905_row6_col16\" class=\"data row6 col16\" >0</td>\n",
              "      <td id=\"T_9f905_row6_col17\" class=\"data row6 col17\" >0</td>\n",
              "    </tr>\n",
              "    <tr>\n",
              "      <th id=\"T_9f905_level0_row7\" class=\"row_heading level0 row7\" >7</th>\n",
              "      <td id=\"T_9f905_row7_col0\" class=\"data row7 col0\" >0</td>\n",
              "      <td id=\"T_9f905_row7_col1\" class=\"data row7 col1\" >0</td>\n",
              "      <td id=\"T_9f905_row7_col2\" class=\"data row7 col2\" >0</td>\n",
              "      <td id=\"T_9f905_row7_col3\" class=\"data row7 col3\" >0</td>\n",
              "      <td id=\"T_9f905_row7_col4\" class=\"data row7 col4\" >0</td>\n",
              "      <td id=\"T_9f905_row7_col5\" class=\"data row7 col5\" >0</td>\n",
              "      <td id=\"T_9f905_row7_col6\" class=\"data row7 col6\" >0</td>\n",
              "      <td id=\"T_9f905_row7_col7\" class=\"data row7 col7\" >14</td>\n",
              "      <td id=\"T_9f905_row7_col8\" class=\"data row7 col8\" >101</td>\n",
              "      <td id=\"T_9f905_row7_col9\" class=\"data row7 col9\" >223</td>\n",
              "      <td id=\"T_9f905_row7_col10\" class=\"data row7 col10\" >253</td>\n",
              "      <td id=\"T_9f905_row7_col11\" class=\"data row7 col11\" >248</td>\n",
              "      <td id=\"T_9f905_row7_col12\" class=\"data row7 col12\" >124</td>\n",
              "      <td id=\"T_9f905_row7_col13\" class=\"data row7 col13\" >0</td>\n",
              "      <td id=\"T_9f905_row7_col14\" class=\"data row7 col14\" >0</td>\n",
              "      <td id=\"T_9f905_row7_col15\" class=\"data row7 col15\" >0</td>\n",
              "      <td id=\"T_9f905_row7_col16\" class=\"data row7 col16\" >0</td>\n",
              "      <td id=\"T_9f905_row7_col17\" class=\"data row7 col17\" >0</td>\n",
              "    </tr>\n",
              "    <tr>\n",
              "      <th id=\"T_9f905_level0_row8\" class=\"row_heading level0 row8\" >8</th>\n",
              "      <td id=\"T_9f905_row8_col0\" class=\"data row8 col0\" >0</td>\n",
              "      <td id=\"T_9f905_row8_col1\" class=\"data row8 col1\" >0</td>\n",
              "      <td id=\"T_9f905_row8_col2\" class=\"data row8 col2\" >0</td>\n",
              "      <td id=\"T_9f905_row8_col3\" class=\"data row8 col3\" >0</td>\n",
              "      <td id=\"T_9f905_row8_col4\" class=\"data row8 col4\" >0</td>\n",
              "      <td id=\"T_9f905_row8_col5\" class=\"data row8 col5\" >11</td>\n",
              "      <td id=\"T_9f905_row8_col6\" class=\"data row8 col6\" >166</td>\n",
              "      <td id=\"T_9f905_row8_col7\" class=\"data row8 col7\" >239</td>\n",
              "      <td id=\"T_9f905_row8_col8\" class=\"data row8 col8\" >253</td>\n",
              "      <td id=\"T_9f905_row8_col9\" class=\"data row8 col9\" >253</td>\n",
              "      <td id=\"T_9f905_row8_col10\" class=\"data row8 col10\" >253</td>\n",
              "      <td id=\"T_9f905_row8_col11\" class=\"data row8 col11\" >187</td>\n",
              "      <td id=\"T_9f905_row8_col12\" class=\"data row8 col12\" >30</td>\n",
              "      <td id=\"T_9f905_row8_col13\" class=\"data row8 col13\" >0</td>\n",
              "      <td id=\"T_9f905_row8_col14\" class=\"data row8 col14\" >0</td>\n",
              "      <td id=\"T_9f905_row8_col15\" class=\"data row8 col15\" >0</td>\n",
              "      <td id=\"T_9f905_row8_col16\" class=\"data row8 col16\" >0</td>\n",
              "      <td id=\"T_9f905_row8_col17\" class=\"data row8 col17\" >0</td>\n",
              "    </tr>\n",
              "    <tr>\n",
              "      <th id=\"T_9f905_level0_row9\" class=\"row_heading level0 row9\" >9</th>\n",
              "      <td id=\"T_9f905_row9_col0\" class=\"data row9 col0\" >0</td>\n",
              "      <td id=\"T_9f905_row9_col1\" class=\"data row9 col1\" >0</td>\n",
              "      <td id=\"T_9f905_row9_col2\" class=\"data row9 col2\" >0</td>\n",
              "      <td id=\"T_9f905_row9_col3\" class=\"data row9 col3\" >0</td>\n",
              "      <td id=\"T_9f905_row9_col4\" class=\"data row9 col4\" >0</td>\n",
              "      <td id=\"T_9f905_row9_col5\" class=\"data row9 col5\" >16</td>\n",
              "      <td id=\"T_9f905_row9_col6\" class=\"data row9 col6\" >248</td>\n",
              "      <td id=\"T_9f905_row9_col7\" class=\"data row9 col7\" >250</td>\n",
              "      <td id=\"T_9f905_row9_col8\" class=\"data row9 col8\" >253</td>\n",
              "      <td id=\"T_9f905_row9_col9\" class=\"data row9 col9\" >253</td>\n",
              "      <td id=\"T_9f905_row9_col10\" class=\"data row9 col10\" >253</td>\n",
              "      <td id=\"T_9f905_row9_col11\" class=\"data row9 col11\" >253</td>\n",
              "      <td id=\"T_9f905_row9_col12\" class=\"data row9 col12\" >232</td>\n",
              "      <td id=\"T_9f905_row9_col13\" class=\"data row9 col13\" >213</td>\n",
              "      <td id=\"T_9f905_row9_col14\" class=\"data row9 col14\" >111</td>\n",
              "      <td id=\"T_9f905_row9_col15\" class=\"data row9 col15\" >2</td>\n",
              "      <td id=\"T_9f905_row9_col16\" class=\"data row9 col16\" >0</td>\n",
              "      <td id=\"T_9f905_row9_col17\" class=\"data row9 col17\" >0</td>\n",
              "    </tr>\n",
              "    <tr>\n",
              "      <th id=\"T_9f905_level0_row10\" class=\"row_heading level0 row10\" >10</th>\n",
              "      <td id=\"T_9f905_row10_col0\" class=\"data row10 col0\" >0</td>\n",
              "      <td id=\"T_9f905_row10_col1\" class=\"data row10 col1\" >0</td>\n",
              "      <td id=\"T_9f905_row10_col2\" class=\"data row10 col2\" >0</td>\n",
              "      <td id=\"T_9f905_row10_col3\" class=\"data row10 col3\" >0</td>\n",
              "      <td id=\"T_9f905_row10_col4\" class=\"data row10 col4\" >0</td>\n",
              "      <td id=\"T_9f905_row10_col5\" class=\"data row10 col5\" >0</td>\n",
              "      <td id=\"T_9f905_row10_col6\" class=\"data row10 col6\" >0</td>\n",
              "      <td id=\"T_9f905_row10_col7\" class=\"data row10 col7\" >43</td>\n",
              "      <td id=\"T_9f905_row10_col8\" class=\"data row10 col8\" >98</td>\n",
              "      <td id=\"T_9f905_row10_col9\" class=\"data row10 col9\" >98</td>\n",
              "      <td id=\"T_9f905_row10_col10\" class=\"data row10 col10\" >208</td>\n",
              "      <td id=\"T_9f905_row10_col11\" class=\"data row10 col11\" >253</td>\n",
              "      <td id=\"T_9f905_row10_col12\" class=\"data row10 col12\" >253</td>\n",
              "      <td id=\"T_9f905_row10_col13\" class=\"data row10 col13\" >253</td>\n",
              "      <td id=\"T_9f905_row10_col14\" class=\"data row10 col14\" >253</td>\n",
              "      <td id=\"T_9f905_row10_col15\" class=\"data row10 col15\" >187</td>\n",
              "      <td id=\"T_9f905_row10_col16\" class=\"data row10 col16\" >22</td>\n",
              "      <td id=\"T_9f905_row10_col17\" class=\"data row10 col17\" >0</td>\n",
              "    </tr>\n",
              "  </tbody>\n",
              "</table>\n"
            ]
          },
          "metadata": {},
          "execution_count": 8
        }
      ]
    },
    {
      "cell_type": "code",
      "source": [
        "seven_tensors = [tensor(Image.open(o)) for o in sevens]\n",
        "three_tensors = [tensor(Image.open(o)) for o in threes]\n",
        "print(len(three_tensors), len(seven_tensors))"
      ],
      "metadata": {
        "colab": {
          "base_uri": "https://localhost:8080/"
        },
        "id": "El-ognfhUCqC",
        "outputId": "0c570983-7915-40bf-e610-dd1b1eadaf2c"
      },
      "execution_count": 9,
      "outputs": [
        {
          "output_type": "stream",
          "name": "stdout",
          "text": [
            "6131 6265\n"
          ]
        }
      ]
    },
    {
      "cell_type": "code",
      "source": [
        "print(show_image(three_tensors[1]))"
      ],
      "metadata": {
        "colab": {
          "base_uri": "https://localhost:8080/",
          "height": 103
        },
        "id": "Ht_6l8raYvwU",
        "outputId": "7b6407a7-fa98-40ff-dd6e-32228c5ff742"
      },
      "execution_count": 10,
      "outputs": [
        {
          "output_type": "stream",
          "name": "stdout",
          "text": [
            "AxesSubplot(0.125,0.125;0.775x0.755)\n"
          ]
        },
        {
          "output_type": "display_data",
          "data": {
            "text/plain": [
              "<Figure size 72x72 with 1 Axes>"
            ],
            "image/png": "[encoded data removed]"
          },
          "metadata": {
            "needs_background": "light"
          }
        }
      ]
    },
    {
      "cell_type": "code",
      "source": [
        "stacked_sevens = torch.stack(seven_tensors).float()/255\n",
        "stacked_threes = torch.stack(three_tensors).float()/255\n",
        "print(stacked_threes.shape, stacked_sevens.shape)"
      ],
      "metadata": {
        "colab": {
          "base_uri": "https://localhost:8080/"
        },
        "id": "XEMfnNeeZIKW",
        "outputId": "952e9b08-28ca-4d28-8e3e-9a7889c13afa"
      },
      "execution_count": 11,
      "outputs": [
        {
          "output_type": "stream",
          "name": "stdout",
          "text": [
            "torch.Size([6131, 28, 28]) torch.Size([6265, 28, 28])\n"
          ]
        }
      ]
    },
    {
      "cell_type": "code",
      "source": [
        "print(len(stacked_threes.shape))\n",
        "print(stacked_threes.ndim)"
      ],
      "metadata": {
        "colab": {
          "base_uri": "https://localhost:8080/"
        },
        "id": "EJY7_8YjZ1n2",
        "outputId": "2e826fdd-00be-4eef-850e-2353bf5a6dbb"
      },
      "execution_count": 12,
      "outputs": [
        {
          "output_type": "stream",
          "name": "stdout",
          "text": [
            "3\n",
            "3\n"
          ]
        }
      ]
    },
    {
      "cell_type": "code",
      "source": [
        "mean3 = stacked_threes.mean(0)\n",
        "print(show_image(mean3))"
      ],
      "metadata": {
        "colab": {
          "base_uri": "https://localhost:8080/",
          "height": 103
        },
        "id": "Zlu1BDmjbdcJ",
        "outputId": "d1f74c91-979b-4ffd-de71-4c0875e4538d"
      },
      "execution_count": 13,
      "outputs": [
        {
          "output_type": "stream",
          "name": "stdout",
          "text": [
            "AxesSubplot(0.125,0.125;0.775x0.755)\n"
          ]
        },
        {
          "output_type": "display_data",
          "data": {
            "text/plain": [
              "<Figure size 72x72 with 1 Axes>"
            ],
            "image/png": "[encoded data removed]"
          },
          "metadata": {
            "needs_background": "light"
          }
        }
      ]
    },
    {
      "cell_type": "code",
      "source": [
        "mean7 = stacked_sevens.mean(0)\n",
        "print(show_image(mean7))"
      ],
      "metadata": {
        "colab": {
          "base_uri": "https://localhost:8080/",
          "height": 103
        },
        "id": "-PxkrUFIby1B",
        "outputId": "3c04e3d8-3edb-40db-e77a-f568a9a295a0"
      },
      "execution_count": 14,
      "outputs": [
        {
          "output_type": "stream",
          "name": "stdout",
          "text": [
            "AxesSubplot(0.125,0.125;0.775x0.755)\n"
          ]
        },
        {
          "output_type": "display_data",
          "data": {
            "text/plain": [
              "<Figure size 72x72 with 1 Axes>"
            ],
            "image/png": "[encoded data removed]"
          },
          "metadata": {
            "needs_background": "light"
          }
        }
      ]
    },
    {
      "cell_type": "code",
      "source": [
        "a_3 = stacked_threes[1]\n",
        "print(show_image(a_3))"
      ],
      "metadata": {
        "colab": {
          "base_uri": "https://localhost:8080/",
          "height": 103
        },
        "id": "k2yeQjnicDrx",
        "outputId": "1fd4a7ad-643b-4d3e-ef81-4661502d173b"
      },
      "execution_count": 15,
      "outputs": [
        {
          "output_type": "stream",
          "name": "stdout",
          "text": [
            "AxesSubplot(0.125,0.125;0.775x0.755)\n"
          ]
        },
        {
          "output_type": "display_data",
          "data": {
            "text/plain": [
              "<Figure size 72x72 with 1 Axes>"
            ],
            "image/png": "[encoded data removed]"
          },
          "metadata": {
            "needs_background": "light"
          }
        }
      ]
    },
    {
      "cell_type": "code",
      "source": [
        "dist_3_abs = (a_3 - mean3).abs().mean()\n",
        "dist_3_sqr = ((a_3 - mean3)**2).mean().sqrt()\n",
        "dist_3_abs, dist_3_sqr"
      ],
      "metadata": {
        "colab": {
          "base_uri": "https://localhost:8080/"
        },
        "id": "-pML1XpbcXMS",
        "outputId": "05110419-6940-4b51-f3d5-858cb9caff59"
      },
      "execution_count": 16,
      "outputs": [
        {
          "output_type": "execute_result",
          "data": {
            "text/plain": [
              "(tensor(0.1114), tensor(0.2021))"
            ]
          },
          "metadata": {},
          "execution_count": 16
        }
      ]
    },
    {
      "cell_type": "code",
      "source": [
        "dist_7_abs = (a_3 - mean7).abs().mean()\n",
        "dist_7_sqr = ((a_3 - mean7)**2).mean().sqrt()\n",
        "dist_7_abs, dist_7_sqr"
      ],
      "metadata": {
        "colab": {
          "base_uri": "https://localhost:8080/"
        },
        "id": "AG5hN73fdrWO",
        "outputId": "d3b2b155-cee3-40f2-8acc-786ba866491e"
      },
      "execution_count": 17,
      "outputs": [
        {
          "output_type": "execute_result",
          "data": {
            "text/plain": [
              "(tensor(0.1586), tensor(0.3021))"
            ]
          },
          "metadata": {},
          "execution_count": 17
        }
      ]
    },
    {
      "cell_type": "code",
      "source": [
        "F.l1_loss(a_3.float(), mean7), F.mse_loss(a_3, mean7).sqrt()"
      ],
      "metadata": {
        "colab": {
          "base_uri": "https://localhost:8080/"
        },
        "id": "2jOmTLcXd1t-",
        "outputId": "69eac8ac-a9ec-4b99-f60f-ddcaf0021beb"
      },
      "execution_count": 18,
      "outputs": [
        {
          "output_type": "execute_result",
          "data": {
            "text/plain": [
              "(tensor(0.1586), tensor(0.3021))"
            ]
          },
          "metadata": {},
          "execution_count": 18
        }
      ]
    },
    {
      "cell_type": "markdown",
      "source": [
        "### 4.2.1 NumPy配列とPyTorchテンソル"
      ],
      "metadata": {
        "id": "QT3CuOr_wgt8"
      }
    },
    {
      "cell_type": "code",
      "source": [
        "data = [[1, 2, 3], [4, 5, 6]]\n",
        "arr = array(data)\n",
        "tns = tensor(data)\n",
        "print(arr)  # numpy\n",
        "print(tns)  # pytorch"
      ],
      "metadata": {
        "colab": {
          "base_uri": "https://localhost:8080/"
        },
        "id": "jgv5ac8zeD6v",
        "outputId": "ff74e79f-a451-42a4-a7e7-9184f7dc4124"
      },
      "execution_count": 19,
      "outputs": [
        {
          "output_type": "stream",
          "name": "stdout",
          "text": [
            "[[1 2 3]\n",
            " [4 5 6]]\n",
            "tensor([[1, 2, 3],\n",
            "        [4, 5, 6]])\n"
          ]
        }
      ]
    },
    {
      "cell_type": "code",
      "source": [
        "tns[1]"
      ],
      "metadata": {
        "colab": {
          "base_uri": "https://localhost:8080/"
        },
        "id": "vAkRSmSru50_",
        "outputId": "d6758ccd-4e06-43bc-d0bf-a180f7ca16b8"
      },
      "execution_count": 20,
      "outputs": [
        {
          "output_type": "execute_result",
          "data": {
            "text/plain": [
              "tensor([4, 5, 6])"
            ]
          },
          "metadata": {},
          "execution_count": 20
        }
      ]
    },
    {
      "cell_type": "code",
      "source": [
        "tns[:, 1]"
      ],
      "metadata": {
        "colab": {
          "base_uri": "https://localhost:8080/"
        },
        "id": "4UhjJCELvL45",
        "outputId": "8a2d42e4-7599-49ac-e7b2-efbd3be2b5b0"
      },
      "execution_count": 21,
      "outputs": [
        {
          "output_type": "execute_result",
          "data": {
            "text/plain": [
              "tensor([2, 5])"
            ]
          },
          "metadata": {},
          "execution_count": 21
        }
      ]
    },
    {
      "cell_type": "code",
      "source": [
        "tns[1, 1:3]"
      ],
      "metadata": {
        "colab": {
          "base_uri": "https://localhost:8080/"
        },
        "id": "NW5AbzqvvSPe",
        "outputId": "ed5924b7-e123-4b93-fff0-d230d28213b8"
      },
      "execution_count": 22,
      "outputs": [
        {
          "output_type": "execute_result",
          "data": {
            "text/plain": [
              "tensor([5, 6])"
            ]
          },
          "metadata": {},
          "execution_count": 22
        }
      ]
    },
    {
      "cell_type": "code",
      "source": [
        "tns+1"
      ],
      "metadata": {
        "colab": {
          "base_uri": "https://localhost:8080/"
        },
        "id": "FmK4R67FvYcZ",
        "outputId": "c2c029d6-6b41-4f46-8a5a-264bd4de29f2"
      },
      "execution_count": 23,
      "outputs": [
        {
          "output_type": "execute_result",
          "data": {
            "text/plain": [
              "tensor([[2, 3, 4],\n",
              "        [5, 6, 7]])"
            ]
          },
          "metadata": {},
          "execution_count": 23
        }
      ]
    },
    {
      "cell_type": "code",
      "source": [
        "tns.type()"
      ],
      "metadata": {
        "colab": {
          "base_uri": "https://localhost:8080/",
          "height": 36
        },
        "id": "lQQk_EgVvcbF",
        "outputId": "c220ed44-65a6-43fa-d586-5c25c2578742"
      },
      "execution_count": 24,
      "outputs": [
        {
          "output_type": "execute_result",
          "data": {
            "text/plain": [
              "'torch.LongTensor'"
            ],
            "application/vnd.google.colaboratory.intrinsic+json": {
              "type": "string"
            }
          },
          "metadata": {},
          "execution_count": 24
        }
      ]
    },
    {
      "cell_type": "code",
      "source": [
        "type(tns)"
      ],
      "metadata": {
        "colab": {
          "base_uri": "https://localhost:8080/"
        },
        "id": "cPf4gL54vf3T",
        "outputId": "56554336-54bf-4051-ccaa-dc3faea8c225"
      },
      "execution_count": 25,
      "outputs": [
        {
          "output_type": "execute_result",
          "data": {
            "text/plain": [
              "torch.Tensor"
            ]
          },
          "metadata": {},
          "execution_count": 25
        }
      ]
    },
    {
      "cell_type": "code",
      "source": [
        "tns*1.5"
      ],
      "metadata": {
        "colab": {
          "base_uri": "https://localhost:8080/"
        },
        "id": "ntbaLtkuvhJJ",
        "outputId": "7ff15ae0-58c2-49c1-8ac4-6c3666520a46"
      },
      "execution_count": 26,
      "outputs": [
        {
          "output_type": "execute_result",
          "data": {
            "text/plain": [
              "tensor([[1.5000, 3.0000, 4.5000],\n",
              "        [6.0000, 7.5000, 9.0000]])"
            ]
          },
          "metadata": {},
          "execution_count": 26
        }
      ]
    },
    {
      "cell_type": "markdown",
      "source": [
        "## 4.3 ブロードキャストを用いたメトリックの計算"
      ],
      "metadata": {
        "id": "vPt2yW_FvnNI"
      }
    },
    {
      "cell_type": "code",
      "source": [
        "valid_3_tens = torch.stack([tensor(Image.open(o)) for o in (path/'valid'/'3').ls()])\n",
        "valid_3_tens = valid_3_tens.float()/255\n",
        "valid_7_tens = torch.stack([tensor(Image.open(o)) for o in (path/'valid'/'7').ls()])\n",
        "valid_7_tens = valid_7_tens.float()/255\n",
        "print(valid_3_tens.shape, valid_7_tens.shape)"
      ],
      "metadata": {
        "colab": {
          "base_uri": "https://localhost:8080/"
        },
        "id": "znu4vEb2wrUX",
        "outputId": "8a6a72fa-1e27-43d6-bf07-33057206d574"
      },
      "execution_count": 27,
      "outputs": [
        {
          "output_type": "stream",
          "name": "stdout",
          "text": [
            "torch.Size([1010, 28, 28]) torch.Size([1028, 28, 28])\n"
          ]
        }
      ]
    },
    {
      "cell_type": "code",
      "source": [
        "def mnist_distance(a, b): return (a-b).abs().mean((-1, -2))\n",
        "mnist_distance(a_3, mean3)"
      ],
      "metadata": {
        "colab": {
          "base_uri": "https://localhost:8080/"
        },
        "id": "bVbXZNdnyBeJ",
        "outputId": "17797ce9-7890-4cf5-de3b-dd15c912c0db"
      },
      "execution_count": 28,
      "outputs": [
        {
          "output_type": "execute_result",
          "data": {
            "text/plain": [
              "tensor(0.1114)"
            ]
          },
          "metadata": {},
          "execution_count": 28
        }
      ]
    },
    {
      "cell_type": "code",
      "source": [
        "valid_3_dist = mnist_distance(valid_3_tens, mean3)\n",
        "print(valid_3_dist)\n",
        "print(valid_3_dist.shape)"
      ],
      "metadata": {
        "colab": {
          "base_uri": "https://localhost:8080/"
        },
        "id": "sJmTexeMysfm",
        "outputId": "9a136a30-b7a1-42c7-ca2e-85793ee54938"
      },
      "execution_count": 29,
      "outputs": [
        {
          "output_type": "stream",
          "name": "stdout",
          "text": [
            "tensor([0.1498, 0.1097, 0.1433,  ..., 0.1445, 0.1611, 0.1198])\n",
            "torch.Size([1010])\n"
          ]
        }
      ]
    },
    {
      "cell_type": "code",
      "source": [
        "tensor([1, 2, 3]) + tensor(1)"
      ],
      "metadata": {
        "colab": {
          "base_uri": "https://localhost:8080/"
        },
        "id": "Jmz4dKp-z9F6",
        "outputId": "dc02bb37-35a7-4daf-bfd5-6435c228a64c"
      },
      "execution_count": 30,
      "outputs": [
        {
          "output_type": "execute_result",
          "data": {
            "text/plain": [
              "tensor([2, 3, 4])"
            ]
          },
          "metadata": {},
          "execution_count": 30
        }
      ]
    },
    {
      "cell_type": "code",
      "source": [
        "(valid_3_tens-mean3).shape"
      ],
      "metadata": {
        "colab": {
          "base_uri": "https://localhost:8080/"
        },
        "id": "HbZrDAOAQWUs",
        "outputId": "e853ed65-5afb-4a67-b304-d2fea7920892"
      },
      "execution_count": 31,
      "outputs": [
        {
          "output_type": "execute_result",
          "data": {
            "text/plain": [
              "torch.Size([1010, 28, 28])"
            ]
          },
          "metadata": {},
          "execution_count": 31
        }
      ]
    },
    {
      "cell_type": "code",
      "source": [
        "def is_3(x):\n",
        "  return mnist_distance(x, mean3) < mnist_distance(x, mean7)"
      ],
      "metadata": {
        "id": "jntTrxogQiCV"
      },
      "execution_count": 32,
      "outputs": []
    },
    {
      "cell_type": "code",
      "source": [
        "print(is_3(a_3), is_3(a_3).float())"
      ],
      "metadata": {
        "colab": {
          "base_uri": "https://localhost:8080/"
        },
        "id": "c80P67SpRirv",
        "outputId": "ac7f3417-6f74-4dd5-86d2-91191454e4ba"
      },
      "execution_count": 33,
      "outputs": [
        {
          "output_type": "stream",
          "name": "stdout",
          "text": [
            "tensor(True) tensor(1.)\n"
          ]
        }
      ]
    },
    {
      "cell_type": "code",
      "source": [
        "result = is_3(valid_3_tens)"
      ],
      "metadata": {
        "id": "Vre_er4vRxCN"
      },
      "execution_count": 34,
      "outputs": []
    },
    {
      "cell_type": "code",
      "source": [
        "valid_3_tens.shape[0] - len(result)"
      ],
      "metadata": {
        "colab": {
          "base_uri": "https://localhost:8080/"
        },
        "id": "5ojOxpgyRzlk",
        "outputId": "cc627cd5-3b00-43b3-b5b9-cad3218acb8f"
      },
      "execution_count": 35,
      "outputs": [
        {
          "output_type": "execute_result",
          "data": {
            "text/plain": [
              "0"
            ]
          },
          "metadata": {},
          "execution_count": 35
        }
      ]
    },
    {
      "cell_type": "code",
      "source": [
        "accuracy_3s = is_3(valid_3_tens).float().mean()\n",
        "accuracy_7s = (1 - is_3(valid_7_tens).float()).mean()\n",
        "print(accuracy_3s, accuracy_7s, (accuracy_3s+accuracy_7s)/2)"
      ],
      "metadata": {
        "colab": {
          "base_uri": "https://localhost:8080/"
        },
        "id": "E4vgE_YBR62t",
        "outputId": "2a5813f8-39ce-46fe-e84f-204c1407fdc6"
      },
      "execution_count": 36,
      "outputs": [
        {
          "output_type": "stream",
          "name": "stdout",
          "text": [
            "tensor(0.9168) tensor(0.9854) tensor(0.9511)\n"
          ]
        }
      ]
    },
    {
      "cell_type": "markdown",
      "source": [
        "## 4.4 確率的勾配降下法（SGD）"
      ],
      "metadata": {
        "id": "69vJ8b1dSfyl"
      }
    },
    {
      "cell_type": "code",
      "source": [
        "def pr_three(x, w): return (x*w).sum()"
      ],
      "metadata": {
        "id": "sZ_3SZ8aShPq"
      },
      "execution_count": 37,
      "outputs": []
    },
    {
      "cell_type": "code",
      "source": [
        "def f(x): return x**2"
      ],
      "metadata": {
        "id": "2RwQw-zsVLJm"
      },
      "execution_count": 38,
      "outputs": []
    },
    {
      "cell_type": "code",
      "source": [
        "!pip install utils"
      ],
      "metadata": {
        "colab": {
          "base_uri": "https://localhost:8080/"
        },
        "id": "UPTu_afpYHKH",
        "outputId": "a6907bb0-273f-4deb-af42-b42076c46438"
      },
      "execution_count": 39,
      "outputs": [
        {
          "output_type": "stream",
          "name": "stdout",
          "text": [
            "Looking in indexes: https://pypi.org/simple, https://us-python.pkg.dev/colab-wheels/public/simple/\n",
            "Collecting utils\n",
            "  Downloading utils-1.0.1-py2.py3-none-any.whl (21 kB)\n",
            "Installing collected packages: utils\n",
            "Successfully installed utils-1.0.1\n"
          ]
        }
      ]
    },
    {
      "cell_type": "code",
      "source": [
        "import matplotlib.pyplot as plt\n",
        "from utils import *\n",
        "import inspect"
      ],
      "metadata": {
        "id": "K57eBOyOXt9b"
      },
      "execution_count": 40,
      "outputs": []
    },
    {
      "cell_type": "code",
      "source": [
        "xt = tensor(3.)\n",
        "print(xt)"
      ],
      "metadata": {
        "colab": {
          "base_uri": "https://localhost:8080/"
        },
        "id": "R49GFeniZYJK",
        "outputId": "8174a24e-1bfb-43a1-c901-f5c2f3cb9bb5"
      },
      "execution_count": 41,
      "outputs": [
        {
          "output_type": "stream",
          "name": "stdout",
          "text": [
            "tensor(3.)\n"
          ]
        }
      ]
    },
    {
      "cell_type": "code",
      "source": [
        "xt.requires_grad_()"
      ],
      "metadata": {
        "colab": {
          "base_uri": "https://localhost:8080/"
        },
        "id": "hhnyNFBPcifr",
        "outputId": "27bee484-0ee1-4c0c-d2e4-653c94fe9b24"
      },
      "execution_count": 42,
      "outputs": [
        {
          "output_type": "execute_result",
          "data": {
            "text/plain": [
              "tensor(3., requires_grad=True)"
            ]
          },
          "metadata": {},
          "execution_count": 42
        }
      ]
    },
    {
      "cell_type": "code",
      "source": [
        "xt = xt.requires_grad_()"
      ],
      "metadata": {
        "id": "GsE8iC0dclzV"
      },
      "execution_count": 43,
      "outputs": []
    },
    {
      "cell_type": "code",
      "source": [
        "xt"
      ],
      "metadata": {
        "colab": {
          "base_uri": "https://localhost:8080/"
        },
        "id": "ksVHPJjZcuLq",
        "outputId": "f8c85f0d-2c3a-4397-fc64-ded2bd1fdefd"
      },
      "execution_count": 44,
      "outputs": [
        {
          "output_type": "execute_result",
          "data": {
            "text/plain": [
              "tensor(3., requires_grad=True)"
            ]
          },
          "metadata": {},
          "execution_count": 44
        }
      ]
    },
    {
      "cell_type": "code",
      "source": [
        "yt = f(xt)\n",
        "yt"
      ],
      "metadata": {
        "colab": {
          "base_uri": "https://localhost:8080/"
        },
        "id": "QE_ibXY4cup2",
        "outputId": "b7e874ce-eaf4-4be2-bee2-9d20c66780dd"
      },
      "execution_count": 45,
      "outputs": [
        {
          "output_type": "execute_result",
          "data": {
            "text/plain": [
              "tensor(9., grad_fn=<PowBackward0>)"
            ]
          },
          "metadata": {},
          "execution_count": 45
        }
      ]
    },
    {
      "cell_type": "code",
      "source": [
        "yt.backward()"
      ],
      "metadata": {
        "id": "u9b2YiLldJ7A"
      },
      "execution_count": 46,
      "outputs": []
    },
    {
      "cell_type": "code",
      "source": [
        "xt.grad"
      ],
      "metadata": {
        "colab": {
          "base_uri": "https://localhost:8080/"
        },
        "id": "bxNaVsQddaZW",
        "outputId": "89ffbb99-a583-499f-feaa-b6d718a9fae0"
      },
      "execution_count": 47,
      "outputs": [
        {
          "output_type": "execute_result",
          "data": {
            "text/plain": [
              "tensor(6.)"
            ]
          },
          "metadata": {},
          "execution_count": 47
        }
      ]
    },
    {
      "cell_type": "code",
      "source": [
        "xt = tensor([3., 4., 10.]).requires_grad_()\n",
        "xt"
      ],
      "metadata": {
        "id": "5W2Zg6g9dcg7",
        "colab": {
          "base_uri": "https://localhost:8080/"
        },
        "outputId": "ac8de573-79ed-4d54-8382-a424288401c1"
      },
      "execution_count": 48,
      "outputs": [
        {
          "output_type": "execute_result",
          "data": {
            "text/plain": [
              "tensor([ 3.,  4., 10.], requires_grad=True)"
            ]
          },
          "metadata": {},
          "execution_count": 48
        }
      ]
    },
    {
      "cell_type": "code",
      "source": [
        "def f(x): return (x**2).sum()\n",
        "\n",
        "yt = f(xt)\n",
        "yt"
      ],
      "metadata": {
        "colab": {
          "base_uri": "https://localhost:8080/"
        },
        "id": "jZKxM5Si70pw",
        "outputId": "ce79a57c-4ed0-4a10-f945-2c3a2b7dd9b3"
      },
      "execution_count": 49,
      "outputs": [
        {
          "output_type": "execute_result",
          "data": {
            "text/plain": [
              "tensor(125., grad_fn=<SumBackward0>)"
            ]
          },
          "metadata": {},
          "execution_count": 49
        }
      ]
    },
    {
      "cell_type": "code",
      "source": [
        "yt.backward()\n",
        "xt.grad"
      ],
      "metadata": {
        "colab": {
          "base_uri": "https://localhost:8080/"
        },
        "id": "kTjD8dPY79S-",
        "outputId": "97656ef2-8139-4090-96de-4b90401f4ff6"
      },
      "execution_count": 50,
      "outputs": [
        {
          "output_type": "execute_result",
          "data": {
            "text/plain": [
              "tensor([ 6.,  8., 20.])"
            ]
          },
          "metadata": {},
          "execution_count": 50
        }
      ]
    },
    {
      "cell_type": "code",
      "source": [
        "time = torch.arange(0, 20).float()\n",
        "time"
      ],
      "metadata": {
        "colab": {
          "base_uri": "https://localhost:8080/"
        },
        "id": "dyniHJ0_95xR",
        "outputId": "747f7f42-068c-440d-f9d4-2ed832089888"
      },
      "execution_count": 51,
      "outputs": [
        {
          "output_type": "execute_result",
          "data": {
            "text/plain": [
              "tensor([ 0.,  1.,  2.,  3.,  4.,  5.,  6.,  7.,  8.,  9., 10., 11., 12., 13.,\n",
              "        14., 15., 16., 17., 18., 19.])"
            ]
          },
          "metadata": {},
          "execution_count": 51
        }
      ]
    },
    {
      "cell_type": "code",
      "source": [
        "speed = torch.randn(20)*3 + 0.75*(time-9.5)**2 + 1\n",
        "plt.scatter(time, speed)"
      ],
      "metadata": {
        "colab": {
          "base_uri": "https://localhost:8080/",
          "height": 283
        },
        "id": "8VHgl9Sb-sz3",
        "outputId": "59c7523c-5b44-4343-9d62-dca654ef0aa6"
      },
      "execution_count": 52,
      "outputs": [
        {
          "output_type": "execute_result",
          "data": {
            "text/plain": [
              "<matplotlib.collections.PathCollection at 0x7f5aa36ca3d0>"
            ]
          },
          "metadata": {},
          "execution_count": 52
        },
        {
          "output_type": "display_data",
          "data": {
            "text/plain": [
              "<Figure size 432x288 with 1 Axes>"
            ],
            "image/png": "[encoded data removed]"
          },
          "metadata": {
            "needs_background": "light"
          }
        }
      ]
    },
    {
      "cell_type": "code",
      "source": [
        "def f(t, params):\n",
        "  a, b, c = params\n",
        "  return a*(t**2) + (b*t) + c"
      ],
      "metadata": {
        "id": "3LuXHoKl-_QA"
      },
      "execution_count": 53,
      "outputs": []
    },
    {
      "cell_type": "code",
      "source": [
        "def mse(preds, targets):\n",
        "  return ((preds-targets)**2).mean()"
      ],
      "metadata": {
        "id": "_Vp0Mqqg_lV4"
      },
      "execution_count": 54,
      "outputs": []
    },
    {
      "cell_type": "code",
      "source": [
        "params = torch.randn(3).requires_grad_()\n",
        "print(params)"
      ],
      "metadata": {
        "colab": {
          "base_uri": "https://localhost:8080/"
        },
        "id": "1B-Ki7_9BsJI",
        "outputId": "ac95ea36-daeb-4050-f8a1-dd054f1e0aa6"
      },
      "execution_count": 55,
      "outputs": [
        {
          "output_type": "stream",
          "name": "stdout",
          "text": [
            "tensor([-0.9121, -0.4159,  0.4683], requires_grad=True)\n"
          ]
        }
      ]
    },
    {
      "cell_type": "code",
      "source": [
        "preds = f(time, params)"
      ],
      "metadata": {
        "id": "DYmiek0PCDVp"
      },
      "execution_count": 56,
      "outputs": []
    },
    {
      "cell_type": "code",
      "source": [
        "def show_preds(preds, ax=None):\n",
        "  if ax is None: ax=plt.subplots()[1]\n",
        "  ax.scatter(time, speed)\n",
        "  ax.scatter(time, to_np(preds), color='red')\n",
        "  ax.set_ylim(-300, 100)\n",
        "\n",
        "show_preds(preds)"
      ],
      "metadata": {
        "colab": {
          "base_uri": "https://localhost:8080/",
          "height": 269
        },
        "id": "OR19yicTCIOt",
        "outputId": "063b5f61-624b-4e37-f328-0f1215464df7"
      },
      "execution_count": 57,
      "outputs": [
        {
          "output_type": "display_data",
          "data": {
            "text/plain": [
              "<Figure size 432x288 with 1 Axes>"
            ],
            "image/png": "[encoded data removed]"
          },
          "metadata": {
            "needs_background": "light"
          }
        }
      ]
    },
    {
      "cell_type": "code",
      "source": [
        "loss = mse(preds, speed)\n",
        "loss"
      ],
      "metadata": {
        "colab": {
          "base_uri": "https://localhost:8080/"
        },
        "id": "EV_DjdBdCeS_",
        "outputId": "a55da2fc-7ca5-426e-dcad-7383f4a2188f"
      },
      "execution_count": 58,
      "outputs": [
        {
          "output_type": "execute_result",
          "data": {
            "text/plain": [
              "tensor(33129.9805, grad_fn=<MeanBackward0>)"
            ]
          },
          "metadata": {},
          "execution_count": 58
        }
      ]
    },
    {
      "cell_type": "code",
      "source": [
        "loss.backward()\n",
        "params.grad"
      ],
      "metadata": {
        "colab": {
          "base_uri": "https://localhost:8080/"
        },
        "id": "XSF6anmPCtJY",
        "outputId": "029a07fc-bd25-439b-ab79-66b10925304b"
      },
      "execution_count": 59,
      "outputs": [
        {
          "output_type": "execute_result",
          "data": {
            "text/plain": [
              "tensor([-60491.8828,  -3887.1096,   -284.8268])"
            ]
          },
          "metadata": {},
          "execution_count": 59
        }
      ]
    },
    {
      "cell_type": "code",
      "source": [
        "params.grad * 1e-5"
      ],
      "metadata": {
        "colab": {
          "base_uri": "https://localhost:8080/"
        },
        "id": "nkvno-oxC--D",
        "outputId": "24a78d10-00f7-43bc-ca31-6148948a00e6"
      },
      "execution_count": 60,
      "outputs": [
        {
          "output_type": "execute_result",
          "data": {
            "text/plain": [
              "tensor([-0.6049, -0.0389, -0.0028])"
            ]
          },
          "metadata": {},
          "execution_count": 60
        }
      ]
    },
    {
      "cell_type": "code",
      "source": [
        "params"
      ],
      "metadata": {
        "colab": {
          "base_uri": "https://localhost:8080/"
        },
        "id": "iHji0UupDPQt",
        "outputId": "74316eb5-ce7b-465b-924c-40462e14a203"
      },
      "execution_count": 61,
      "outputs": [
        {
          "output_type": "execute_result",
          "data": {
            "text/plain": [
              "tensor([-0.9121, -0.4159,  0.4683], requires_grad=True)"
            ]
          },
          "metadata": {},
          "execution_count": 61
        }
      ]
    },
    {
      "cell_type": "code",
      "source": [
        "lr = 1e-5\n",
        "params.data -= lr * params.grad.data\n",
        "params.grad = None"
      ],
      "metadata": {
        "id": "jsFvsg-XDPuP"
      },
      "execution_count": 62,
      "outputs": []
    },
    {
      "cell_type": "code",
      "source": [
        "preds = f(time, params)\n",
        "mse(preds, speed)"
      ],
      "metadata": {
        "colab": {
          "base_uri": "https://localhost:8080/"
        },
        "id": "2uK06L_-D2QG",
        "outputId": "321e8d63-e8d5-4af2-e53c-e88e9ab02b43"
      },
      "execution_count": 63,
      "outputs": [
        {
          "output_type": "execute_result",
          "data": {
            "text/plain": [
              "tensor(6765.6221, grad_fn=<MeanBackward0>)"
            ]
          },
          "metadata": {},
          "execution_count": 63
        }
      ]
    },
    {
      "cell_type": "code",
      "source": [
        "show_preds(preds)"
      ],
      "metadata": {
        "colab": {
          "base_uri": "https://localhost:8080/",
          "height": 269
        },
        "id": "UUtlhIe2ECCf",
        "outputId": "896b8b67-df18-43e5-9f10-3fbefdadae25"
      },
      "execution_count": 64,
      "outputs": [
        {
          "output_type": "display_data",
          "data": {
            "text/plain": [
              "<Figure size 432x288 with 1 Axes>"
            ],
            "image/png": "[encoded data removed]"
          },
          "metadata": {
            "needs_background": "light"
          }
        }
      ]
    },
    {
      "cell_type": "code",
      "source": [
        "def apply_step(params, prn=True):\n",
        "  preds = f(time, params)\n",
        "  loss = mse(preds, speed)\n",
        "  loss.backward()\n",
        "  params.data -= lr * params.grad.data\n",
        "  params.grad = None\n",
        "  if prn: print(loss.item())\n",
        "  return preds"
      ],
      "metadata": {
        "id": "xI_76pMmEEdx"
      },
      "execution_count": 65,
      "outputs": []
    },
    {
      "cell_type": "code",
      "source": [
        "for i in range(10):\n",
        "  apply_step(params)"
      ],
      "metadata": {
        "colab": {
          "base_uri": "https://localhost:8080/"
        },
        "id": "NFcBCahsEkVs",
        "outputId": "232860a6-ec16-4372-b171-2ba81e36aa7a"
      },
      "execution_count": 66,
      "outputs": [
        {
          "output_type": "stream",
          "name": "stdout",
          "text": [
            "6765.6220703125\n",
            "1776.6761474609375\n",
            "832.6126098632812\n",
            "653.9638671875\n",
            "620.155029296875\n",
            "613.754150390625\n",
            "612.539794921875\n",
            "612.3069458007812\n",
            "612.2597045898438\n",
            "612.2476196289062\n"
          ]
        }
      ]
    },
    {
      "cell_type": "code",
      "source": [
        "_, axs = plt.subplots(1, 4, figsize=(12, 3))\n",
        "for ax in axs: show_preds(apply_step(params, False), ax)\n",
        "plt.tight_layout()"
      ],
      "metadata": {
        "colab": {
          "base_uri": "https://localhost:8080/",
          "height": 174
        },
        "id": "0qPdz88UawDm",
        "outputId": "2ed15271-8d7d-4d9e-b353-9507f7f70ae0"
      },
      "execution_count": 67,
      "outputs": [
        {
          "output_type": "display_data",
          "data": {
            "text/plain": [
              "<Figure size 864x216 with 4 Axes>"
            ],
            "image/png": "[encoded data removed]"
          },
          "metadata": {
            "needs_background": "light"
          }
        }
      ]
    },
    {
      "cell_type": "markdown",
      "source": [
        "## 4.5 MNISTのロス関数"
      ],
      "metadata": {
        "id": "3ppQXKgTa__2"
      }
    },
    {
      "cell_type": "code",
      "source": [
        "train_x = torch.cat([stacked_threes, stacked_sevens]).view(-1, 28*28)"
      ],
      "metadata": {
        "id": "4KSaDIxv5I2R"
      },
      "execution_count": 68,
      "outputs": []
    },
    {
      "cell_type": "code",
      "source": [
        "train_x.shape"
      ],
      "metadata": {
        "colab": {
          "base_uri": "https://localhost:8080/"
        },
        "id": "Kl9dHpK26Ije",
        "outputId": "e68ce721-969b-4dca-9086-652772eb830d"
      },
      "execution_count": 69,
      "outputs": [
        {
          "output_type": "execute_result",
          "data": {
            "text/plain": [
              "torch.Size([12396, 784])"
            ]
          },
          "metadata": {},
          "execution_count": 69
        }
      ]
    },
    {
      "cell_type": "code",
      "source": [
        "print(stacked_threes.shape)\n",
        "print(stacked_sevens.shape)"
      ],
      "metadata": {
        "colab": {
          "base_uri": "https://localhost:8080/"
        },
        "id": "HN_d13fy6J5k",
        "outputId": "4fe4fcc6-f188-4d2e-fb80-9d1fa7c3f69e"
      },
      "execution_count": 70,
      "outputs": [
        {
          "output_type": "stream",
          "name": "stdout",
          "text": [
            "torch.Size([6131, 28, 28])\n",
            "torch.Size([6265, 28, 28])\n"
          ]
        }
      ]
    },
    {
      "cell_type": "code",
      "source": [
        "train_y = tensor([1]*len(threes) + [0]*len(sevens)).unsqueeze(1)"
      ],
      "metadata": {
        "id": "e6ms6WOl6SoD"
      },
      "execution_count": 71,
      "outputs": []
    },
    {
      "cell_type": "code",
      "source": [
        "print(train_x.shape)\n",
        "print(train_y.shape)"
      ],
      "metadata": {
        "colab": {
          "base_uri": "https://localhost:8080/"
        },
        "id": "A5HheVPe8mbN",
        "outputId": "0ecc6f89-3692-41f2-9bcd-6e85604e4d43"
      },
      "execution_count": 72,
      "outputs": [
        {
          "output_type": "stream",
          "name": "stdout",
          "text": [
            "torch.Size([12396, 784])\n",
            "torch.Size([12396, 1])\n"
          ]
        }
      ]
    },
    {
      "cell_type": "code",
      "source": [
        "dset = list(zip(train_x, train_y))\n",
        "x, y = dset[0] # 768のリスト, 1のリスト\n",
        "x.shape, y"
      ],
      "metadata": {
        "colab": {
          "base_uri": "https://localhost:8080/"
        },
        "id": "IqZ1_XKX-_Na",
        "outputId": "a0d20ff0-ff69-42a6-e592-a815ae44b750"
      },
      "execution_count": 73,
      "outputs": [
        {
          "output_type": "execute_result",
          "data": {
            "text/plain": [
              "(torch.Size([784]), tensor([1]))"
            ]
          },
          "metadata": {},
          "execution_count": 73
        }
      ]
    },
    {
      "cell_type": "code",
      "source": [
        "# 検証セットにも同じように\n",
        "valid_x = torch.cat([valid_3_tens, valid_7_tens]).view(-1, 28*28)\n",
        "valid_y = tensor([1]*len(valid_3_tens) + [0]*len(valid_7_tens)).unsqueeze(1)\n",
        "valid_dset = list(zip(valid_x, valid_y))"
      ],
      "metadata": {
        "id": "KONnysrv_cC3"
      },
      "execution_count": 74,
      "outputs": []
    },
    {
      "cell_type": "code",
      "source": [
        "def init_params(size, std=1.0): return (torch.randn(size)*std).requires_grad_()\n",
        "weights = init_params((28*28, 1))\n",
        "bias = init_params(1)"
      ],
      "metadata": {
        "id": "j1p-ONpFA8Kq"
      },
      "execution_count": 75,
      "outputs": []
    },
    {
      "cell_type": "code",
      "source": [
        "weights.T.shape\n",
        "(train_x[0]*weights.T).sum() + bias"
      ],
      "metadata": {
        "colab": {
          "base_uri": "https://localhost:8080/"
        },
        "id": "7DslbEzWB9rS",
        "outputId": "bcc37b12-51eb-4ef0-cdb6-ae867a90a5b7"
      },
      "execution_count": 76,
      "outputs": [
        {
          "output_type": "execute_result",
          "data": {
            "text/plain": [
              "tensor([-6.0778], grad_fn=<AddBackward0>)"
            ]
          },
          "metadata": {},
          "execution_count": 76
        }
      ]
    },
    {
      "cell_type": "code",
      "source": [
        "def linear1(xb): \n",
        "  print(xb.shape)\n",
        "  print(weights.shape)\n",
        "  return xb@weights + bias\n",
        "preds = linear1(train_x)\n",
        "preds.shape\n",
        "preds"
      ],
      "metadata": {
        "colab": {
          "base_uri": "https://localhost:8080/"
        },
        "id": "BfNQuAGDCSJm",
        "outputId": "7406e01a-a124-4c8e-b0e9-b8f6daba70b5"
      },
      "execution_count": 77,
      "outputs": [
        {
          "output_type": "stream",
          "name": "stdout",
          "text": [
            "torch.Size([12396, 784])\n",
            "torch.Size([784, 1])\n"
          ]
        },
        {
          "output_type": "execute_result",
          "data": {
            "text/plain": [
              "tensor([[ -6.0778],\n",
              "        [  1.9493],\n",
              "        [ -4.8041],\n",
              "        ...,\n",
              "        [ -0.8668],\n",
              "        [-13.6783],\n",
              "        [  8.4941]], grad_fn=<AddBackward0>)"
            ]
          },
          "metadata": {},
          "execution_count": 77
        }
      ]
    },
    {
      "cell_type": "code",
      "source": [
        "corrects = (preds>0.0).float() == train_y\n",
        "corrects"
      ],
      "metadata": {
        "colab": {
          "base_uri": "https://localhost:8080/"
        },
        "id": "3jr6-MAVJOjh",
        "outputId": "570425cd-7b3f-4d18-fe35-a500c73a174c"
      },
      "execution_count": 78,
      "outputs": [
        {
          "output_type": "execute_result",
          "data": {
            "text/plain": [
              "tensor([[False],\n",
              "        [ True],\n",
              "        [False],\n",
              "        ...,\n",
              "        [ True],\n",
              "        [ True],\n",
              "        [False]])"
            ]
          },
          "metadata": {},
          "execution_count": 78
        }
      ]
    },
    {
      "cell_type": "code",
      "source": [
        "corrects.float().mean().item()"
      ],
      "metadata": {
        "colab": {
          "base_uri": "https://localhost:8080/"
        },
        "id": "Bl1a1vvlKG7l",
        "outputId": "428bea0d-394d-444c-aecc-f94503ce9455"
      },
      "execution_count": 79,
      "outputs": [
        {
          "output_type": "execute_result",
          "data": {
            "text/plain": [
              "0.4443368911743164"
            ]
          },
          "metadata": {},
          "execution_count": 79
        }
      ]
    },
    {
      "cell_type": "code",
      "source": [
        "trgts = tensor(1, 0, 1)\n",
        "prds = tensor([0.9, 0.4, 0.2])"
      ],
      "metadata": {
        "id": "18xuyZ04KN5S"
      },
      "execution_count": 80,
      "outputs": []
    },
    {
      "cell_type": "code",
      "source": [
        "def mnist_loss(predictions, targets):\n",
        "  return torch.where(targets==1, 1-predictions, predictions).mean()"
      ],
      "metadata": {
        "id": "IPTLfGqYPJ_u"
      },
      "execution_count": 81,
      "outputs": []
    },
    {
      "cell_type": "code",
      "source": [
        "torch.where(trgts==1, 1-prds, prds)"
      ],
      "metadata": {
        "colab": {
          "base_uri": "https://localhost:8080/"
        },
        "id": "WMqOZ3RbP6Ye",
        "outputId": "db027d32-4a7d-4bde-fd04-58eb282bf36f"
      },
      "execution_count": 82,
      "outputs": [
        {
          "output_type": "execute_result",
          "data": {
            "text/plain": [
              "tensor([0.1000, 0.4000, 0.8000])"
            ]
          },
          "metadata": {},
          "execution_count": 82
        }
      ]
    },
    {
      "cell_type": "code",
      "source": [
        "mnist_loss(prds, trgts)"
      ],
      "metadata": {
        "colab": {
          "base_uri": "https://localhost:8080/"
        },
        "id": "m59nsng4QYAo",
        "outputId": "ea4924de-c4c2-44de-b90d-b2531834c0be"
      },
      "execution_count": 83,
      "outputs": [
        {
          "output_type": "execute_result",
          "data": {
            "text/plain": [
              "tensor(0.4333)"
            ]
          },
          "metadata": {},
          "execution_count": 83
        }
      ]
    },
    {
      "cell_type": "code",
      "source": [
        "mnist_loss(tensor([0.9, 0.4, 0.8]), trgts)"
      ],
      "metadata": {
        "colab": {
          "base_uri": "https://localhost:8080/"
        },
        "id": "SfmLTOa_Q4Dj",
        "outputId": "0dce6514-d470-4b7c-ecc8-e4399ce6fb5c"
      },
      "execution_count": 84,
      "outputs": [
        {
          "output_type": "execute_result",
          "data": {
            "text/plain": [
              "tensor(0.2333)"
            ]
          },
          "metadata": {},
          "execution_count": 84
        }
      ]
    },
    {
      "cell_type": "markdown",
      "source": [
        "### 4.5.1 シグモイド"
      ],
      "metadata": {
        "id": "CTs_py3CRIFF"
      }
    },
    {
      "cell_type": "code",
      "source": [
        "def sigmoid(x): return 1/(1+torch.exp(-x))"
      ],
      "metadata": {
        "id": "dbDVFfM7X1gK"
      },
      "execution_count": 85,
      "outputs": []
    },
    {
      "cell_type": "code",
      "source": [
        "def mnist_loss(predictions, targets):\n",
        "  predictions = predictions.sigmoid()\n",
        "  return torch.where(targets==1, 1-predictions, predictions).mean()"
      ],
      "metadata": {
        "id": "1GlltZ3BX8z2"
      },
      "execution_count": 86,
      "outputs": []
    },
    {
      "cell_type": "markdown",
      "source": [
        "### 4.5.2 SGDとミニバッチ"
      ],
      "metadata": {
        "id": "Ie1jD9UbYfsJ"
      }
    },
    {
      "cell_type": "code",
      "source": [
        "coll = range(15)\n",
        "dl = DataLoader(coll, batch_size=5, shuffle=True)"
      ],
      "metadata": {
        "id": "_7lbiqlhancd"
      },
      "execution_count": 87,
      "outputs": []
    },
    {
      "cell_type": "code",
      "source": [
        "dl"
      ],
      "metadata": {
        "colab": {
          "base_uri": "https://localhost:8080/"
        },
        "id": "PruFSk2wclAo",
        "outputId": "fa8d3894-dd54-43c1-d8fa-f4ef6fece631"
      },
      "execution_count": 88,
      "outputs": [
        {
          "output_type": "execute_result",
          "data": {
            "text/plain": [
              "<fastai.data.load.DataLoader at 0x7f5a9bf33890>"
            ]
          },
          "metadata": {},
          "execution_count": 88
        }
      ]
    },
    {
      "cell_type": "code",
      "source": [
        "list(dl)"
      ],
      "metadata": {
        "colab": {
          "base_uri": "https://localhost:8080/"
        },
        "id": "5I43q_TVcmeB",
        "outputId": "d801acda-9a24-4032-ef81-3ec3abd5cc7f"
      },
      "execution_count": 89,
      "outputs": [
        {
          "output_type": "execute_result",
          "data": {
            "text/plain": [
              "[tensor([ 0, 14,  3,  8, 10]),\n",
              " tensor([ 7,  1, 11,  5,  2]),\n",
              " tensor([13,  9,  6,  4, 12])]"
            ]
          },
          "metadata": {},
          "execution_count": 89
        }
      ]
    },
    {
      "cell_type": "code",
      "source": [
        "ds = L(enumerate(string.ascii_lowercase))\n",
        "ds"
      ],
      "metadata": {
        "colab": {
          "base_uri": "https://localhost:8080/"
        },
        "id": "FS5k5jLocn5T",
        "outputId": "4fc8a8f4-1b82-4417-f2b6-c186354fb7b3"
      },
      "execution_count": 90,
      "outputs": [
        {
          "output_type": "execute_result",
          "data": {
            "text/plain": [
              "(#26) [(0, 'a'),(1, 'b'),(2, 'c'),(3, 'd'),(4, 'e'),(5, 'f'),(6, 'g'),(7, 'h'),(8, 'i'),(9, 'j')...]"
            ]
          },
          "metadata": {},
          "execution_count": 90
        }
      ]
    },
    {
      "cell_type": "code",
      "source": [
        "dl = DataLoader(ds, batch_size=6, shuffle=True)\n",
        "list(dl)"
      ],
      "metadata": {
        "colab": {
          "base_uri": "https://localhost:8080/"
        },
        "id": "YTa_XPwUc3kS",
        "outputId": "57e0f573-98dc-4d87-a63a-d06d93e447be"
      },
      "execution_count": 91,
      "outputs": [
        {
          "output_type": "execute_result",
          "data": {
            "text/plain": [
              "[(tensor([ 1, 25,  9, 16, 10,  4]), ('b', 'z', 'j', 'q', 'k', 'e')),\n",
              " (tensor([ 0, 11,  3, 15,  8,  6]), ('a', 'l', 'd', 'p', 'i', 'g')),\n",
              " (tensor([23, 20, 18, 19,  5,  7]), ('x', 'u', 's', 't', 'f', 'h')),\n",
              " (tensor([21, 17,  2, 22, 24, 13]), ('v', 'r', 'c', 'w', 'y', 'n')),\n",
              " (tensor([12, 14]), ('m', 'o'))]"
            ]
          },
          "metadata": {},
          "execution_count": 91
        }
      ]
    },
    {
      "cell_type": "markdown",
      "source": [
        "## 4.6 すべてをまとめる"
      ],
      "metadata": {
        "id": "DC--uonodMhA"
      }
    },
    {
      "cell_type": "code",
      "source": [
        "weights = init_params((28*28, 1))\n",
        "bias = init_params(1)"
      ],
      "metadata": {
        "id": "3tguam5qeY9g"
      },
      "execution_count": 92,
      "outputs": []
    },
    {
      "cell_type": "code",
      "source": [
        "dl = DataLoader(dset, batch_size=256)"
      ],
      "metadata": {
        "id": "04_fYmBUerVz"
      },
      "execution_count": 93,
      "outputs": []
    },
    {
      "cell_type": "code",
      "source": [
        "xb, yb = first(dl)"
      ],
      "metadata": {
        "id": "D4srt9zpevfq"
      },
      "execution_count": 94,
      "outputs": []
    },
    {
      "cell_type": "code",
      "source": [
        "xb.shape, yb.shape"
      ],
      "metadata": {
        "colab": {
          "base_uri": "https://localhost:8080/"
        },
        "id": "BskJUWYDe0g4",
        "outputId": "a37eed7f-268f-4cdf-d7d8-6422a4078fec"
      },
      "execution_count": 95,
      "outputs": [
        {
          "output_type": "execute_result",
          "data": {
            "text/plain": [
              "(torch.Size([256, 784]), torch.Size([256, 1]))"
            ]
          },
          "metadata": {},
          "execution_count": 95
        }
      ]
    },
    {
      "cell_type": "code",
      "source": [
        "valid_dl = DataLoader(valid_dset, batch_size=256)"
      ],
      "metadata": {
        "id": "KLxeyHy-e2n_"
      },
      "execution_count": 96,
      "outputs": []
    },
    {
      "cell_type": "code",
      "source": [
        "batch = train_x[:4]\n",
        "batch.shape"
      ],
      "metadata": {
        "colab": {
          "base_uri": "https://localhost:8080/"
        },
        "id": "3spGZmiZfDqh",
        "outputId": "00cb0dae-7449-4b0f-c0eb-afd48e7d7c52"
      },
      "execution_count": 97,
      "outputs": [
        {
          "output_type": "execute_result",
          "data": {
            "text/plain": [
              "torch.Size([4, 784])"
            ]
          },
          "metadata": {},
          "execution_count": 97
        }
      ]
    },
    {
      "cell_type": "code",
      "source": [
        "preds = linear1(batch)\n",
        "preds"
      ],
      "metadata": {
        "colab": {
          "base_uri": "https://localhost:8080/"
        },
        "id": "O46KBuuRfHa4",
        "outputId": "fb2c0f8f-28db-4261-81a4-e82d399a9d96"
      },
      "execution_count": 98,
      "outputs": [
        {
          "output_type": "stream",
          "name": "stdout",
          "text": [
            "torch.Size([4, 784])\n",
            "torch.Size([784, 1])\n"
          ]
        },
        {
          "output_type": "execute_result",
          "data": {
            "text/plain": [
              "tensor([[-4.2673],\n",
              "        [-5.1529],\n",
              "        [-9.2072],\n",
              "        [-6.3332]], grad_fn=<AddBackward0>)"
            ]
          },
          "metadata": {},
          "execution_count": 98
        }
      ]
    },
    {
      "cell_type": "code",
      "source": [
        "loss = mnist_loss(preds, train_y[:4])\n",
        "loss"
      ],
      "metadata": {
        "colab": {
          "base_uri": "https://localhost:8080/"
        },
        "id": "NuuxTU8HfLt3",
        "outputId": "a30adaae-fc10-42c9-e90a-bbb1441d4154"
      },
      "execution_count": 99,
      "outputs": [
        {
          "output_type": "execute_result",
          "data": {
            "text/plain": [
              "tensor(0.9946, grad_fn=<MeanBackward0>)"
            ]
          },
          "metadata": {},
          "execution_count": 99
        }
      ]
    },
    {
      "cell_type": "code",
      "source": [
        "loss.backward()\n",
        "weights.grad.shape, weights.grad.mean(), bias.grad"
      ],
      "metadata": {
        "colab": {
          "base_uri": "https://localhost:8080/"
        },
        "id": "nBMmY_mLfUTX",
        "outputId": "73bf5260-a5ec-4d63-e124-8d8f33ec03e2"
      },
      "execution_count": 100,
      "outputs": [
        {
          "output_type": "execute_result",
          "data": {
            "text/plain": [
              "(torch.Size([784, 1]), tensor(-0.0008), tensor([-0.0053]))"
            ]
          },
          "metadata": {},
          "execution_count": 100
        }
      ]
    },
    {
      "cell_type": "code",
      "source": [
        "def calc_grad(xb, yb, model):\n",
        "  preds = model(xb)\n",
        "  loss = mnist_loss(preds, yb)\n",
        "  loss.backward()"
      ],
      "metadata": {
        "id": "UISlP39ffe-1"
      },
      "execution_count": 101,
      "outputs": []
    },
    {
      "cell_type": "code",
      "source": [
        "calc_grad(batch, train_y[:4], linear1)\n",
        "weights.grad.mean(), bias.grad"
      ],
      "metadata": {
        "colab": {
          "base_uri": "https://localhost:8080/"
        },
        "id": "Fi8vwpWGf4Ty",
        "outputId": "d37e2c04-7ccd-49b2-e2f7-e51aaeb45b9b"
      },
      "execution_count": 102,
      "outputs": [
        {
          "output_type": "stream",
          "name": "stdout",
          "text": [
            "torch.Size([4, 784])\n",
            "torch.Size([784, 1])\n"
          ]
        },
        {
          "output_type": "execute_result",
          "data": {
            "text/plain": [
              "(tensor(-0.0015), tensor([-0.0106]))"
            ]
          },
          "metadata": {},
          "execution_count": 102
        }
      ]
    },
    {
      "cell_type": "code",
      "source": [
        "# 勾配を0にしなかった場合\n",
        "calc_grad(batch, train_y[:4], linear1)\n",
        "weights.grad.mean(), bias.grad"
      ],
      "metadata": {
        "colab": {
          "base_uri": "https://localhost:8080/"
        },
        "id": "-rUSBan7gA7r",
        "outputId": "18b0b20e-a9ba-446f-890a-74989c6f2485"
      },
      "execution_count": 103,
      "outputs": [
        {
          "output_type": "stream",
          "name": "stdout",
          "text": [
            "torch.Size([4, 784])\n",
            "torch.Size([784, 1])\n"
          ]
        },
        {
          "output_type": "execute_result",
          "data": {
            "text/plain": [
              "(tensor(-0.0023), tensor([-0.0159]))"
            ]
          },
          "metadata": {},
          "execution_count": 103
        }
      ]
    },
    {
      "cell_type": "code",
      "source": [
        "# lossの前に勾配は0にしておかないと加算される\n",
        "weights.grad.zero_()\n",
        "bias.grad.zero_()"
      ],
      "metadata": {
        "colab": {
          "base_uri": "https://localhost:8080/"
        },
        "id": "HYConWTUgdfE",
        "outputId": "1441c058-a450-4d65-81f8-95b43a23f30d"
      },
      "execution_count": 104,
      "outputs": [
        {
          "output_type": "execute_result",
          "data": {
            "text/plain": [
              "tensor([0.])"
            ]
          },
          "metadata": {},
          "execution_count": 104
        }
      ]
    },
    {
      "cell_type": "code",
      "source": [
        "def train_epoch(model, lr, params):\n",
        "  for xb, yb in dl:\n",
        "    calc_grad(xb, yb, model)\n",
        "    for p in params:\n",
        "      for p in params:\n",
        "        p.data -= p.grad*lr\n",
        "        p.grad.zero_()"
      ],
      "metadata": {
        "id": "xKSZqcV4hIfh"
      },
      "execution_count": 105,
      "outputs": []
    },
    {
      "cell_type": "code",
      "source": [
        "(preds>0.5).float() == train_y[:4]"
      ],
      "metadata": {
        "colab": {
          "base_uri": "https://localhost:8080/"
        },
        "id": "EYAg_WdUiS0p",
        "outputId": "64f4e646-4f2e-4788-d20a-701ed6392d6a"
      },
      "execution_count": 106,
      "outputs": [
        {
          "output_type": "execute_result",
          "data": {
            "text/plain": [
              "tensor([[False],\n",
              "        [False],\n",
              "        [False],\n",
              "        [False]])"
            ]
          },
          "metadata": {},
          "execution_count": 106
        }
      ]
    },
    {
      "cell_type": "code",
      "source": [
        "def batch_accuracy(xb, yb):\n",
        "  preds = xb.sigmoid()\n",
        "  correct = (preds>0.5) == yb\n",
        "  return correct.float().mean()"
      ],
      "metadata": {
        "id": "ru0_AlF7ivh9"
      },
      "execution_count": 107,
      "outputs": []
    },
    {
      "cell_type": "code",
      "source": [
        "batch_accuracy(linear1(batch), train_y[:4])"
      ],
      "metadata": {
        "colab": {
          "base_uri": "https://localhost:8080/"
        },
        "id": "yteQBfdGi75n",
        "outputId": "a6b3cde3-63c8-46da-bc29-661810650628"
      },
      "execution_count": 108,
      "outputs": [
        {
          "output_type": "stream",
          "name": "stdout",
          "text": [
            "torch.Size([4, 784])\n",
            "torch.Size([784, 1])\n"
          ]
        },
        {
          "output_type": "execute_result",
          "data": {
            "text/plain": [
              "tensor(0.)"
            ]
          },
          "metadata": {},
          "execution_count": 108
        }
      ]
    },
    {
      "cell_type": "code",
      "source": [
        "def validate_epoch(model):\n",
        "  accs = [batch_accuracy(model(xb), yb) for xb, yb in valid_dl]\n",
        "  return round(torch.stack(accs).mean().item(), 4)\n",
        "\n",
        "validate_epoch(linear1)"
      ],
      "metadata": {
        "colab": {
          "base_uri": "https://localhost:8080/"
        },
        "id": "ca9O3oKFjEXd",
        "outputId": "f7ec3e5d-20e3-414d-c0ed-7d02a96e6956"
      },
      "execution_count": 109,
      "outputs": [
        {
          "output_type": "stream",
          "name": "stdout",
          "text": [
            "torch.Size([256, 784])\n",
            "torch.Size([784, 1])\n",
            "torch.Size([256, 784])\n",
            "torch.Size([784, 1])\n",
            "torch.Size([256, 784])\n",
            "torch.Size([784, 1])\n",
            "torch.Size([256, 784])\n",
            "torch.Size([784, 1])\n",
            "torch.Size([256, 784])\n",
            "torch.Size([784, 1])\n",
            "torch.Size([256, 784])\n",
            "torch.Size([784, 1])\n",
            "torch.Size([256, 784])\n",
            "torch.Size([784, 1])\n",
            "torch.Size([246, 784])\n",
            "torch.Size([784, 1])\n"
          ]
        },
        {
          "output_type": "execute_result",
          "data": {
            "text/plain": [
              "0.2433"
            ]
          },
          "metadata": {},
          "execution_count": 109
        }
      ]
    },
    {
      "cell_type": "code",
      "source": [
        "lr = 1.\n",
        "params = weights, bias\n",
        "train_epoch(linear1, lr, params)\n",
        "validate_epoch(linear1)"
      ],
      "metadata": {
        "colab": {
          "base_uri": "https://localhost:8080/"
        },
        "id": "dg7cCpCykFuv",
        "outputId": "9f28de16-c98f-445b-83b8-96432812f7a1"
      },
      "execution_count": 110,
      "outputs": [
        {
          "output_type": "stream",
          "name": "stdout",
          "text": [
            "torch.Size([256, 784])\n",
            "torch.Size([784, 1])\n",
            "torch.Size([256, 784])\n",
            "torch.Size([784, 1])\n",
            "torch.Size([256, 784])\n",
            "torch.Size([784, 1])\n",
            "torch.Size([256, 784])\n",
            "torch.Size([784, 1])\n",
            "torch.Size([256, 784])\n",
            "torch.Size([784, 1])\n",
            "torch.Size([256, 784])\n",
            "torch.Size([784, 1])\n",
            "torch.Size([256, 784])\n",
            "torch.Size([784, 1])\n",
            "torch.Size([256, 784])\n",
            "torch.Size([784, 1])\n",
            "torch.Size([256, 784])\n",
            "torch.Size([784, 1])\n",
            "torch.Size([256, 784])\n",
            "torch.Size([784, 1])\n",
            "torch.Size([256, 784])\n",
            "torch.Size([784, 1])\n",
            "torch.Size([256, 784])\n",
            "torch.Size([784, 1])\n",
            "torch.Size([256, 784])\n",
            "torch.Size([784, 1])\n",
            "torch.Size([256, 784])\n",
            "torch.Size([784, 1])\n",
            "torch.Size([256, 784])\n",
            "torch.Size([784, 1])\n",
            "torch.Size([256, 784])\n",
            "torch.Size([784, 1])\n",
            "torch.Size([256, 784])\n",
            "torch.Size([784, 1])\n",
            "torch.Size([256, 784])\n",
            "torch.Size([784, 1])\n",
            "torch.Size([256, 784])\n",
            "torch.Size([784, 1])\n",
            "torch.Size([256, 784])\n",
            "torch.Size([784, 1])\n",
            "torch.Size([256, 784])\n",
            "torch.Size([784, 1])\n",
            "torch.Size([256, 784])\n",
            "torch.Size([784, 1])\n",
            "torch.Size([256, 784])\n",
            "torch.Size([784, 1])\n",
            "torch.Size([256, 784])\n",
            "torch.Size([784, 1])\n",
            "torch.Size([256, 784])\n",
            "torch.Size([784, 1])\n",
            "torch.Size([256, 784])\n",
            "torch.Size([784, 1])\n",
            "torch.Size([256, 784])\n",
            "torch.Size([784, 1])\n",
            "torch.Size([256, 784])\n",
            "torch.Size([784, 1])\n",
            "torch.Size([256, 784])\n",
            "torch.Size([784, 1])\n",
            "torch.Size([256, 784])\n",
            "torch.Size([784, 1])\n",
            "torch.Size([256, 784])\n",
            "torch.Size([784, 1])\n",
            "torch.Size([256, 784])\n",
            "torch.Size([784, 1])\n",
            "torch.Size([256, 784])\n",
            "torch.Size([784, 1])\n",
            "torch.Size([256, 784])\n",
            "torch.Size([784, 1])\n",
            "torch.Size([256, 784])\n",
            "torch.Size([784, 1])\n",
            "torch.Size([256, 784])\n",
            "torch.Size([784, 1])\n",
            "torch.Size([256, 784])\n",
            "torch.Size([784, 1])\n",
            "torch.Size([256, 784])\n",
            "torch.Size([784, 1])\n",
            "torch.Size([256, 784])\n",
            "torch.Size([784, 1])\n",
            "torch.Size([256, 784])\n",
            "torch.Size([784, 1])\n",
            "torch.Size([256, 784])\n",
            "torch.Size([784, 1])\n",
            "torch.Size([256, 784])\n",
            "torch.Size([784, 1])\n",
            "torch.Size([256, 784])\n",
            "torch.Size([784, 1])\n",
            "torch.Size([256, 784])\n",
            "torch.Size([784, 1])\n",
            "torch.Size([256, 784])\n",
            "torch.Size([784, 1])\n",
            "torch.Size([256, 784])\n",
            "torch.Size([784, 1])\n",
            "torch.Size([256, 784])\n",
            "torch.Size([784, 1])\n",
            "torch.Size([256, 784])\n",
            "torch.Size([784, 1])\n",
            "torch.Size([108, 784])\n",
            "torch.Size([784, 1])\n",
            "torch.Size([256, 784])\n",
            "torch.Size([784, 1])\n",
            "torch.Size([256, 784])\n",
            "torch.Size([784, 1])\n",
            "torch.Size([256, 784])\n",
            "torch.Size([784, 1])\n",
            "torch.Size([256, 784])\n",
            "torch.Size([784, 1])\n",
            "torch.Size([256, 784])\n",
            "torch.Size([784, 1])\n",
            "torch.Size([256, 784])\n",
            "torch.Size([784, 1])\n",
            "torch.Size([256, 784])\n",
            "torch.Size([784, 1])\n",
            "torch.Size([246, 784])\n",
            "torch.Size([784, 1])\n"
          ]
        },
        {
          "output_type": "execute_result",
          "data": {
            "text/plain": [
              "0.6449"
            ]
          },
          "metadata": {},
          "execution_count": 110
        }
      ]
    },
    {
      "cell_type": "code",
      "source": [
        "for i in range(20):\n",
        "  train_epoch(linear1, lr, params)\n",
        "  print(validate_epoch(linear1), end='')"
      ],
      "metadata": {
        "colab": {
          "base_uri": "https://localhost:8080/"
        },
        "id": "0P7l8vsakQjt",
        "outputId": "0db788c6-4dcd-464c-e68e-7c6e7d4127d8"
      },
      "execution_count": 111,
      "outputs": [
        {
          "output_type": "stream",
          "name": "stdout",
          "text": [
            "torch.Size([256, 784])\n",
            "torch.Size([784, 1])\n",
            "torch.Size([256, 784])\n",
            "torch.Size([784, 1])\n",
            "torch.Size([256, 784])\n",
            "torch.Size([784, 1])\n",
            "torch.Size([256, 784])\n",
            "torch.Size([784, 1])\n",
            "torch.Size([256, 784])\n",
            "torch.Size([784, 1])\n",
            "torch.Size([256, 784])\n",
            "torch.Size([784, 1])\n",
            "torch.Size([256, 784])\n",
            "torch.Size([784, 1])\n",
            "torch.Size([256, 784])\n",
            "torch.Size([784, 1])\n",
            "torch.Size([256, 784])\n",
            "torch.Size([784, 1])\n",
            "torch.Size([256, 784])\n",
            "torch.Size([784, 1])\n",
            "torch.Size([256, 784])\n",
            "torch.Size([784, 1])\n",
            "torch.Size([256, 784])\n",
            "torch.Size([784, 1])\n",
            "torch.Size([256, 784])\n",
            "torch.Size([784, 1])\n",
            "torch.Size([256, 784])\n",
            "torch.Size([784, 1])\n",
            "torch.Size([256, 784])\n",
            "torch.Size([784, 1])\n",
            "torch.Size([256, 784])\n",
            "torch.Size([784, 1])\n",
            "torch.Size([256, 784])\n",
            "torch.Size([784, 1])\n",
            "torch.Size([256, 784])\n",
            "torch.Size([784, 1])\n",
            "torch.Size([256, 784])\n",
            "torch.Size([784, 1])\n",
            "torch.Size([256, 784])\n",
            "torch.Size([784, 1])\n",
            "torch.Size([256, 784])\n",
            "torch.Size([784, 1])\n",
            "torch.Size([256, 784])\n",
            "torch.Size([784, 1])\n",
            "torch.Size([256, 784])\n",
            "torch.Size([784, 1])\n",
            "torch.Size([256, 784])\n",
            "torch.Size([784, 1])\n",
            "torch.Size([256, 784])\n",
            "torch.Size([784, 1])\n",
            "torch.Size([256, 784])\n",
            "torch.Size([784, 1])\n",
            "torch.Size([256, 784])\n",
            "torch.Size([784, 1])\n",
            "torch.Size([256, 784])\n",
            "torch.Size([784, 1])\n",
            "torch.Size([256, 784])\n",
            "torch.Size([784, 1])\n",
            "torch.Size([256, 784])\n",
            "torch.Size([784, 1])\n",
            "torch.Size([256, 784])\n",
            "torch.Size([784, 1])\n",
            "torch.Size([256, 784])\n",
            "torch.Size([784, 1])\n",
            "torch.Size([256, 784])\n",
            "torch.Size([784, 1])\n",
            "torch.Size([256, 784])\n",
            "torch.Size([784, 1])\n",
            "torch.Size([256, 784])\n",
            "torch.Size([784, 1])\n",
            "torch.Size([256, 784])\n",
            "torch.Size([784, 1])\n",
            "torch.Size([256, 784])\n",
            "torch.Size([784, 1])\n",
            "torch.Size([256, 784])\n",
            "torch.Size([784, 1])\n",
            "torch.Size([256, 784])\n",
            "torch.Size([784, 1])\n",
            "torch.Size([256, 784])\n",
            "torch.Size([784, 1])\n",
            "torch.Size([256, 784])\n",
            "torch.Size([784, 1])\n",
            "torch.Size([256, 784])\n",
            "torch.Size([784, 1])\n",
            "torch.Size([256, 784])\n",
            "torch.Size([784, 1])\n",
            "torch.Size([256, 784])\n",
            "torch.Size([784, 1])\n",
            "torch.Size([256, 784])\n",
            "torch.Size([784, 1])\n",
            "torch.Size([256, 784])\n",
            "torch.Size([784, 1])\n",
            "torch.Size([256, 784])\n",
            "torch.Size([784, 1])\n",
            "torch.Size([256, 784])\n",
            "torch.Size([784, 1])\n",
            "torch.Size([108, 784])\n",
            "torch.Size([784, 1])\n",
            "torch.Size([256, 784])\n",
            "torch.Size([784, 1])\n",
            "torch.Size([256, 784])\n",
            "torch.Size([784, 1])\n",
            "torch.Size([256, 784])\n",
            "torch.Size([784, 1])\n",
            "torch.Size([256, 784])\n",
            "torch.Size([784, 1])\n",
            "torch.Size([256, 784])\n",
            "torch.Size([784, 1])\n",
            "torch.Size([256, 784])\n",
            "torch.Size([784, 1])\n",
            "torch.Size([256, 784])\n",
            "torch.Size([784, 1])\n",
            "torch.Size([246, 784])\n",
            "torch.Size([784, 1])\n",
            "0.664torch.Size([256, 784])\n",
            "torch.Size([784, 1])\n",
            "torch.Size([256, 784])\n",
            "torch.Size([784, 1])\n",
            "torch.Size([256, 784])\n",
            "torch.Size([784, 1])\n",
            "torch.Size([256, 784])\n",
            "torch.Size([784, 1])\n",
            "torch.Size([256, 784])\n",
            "torch.Size([784, 1])\n",
            "torch.Size([256, 784])\n",
            "torch.Size([784, 1])\n",
            "torch.Size([256, 784])\n",
            "torch.Size([784, 1])\n",
            "torch.Size([256, 784])\n",
            "torch.Size([784, 1])\n",
            "torch.Size([256, 784])\n",
            "torch.Size([784, 1])\n",
            "torch.Size([256, 784])\n",
            "torch.Size([784, 1])\n",
            "torch.Size([256, 784])\n",
            "torch.Size([784, 1])\n",
            "torch.Size([256, 784])\n",
            "torch.Size([784, 1])\n",
            "torch.Size([256, 784])\n",
            "torch.Size([784, 1])\n",
            "torch.Size([256, 784])\n",
            "torch.Size([784, 1])\n",
            "torch.Size([256, 784])\n",
            "torch.Size([784, 1])\n",
            "torch.Size([256, 784])\n",
            "torch.Size([784, 1])\n",
            "torch.Size([256, 784])\n",
            "torch.Size([784, 1])\n",
            "torch.Size([256, 784])\n",
            "torch.Size([784, 1])\n",
            "torch.Size([256, 784])\n",
            "torch.Size([784, 1])\n",
            "torch.Size([256, 784])\n",
            "torch.Size([784, 1])\n",
            "torch.Size([256, 784])\n",
            "torch.Size([784, 1])\n",
            "torch.Size([256, 784])\n",
            "torch.Size([784, 1])\n",
            "torch.Size([256, 784])\n",
            "torch.Size([784, 1])\n",
            "torch.Size([256, 784])\n",
            "torch.Size([784, 1])\n",
            "torch.Size([256, 784])\n",
            "torch.Size([784, 1])\n",
            "torch.Size([256, 784])\n",
            "torch.Size([784, 1])\n",
            "torch.Size([256, 784])\n",
            "torch.Size([784, 1])\n",
            "torch.Size([256, 784])\n",
            "torch.Size([784, 1])\n",
            "torch.Size([256, 784])\n",
            "torch.Size([784, 1])\n",
            "torch.Size([256, 784])\n",
            "torch.Size([784, 1])\n",
            "torch.Size([256, 784])\n",
            "torch.Size([784, 1])\n",
            "torch.Size([256, 784])\n",
            "torch.Size([784, 1])\n",
            "torch.Size([256, 784])\n",
            "torch.Size([784, 1])\n",
            "torch.Size([256, 784])\n",
            "torch.Size([784, 1])\n",
            "torch.Size([256, 784])\n",
            "torch.Size([784, 1])\n",
            "torch.Size([256, 784])\n",
            "torch.Size([784, 1])\n",
            "torch.Size([256, 784])\n",
            "torch.Size([784, 1])\n",
            "torch.Size([256, 784])\n",
            "torch.Size([784, 1])\n",
            "torch.Size([256, 784])\n",
            "torch.Size([784, 1])\n",
            "torch.Size([256, 784])\n",
            "torch.Size([784, 1])\n",
            "torch.Size([256, 784])\n",
            "torch.Size([784, 1])\n",
            "torch.Size([256, 784])\n",
            "torch.Size([784, 1])\n",
            "torch.Size([256, 784])\n",
            "torch.Size([784, 1])\n",
            "torch.Size([256, 784])\n",
            "torch.Size([784, 1])\n",
            "torch.Size([256, 784])\n",
            "torch.Size([784, 1])\n",
            "torch.Size([256, 784])\n",
            "torch.Size([784, 1])\n",
            "torch.Size([256, 784])\n",
            "torch.Size([784, 1])\n",
            "torch.Size([256, 784])\n",
            "torch.Size([784, 1])\n",
            "torch.Size([108, 784])\n",
            "torch.Size([784, 1])\n",
            "torch.Size([256, 784])\n",
            "torch.Size([784, 1])\n",
            "torch.Size([256, 784])\n",
            "torch.Size([784, 1])\n",
            "torch.Size([256, 784])\n",
            "torch.Size([784, 1])\n",
            "torch.Size([256, 784])\n",
            "torch.Size([784, 1])\n",
            "torch.Size([256, 784])\n",
            "torch.Size([784, 1])\n",
            "torch.Size([256, 784])\n",
            "torch.Size([784, 1])\n",
            "torch.Size([256, 784])\n",
            "torch.Size([784, 1])\n",
            "torch.Size([246, 784])\n",
            "torch.Size([784, 1])\n",
            "0.8637torch.Size([256, 784])\n",
            "torch.Size([784, 1])\n",
            "torch.Size([256, 784])\n",
            "torch.Size([784, 1])\n",
            "torch.Size([256, 784])\n",
            "torch.Size([784, 1])\n",
            "torch.Size([256, 784])\n",
            "torch.Size([784, 1])\n",
            "torch.Size([256, 784])\n",
            "torch.Size([784, 1])\n",
            "torch.Size([256, 784])\n",
            "torch.Size([784, 1])\n",
            "torch.Size([256, 784])\n",
            "torch.Size([784, 1])\n",
            "torch.Size([256, 784])\n",
            "torch.Size([784, 1])\n",
            "torch.Size([256, 784])\n",
            "torch.Size([784, 1])\n",
            "torch.Size([256, 784])\n",
            "torch.Size([784, 1])\n",
            "torch.Size([256, 784])\n",
            "torch.Size([784, 1])\n",
            "torch.Size([256, 784])\n",
            "torch.Size([784, 1])\n",
            "torch.Size([256, 784])\n",
            "torch.Size([784, 1])\n",
            "torch.Size([256, 784])\n",
            "torch.Size([784, 1])\n",
            "torch.Size([256, 784])\n",
            "torch.Size([784, 1])\n",
            "torch.Size([256, 784])\n",
            "torch.Size([784, 1])\n",
            "torch.Size([256, 784])\n",
            "torch.Size([784, 1])\n",
            "torch.Size([256, 784])\n",
            "torch.Size([784, 1])\n",
            "torch.Size([256, 784])\n",
            "torch.Size([784, 1])\n",
            "torch.Size([256, 784])\n",
            "torch.Size([784, 1])\n",
            "torch.Size([256, 784])\n",
            "torch.Size([784, 1])\n",
            "torch.Size([256, 784])\n",
            "torch.Size([784, 1])\n",
            "torch.Size([256, 784])\n",
            "torch.Size([784, 1])\n",
            "torch.Size([256, 784])\n",
            "torch.Size([784, 1])\n",
            "torch.Size([256, 784])\n",
            "torch.Size([784, 1])\n",
            "torch.Size([256, 784])\n",
            "torch.Size([784, 1])\n",
            "torch.Size([256, 784])\n",
            "torch.Size([784, 1])\n",
            "torch.Size([256, 784])\n",
            "torch.Size([784, 1])\n",
            "torch.Size([256, 784])\n",
            "torch.Size([784, 1])\n",
            "torch.Size([256, 784])\n",
            "torch.Size([784, 1])\n",
            "torch.Size([256, 784])\n",
            "torch.Size([784, 1])\n",
            "torch.Size([256, 784])\n",
            "torch.Size([784, 1])\n",
            "torch.Size([256, 784])\n",
            "torch.Size([784, 1])\n",
            "torch.Size([256, 784])\n",
            "torch.Size([784, 1])\n",
            "torch.Size([256, 784])\n",
            "torch.Size([784, 1])\n",
            "torch.Size([256, 784])\n",
            "torch.Size([784, 1])\n",
            "torch.Size([256, 784])\n",
            "torch.Size([784, 1])\n",
            "torch.Size([256, 784])\n",
            "torch.Size([784, 1])\n",
            "torch.Size([256, 784])\n",
            "torch.Size([784, 1])\n",
            "torch.Size([256, 784])\n",
            "torch.Size([784, 1])\n",
            "torch.Size([256, 784])\n",
            "torch.Size([784, 1])\n",
            "torch.Size([256, 784])\n",
            "torch.Size([784, 1])\n",
            "torch.Size([256, 784])\n",
            "torch.Size([784, 1])\n",
            "torch.Size([256, 784])\n",
            "torch.Size([784, 1])\n",
            "torch.Size([256, 784])\n",
            "torch.Size([784, 1])\n",
            "torch.Size([256, 784])\n",
            "torch.Size([784, 1])\n",
            "torch.Size([256, 784])\n",
            "torch.Size([784, 1])\n",
            "torch.Size([256, 784])\n",
            "torch.Size([784, 1])\n",
            "torch.Size([108, 784])\n",
            "torch.Size([784, 1])\n",
            "torch.Size([256, 784])\n",
            "torch.Size([784, 1])\n",
            "torch.Size([256, 784])\n",
            "torch.Size([784, 1])\n",
            "torch.Size([256, 784])\n",
            "torch.Size([784, 1])\n",
            "torch.Size([256, 784])\n",
            "torch.Size([784, 1])\n",
            "torch.Size([256, 784])\n",
            "torch.Size([784, 1])\n",
            "torch.Size([256, 784])\n",
            "torch.Size([784, 1])\n",
            "torch.Size([256, 784])\n",
            "torch.Size([784, 1])\n",
            "torch.Size([246, 784])\n",
            "torch.Size([784, 1])\n",
            "0.9217torch.Size([256, 784])\n",
            "torch.Size([784, 1])\n",
            "torch.Size([256, 784])\n",
            "torch.Size([784, 1])\n",
            "torch.Size([256, 784])\n",
            "torch.Size([784, 1])\n",
            "torch.Size([256, 784])\n",
            "torch.Size([784, 1])\n",
            "torch.Size([256, 784])\n",
            "torch.Size([784, 1])\n",
            "torch.Size([256, 784])\n",
            "torch.Size([784, 1])\n",
            "torch.Size([256, 784])\n",
            "torch.Size([784, 1])\n",
            "torch.Size([256, 784])\n",
            "torch.Size([784, 1])\n",
            "torch.Size([256, 784])\n",
            "torch.Size([784, 1])\n",
            "torch.Size([256, 784])\n",
            "torch.Size([784, 1])\n",
            "torch.Size([256, 784])\n",
            "torch.Size([784, 1])\n",
            "torch.Size([256, 784])\n",
            "torch.Size([784, 1])\n",
            "torch.Size([256, 784])\n",
            "torch.Size([784, 1])\n",
            "torch.Size([256, 784])\n",
            "torch.Size([784, 1])\n",
            "torch.Size([256, 784])\n",
            "torch.Size([784, 1])\n",
            "torch.Size([256, 784])\n",
            "torch.Size([784, 1])\n",
            "torch.Size([256, 784])\n",
            "torch.Size([784, 1])\n",
            "torch.Size([256, 784])\n",
            "torch.Size([784, 1])\n",
            "torch.Size([256, 784])\n",
            "torch.Size([784, 1])\n",
            "torch.Size([256, 784])\n",
            "torch.Size([784, 1])\n",
            "torch.Size([256, 784])\n",
            "torch.Size([784, 1])\n",
            "torch.Size([256, 784])\n",
            "torch.Size([784, 1])\n",
            "torch.Size([256, 784])\n",
            "torch.Size([784, 1])\n",
            "torch.Size([256, 784])\n",
            "torch.Size([784, 1])\n",
            "torch.Size([256, 784])\n",
            "torch.Size([784, 1])\n",
            "torch.Size([256, 784])\n",
            "torch.Size([784, 1])\n",
            "torch.Size([256, 784])\n",
            "torch.Size([784, 1])\n",
            "torch.Size([256, 784])\n",
            "torch.Size([784, 1])\n",
            "torch.Size([256, 784])\n",
            "torch.Size([784, 1])\n",
            "torch.Size([256, 784])\n",
            "torch.Size([784, 1])\n",
            "torch.Size([256, 784])\n",
            "torch.Size([784, 1])\n",
            "torch.Size([256, 784])\n",
            "torch.Size([784, 1])\n",
            "torch.Size([256, 784])\n",
            "torch.Size([784, 1])\n",
            "torch.Size([256, 784])\n",
            "torch.Size([784, 1])\n",
            "torch.Size([256, 784])\n",
            "torch.Size([784, 1])\n",
            "torch.Size([256, 784])\n",
            "torch.Size([784, 1])\n",
            "torch.Size([256, 784])\n",
            "torch.Size([784, 1])\n",
            "torch.Size([256, 784])\n",
            "torch.Size([784, 1])\n",
            "torch.Size([256, 784])\n",
            "torch.Size([784, 1])\n",
            "torch.Size([256, 784])\n",
            "torch.Size([784, 1])\n",
            "torch.Size([256, 784])\n",
            "torch.Size([784, 1])\n",
            "torch.Size([256, 784])\n",
            "torch.Size([784, 1])\n",
            "torch.Size([256, 784])\n",
            "torch.Size([784, 1])\n",
            "torch.Size([256, 784])\n",
            "torch.Size([784, 1])\n",
            "torch.Size([256, 784])\n",
            "torch.Size([784, 1])\n",
            "torch.Size([256, 784])\n",
            "torch.Size([784, 1])\n",
            "torch.Size([256, 784])\n",
            "torch.Size([784, 1])\n",
            "torch.Size([256, 784])\n",
            "torch.Size([784, 1])\n",
            "torch.Size([108, 784])\n",
            "torch.Size([784, 1])\n",
            "torch.Size([256, 784])\n",
            "torch.Size([784, 1])\n",
            "torch.Size([256, 784])\n",
            "torch.Size([784, 1])\n",
            "torch.Size([256, 784])\n",
            "torch.Size([784, 1])\n",
            "torch.Size([256, 784])\n",
            "torch.Size([784, 1])\n",
            "torch.Size([256, 784])\n",
            "torch.Size([784, 1])\n",
            "torch.Size([256, 784])\n",
            "torch.Size([784, 1])\n",
            "torch.Size([256, 784])\n",
            "torch.Size([784, 1])\n",
            "torch.Size([246, 784])\n",
            "torch.Size([784, 1])\n",
            "0.9393torch.Size([256, 784])\n",
            "torch.Size([784, 1])\n",
            "torch.Size([256, 784])\n",
            "torch.Size([784, 1])\n",
            "torch.Size([256, 784])\n",
            "torch.Size([784, 1])\n",
            "torch.Size([256, 784])\n",
            "torch.Size([784, 1])\n",
            "torch.Size([256, 784])\n",
            "torch.Size([784, 1])\n",
            "torch.Size([256, 784])\n",
            "torch.Size([784, 1])\n",
            "torch.Size([256, 784])\n",
            "torch.Size([784, 1])\n",
            "torch.Size([256, 784])\n",
            "torch.Size([784, 1])\n",
            "torch.Size([256, 784])\n",
            "torch.Size([784, 1])\n",
            "torch.Size([256, 784])\n",
            "torch.Size([784, 1])\n",
            "torch.Size([256, 784])\n",
            "torch.Size([784, 1])\n",
            "torch.Size([256, 784])\n",
            "torch.Size([784, 1])\n",
            "torch.Size([256, 784])\n",
            "torch.Size([784, 1])\n",
            "torch.Size([256, 784])\n",
            "torch.Size([784, 1])\n",
            "torch.Size([256, 784])\n",
            "torch.Size([784, 1])\n",
            "torch.Size([256, 784])\n",
            "torch.Size([784, 1])\n",
            "torch.Size([256, 784])\n",
            "torch.Size([784, 1])\n",
            "torch.Size([256, 784])\n",
            "torch.Size([784, 1])\n",
            "torch.Size([256, 784])\n",
            "torch.Size([784, 1])\n",
            "torch.Size([256, 784])\n",
            "torch.Size([784, 1])\n",
            "torch.Size([256, 784])\n",
            "torch.Size([784, 1])\n",
            "torch.Size([256, 784])\n",
            "torch.Size([784, 1])\n",
            "torch.Size([256, 784])\n",
            "torch.Size([784, 1])\n",
            "torch.Size([256, 784])\n",
            "torch.Size([784, 1])\n",
            "torch.Size([256, 784])\n",
            "torch.Size([784, 1])\n",
            "torch.Size([256, 784])\n",
            "torch.Size([784, 1])\n",
            "torch.Size([256, 784])\n",
            "torch.Size([784, 1])\n",
            "torch.Size([256, 784])\n",
            "torch.Size([784, 1])\n",
            "torch.Size([256, 784])\n",
            "torch.Size([784, 1])\n",
            "torch.Size([256, 784])\n",
            "torch.Size([784, 1])\n",
            "torch.Size([256, 784])\n",
            "torch.Size([784, 1])\n",
            "torch.Size([256, 784])\n",
            "torch.Size([784, 1])\n",
            "torch.Size([256, 784])\n",
            "torch.Size([784, 1])\n",
            "torch.Size([256, 784])\n",
            "torch.Size([784, 1])\n",
            "torch.Size([256, 784])\n",
            "torch.Size([784, 1])\n",
            "torch.Size([256, 784])\n",
            "torch.Size([784, 1])\n",
            "torch.Size([256, 784])\n",
            "torch.Size([784, 1])\n",
            "torch.Size([256, 784])\n",
            "torch.Size([784, 1])\n",
            "torch.Size([256, 784])\n",
            "torch.Size([784, 1])\n",
            "torch.Size([256, 784])\n",
            "torch.Size([784, 1])\n",
            "torch.Size([256, 784])\n",
            "torch.Size([784, 1])\n",
            "torch.Size([256, 784])\n",
            "torch.Size([784, 1])\n",
            "torch.Size([256, 784])\n",
            "torch.Size([784, 1])\n",
            "torch.Size([256, 784])\n",
            "torch.Size([784, 1])\n",
            "torch.Size([256, 784])\n",
            "torch.Size([784, 1])\n",
            "torch.Size([256, 784])\n",
            "torch.Size([784, 1])\n",
            "torch.Size([256, 784])\n",
            "torch.Size([784, 1])\n",
            "torch.Size([256, 784])\n",
            "torch.Size([784, 1])\n",
            "torch.Size([108, 784])\n",
            "torch.Size([784, 1])\n",
            "torch.Size([256, 784])\n",
            "torch.Size([784, 1])\n",
            "torch.Size([256, 784])\n",
            "torch.Size([784, 1])\n",
            "torch.Size([256, 784])\n",
            "torch.Size([784, 1])\n",
            "torch.Size([256, 784])\n",
            "torch.Size([784, 1])\n",
            "torch.Size([256, 784])\n",
            "torch.Size([784, 1])\n",
            "torch.Size([256, 784])\n",
            "torch.Size([784, 1])\n",
            "torch.Size([256, 784])\n",
            "torch.Size([784, 1])\n",
            "torch.Size([246, 784])\n",
            "torch.Size([784, 1])\n",
            "0.9461torch.Size([256, 784])\n",
            "torch.Size([784, 1])\n",
            "torch.Size([256, 784])\n",
            "torch.Size([784, 1])\n",
            "torch.Size([256, 784])\n",
            "torch.Size([784, 1])\n",
            "torch.Size([256, 784])\n",
            "torch.Size([784, 1])\n",
            "torch.Size([256, 784])\n",
            "torch.Size([784, 1])\n",
            "torch.Size([256, 784])\n",
            "torch.Size([784, 1])\n",
            "torch.Size([256, 784])\n",
            "torch.Size([784, 1])\n",
            "torch.Size([256, 784])\n",
            "torch.Size([784, 1])\n",
            "torch.Size([256, 784])\n",
            "torch.Size([784, 1])\n",
            "torch.Size([256, 784])\n",
            "torch.Size([784, 1])\n",
            "torch.Size([256, 784])\n",
            "torch.Size([784, 1])\n",
            "torch.Size([256, 784])\n",
            "torch.Size([784, 1])\n",
            "torch.Size([256, 784])\n",
            "torch.Size([784, 1])\n",
            "torch.Size([256, 784])\n",
            "torch.Size([784, 1])\n",
            "torch.Size([256, 784])\n",
            "torch.Size([784, 1])\n",
            "torch.Size([256, 784])\n",
            "torch.Size([784, 1])\n",
            "torch.Size([256, 784])\n",
            "torch.Size([784, 1])\n",
            "torch.Size([256, 784])\n",
            "torch.Size([784, 1])\n",
            "torch.Size([256, 784])\n",
            "torch.Size([784, 1])\n",
            "torch.Size([256, 784])\n",
            "torch.Size([784, 1])\n",
            "torch.Size([256, 784])\n",
            "torch.Size([784, 1])\n",
            "torch.Size([256, 784])\n",
            "torch.Size([784, 1])\n",
            "torch.Size([256, 784])\n",
            "torch.Size([784, 1])\n",
            "torch.Size([256, 784])\n",
            "torch.Size([784, 1])\n",
            "torch.Size([256, 784])\n",
            "torch.Size([784, 1])\n",
            "torch.Size([256, 784])\n",
            "torch.Size([784, 1])\n",
            "torch.Size([256, 784])\n",
            "torch.Size([784, 1])\n",
            "torch.Size([256, 784])\n",
            "torch.Size([784, 1])\n",
            "torch.Size([256, 784])\n",
            "torch.Size([784, 1])\n",
            "torch.Size([256, 784])\n",
            "torch.Size([784, 1])\n",
            "torch.Size([256, 784])\n",
            "torch.Size([784, 1])\n",
            "torch.Size([256, 784])\n",
            "torch.Size([784, 1])\n",
            "torch.Size([256, 784])\n",
            "torch.Size([784, 1])\n",
            "torch.Size([256, 784])\n",
            "torch.Size([784, 1])\n",
            "torch.Size([256, 784])\n",
            "torch.Size([784, 1])\n",
            "torch.Size([256, 784])\n",
            "torch.Size([784, 1])\n",
            "torch.Size([256, 784])\n",
            "torch.Size([784, 1])\n",
            "torch.Size([256, 784])\n",
            "torch.Size([784, 1])\n",
            "torch.Size([256, 784])\n",
            "torch.Size([784, 1])\n",
            "torch.Size([256, 784])\n",
            "torch.Size([784, 1])\n",
            "torch.Size([256, 784])\n",
            "torch.Size([784, 1])\n",
            "torch.Size([256, 784])\n",
            "torch.Size([784, 1])\n",
            "torch.Size([256, 784])\n",
            "torch.Size([784, 1])\n",
            "torch.Size([256, 784])\n",
            "torch.Size([784, 1])\n",
            "torch.Size([256, 784])\n",
            "torch.Size([784, 1])\n",
            "torch.Size([256, 784])\n",
            "torch.Size([784, 1])\n",
            "torch.Size([256, 784])\n",
            "torch.Size([784, 1])\n",
            "torch.Size([256, 784])\n",
            "torch.Size([784, 1])\n",
            "torch.Size([108, 784])\n",
            "torch.Size([784, 1])\n",
            "torch.Size([256, 784])\n",
            "torch.Size([784, 1])\n",
            "torch.Size([256, 784])\n",
            "torch.Size([784, 1])\n",
            "torch.Size([256, 784])\n",
            "torch.Size([784, 1])\n",
            "torch.Size([256, 784])\n",
            "torch.Size([784, 1])\n",
            "torch.Size([256, 784])\n",
            "torch.Size([784, 1])\n",
            "torch.Size([256, 784])\n",
            "torch.Size([784, 1])\n",
            "torch.Size([256, 784])\n",
            "torch.Size([784, 1])\n",
            "torch.Size([246, 784])\n",
            "torch.Size([784, 1])\n",
            "0.9505torch.Size([256, 784])\n",
            "torch.Size([784, 1])\n",
            "torch.Size([256, 784])\n",
            "torch.Size([784, 1])\n",
            "torch.Size([256, 784])\n",
            "torch.Size([784, 1])\n",
            "torch.Size([256, 784])\n",
            "torch.Size([784, 1])\n",
            "torch.Size([256, 784])\n",
            "torch.Size([784, 1])\n",
            "torch.Size([256, 784])\n",
            "torch.Size([784, 1])\n",
            "torch.Size([256, 784])\n",
            "torch.Size([784, 1])\n",
            "torch.Size([256, 784])\n",
            "torch.Size([784, 1])\n",
            "torch.Size([256, 784])\n",
            "torch.Size([784, 1])\n",
            "torch.Size([256, 784])\n",
            "torch.Size([784, 1])\n",
            "torch.Size([256, 784])\n",
            "torch.Size([784, 1])\n",
            "torch.Size([256, 784])\n",
            "torch.Size([784, 1])\n",
            "torch.Size([256, 784])\n",
            "torch.Size([784, 1])\n",
            "torch.Size([256, 784])\n",
            "torch.Size([784, 1])\n",
            "torch.Size([256, 784])\n",
            "torch.Size([784, 1])\n",
            "torch.Size([256, 784])\n",
            "torch.Size([784, 1])\n",
            "torch.Size([256, 784])\n",
            "torch.Size([784, 1])\n",
            "torch.Size([256, 784])\n",
            "torch.Size([784, 1])\n",
            "torch.Size([256, 784])\n",
            "torch.Size([784, 1])\n",
            "torch.Size([256, 784])\n",
            "torch.Size([784, 1])\n",
            "torch.Size([256, 784])\n",
            "torch.Size([784, 1])\n",
            "torch.Size([256, 784])\n",
            "torch.Size([784, 1])\n",
            "torch.Size([256, 784])\n",
            "torch.Size([784, 1])\n",
            "torch.Size([256, 784])\n",
            "torch.Size([784, 1])\n",
            "torch.Size([256, 784])\n",
            "torch.Size([784, 1])\n",
            "torch.Size([256, 784])\n",
            "torch.Size([784, 1])\n",
            "torch.Size([256, 784])\n",
            "torch.Size([784, 1])\n",
            "torch.Size([256, 784])\n",
            "torch.Size([784, 1])\n",
            "torch.Size([256, 784])\n",
            "torch.Size([784, 1])\n",
            "torch.Size([256, 784])\n",
            "torch.Size([784, 1])\n",
            "torch.Size([256, 784])\n",
            "torch.Size([784, 1])\n",
            "torch.Size([256, 784])\n",
            "torch.Size([784, 1])\n",
            "torch.Size([256, 784])\n",
            "torch.Size([784, 1])\n",
            "torch.Size([256, 784])\n",
            "torch.Size([784, 1])\n",
            "torch.Size([256, 784])\n",
            "torch.Size([784, 1])\n",
            "torch.Size([256, 784])\n",
            "torch.Size([784, 1])\n",
            "torch.Size([256, 784])\n",
            "torch.Size([784, 1])\n",
            "torch.Size([256, 784])\n",
            "torch.Size([784, 1])\n",
            "torch.Size([256, 784])\n",
            "torch.Size([784, 1])\n",
            "torch.Size([256, 784])\n",
            "torch.Size([784, 1])\n",
            "torch.Size([256, 784])\n",
            "torch.Size([784, 1])\n",
            "torch.Size([256, 784])\n",
            "torch.Size([784, 1])\n",
            "torch.Size([256, 784])\n",
            "torch.Size([784, 1])\n",
            "torch.Size([256, 784])\n",
            "torch.Size([784, 1])\n",
            "torch.Size([256, 784])\n",
            "torch.Size([784, 1])\n",
            "torch.Size([256, 784])\n",
            "torch.Size([784, 1])\n",
            "torch.Size([256, 784])\n",
            "torch.Size([784, 1])\n",
            "torch.Size([256, 784])\n",
            "torch.Size([784, 1])\n",
            "torch.Size([108, 784])\n",
            "torch.Size([784, 1])\n",
            "torch.Size([256, 784])\n",
            "torch.Size([784, 1])\n",
            "torch.Size([256, 784])\n",
            "torch.Size([784, 1])\n",
            "torch.Size([256, 784])\n",
            "torch.Size([784, 1])\n",
            "torch.Size([256, 784])\n",
            "torch.Size([784, 1])\n",
            "torch.Size([256, 784])\n",
            "torch.Size([784, 1])\n",
            "torch.Size([256, 784])\n",
            "torch.Size([784, 1])\n",
            "torch.Size([256, 784])\n",
            "torch.Size([784, 1])\n",
            "torch.Size([246, 784])\n",
            "torch.Size([784, 1])\n",
            "0.9559torch.Size([256, 784])\n",
            "torch.Size([784, 1])\n",
            "torch.Size([256, 784])\n",
            "torch.Size([784, 1])\n",
            "torch.Size([256, 784])\n",
            "torch.Size([784, 1])\n",
            "torch.Size([256, 784])\n",
            "torch.Size([784, 1])\n",
            "torch.Size([256, 784])\n",
            "torch.Size([784, 1])\n",
            "torch.Size([256, 784])\n",
            "torch.Size([784, 1])\n",
            "torch.Size([256, 784])\n",
            "torch.Size([784, 1])\n",
            "torch.Size([256, 784])\n",
            "torch.Size([784, 1])\n",
            "torch.Size([256, 784])\n",
            "torch.Size([784, 1])\n",
            "torch.Size([256, 784])\n",
            "torch.Size([784, 1])\n",
            "torch.Size([256, 784])\n",
            "torch.Size([784, 1])\n",
            "torch.Size([256, 784])\n",
            "torch.Size([784, 1])\n",
            "torch.Size([256, 784])\n",
            "torch.Size([784, 1])\n",
            "torch.Size([256, 784])\n",
            "torch.Size([784, 1])\n",
            "torch.Size([256, 784])\n",
            "torch.Size([784, 1])\n",
            "torch.Size([256, 784])\n",
            "torch.Size([784, 1])\n",
            "torch.Size([256, 784])\n",
            "torch.Size([784, 1])\n",
            "torch.Size([256, 784])\n",
            "torch.Size([784, 1])\n",
            "torch.Size([256, 784])\n",
            "torch.Size([784, 1])\n",
            "torch.Size([256, 784])\n",
            "torch.Size([784, 1])\n",
            "torch.Size([256, 784])\n",
            "torch.Size([784, 1])\n",
            "torch.Size([256, 784])\n",
            "torch.Size([784, 1])\n",
            "torch.Size([256, 784])\n",
            "torch.Size([784, 1])\n",
            "torch.Size([256, 784])\n",
            "torch.Size([784, 1])\n",
            "torch.Size([256, 784])\n",
            "torch.Size([784, 1])\n",
            "torch.Size([256, 784])\n",
            "torch.Size([784, 1])\n",
            "torch.Size([256, 784])\n",
            "torch.Size([784, 1])\n",
            "torch.Size([256, 784])\n",
            "torch.Size([784, 1])\n",
            "torch.Size([256, 784])\n",
            "torch.Size([784, 1])\n",
            "torch.Size([256, 784])\n",
            "torch.Size([784, 1])\n",
            "torch.Size([256, 784])\n",
            "torch.Size([784, 1])\n",
            "torch.Size([256, 784])\n",
            "torch.Size([784, 1])\n",
            "torch.Size([256, 784])\n",
            "torch.Size([784, 1])\n",
            "torch.Size([256, 784])\n",
            "torch.Size([784, 1])\n",
            "torch.Size([256, 784])\n",
            "torch.Size([784, 1])\n",
            "torch.Size([256, 784])\n",
            "torch.Size([784, 1])\n",
            "torch.Size([256, 784])\n",
            "torch.Size([784, 1])\n",
            "torch.Size([256, 784])\n",
            "torch.Size([784, 1])\n",
            "torch.Size([256, 784])\n",
            "torch.Size([784, 1])\n",
            "torch.Size([256, 784])\n",
            "torch.Size([784, 1])\n",
            "torch.Size([256, 784])\n",
            "torch.Size([784, 1])\n",
            "torch.Size([256, 784])\n",
            "torch.Size([784, 1])\n",
            "torch.Size([256, 784])\n",
            "torch.Size([784, 1])\n",
            "torch.Size([256, 784])\n",
            "torch.Size([784, 1])\n",
            "torch.Size([256, 784])\n",
            "torch.Size([784, 1])\n",
            "torch.Size([256, 784])\n",
            "torch.Size([784, 1])\n",
            "torch.Size([256, 784])\n",
            "torch.Size([784, 1])\n",
            "torch.Size([256, 784])\n",
            "torch.Size([784, 1])\n",
            "torch.Size([108, 784])\n",
            "torch.Size([784, 1])\n",
            "torch.Size([256, 784])\n",
            "torch.Size([784, 1])\n",
            "torch.Size([256, 784])\n",
            "torch.Size([784, 1])\n",
            "torch.Size([256, 784])\n",
            "torch.Size([784, 1])\n",
            "torch.Size([256, 784])\n",
            "torch.Size([784, 1])\n",
            "torch.Size([256, 784])\n",
            "torch.Size([784, 1])\n",
            "torch.Size([256, 784])\n",
            "torch.Size([784, 1])\n",
            "torch.Size([256, 784])\n",
            "torch.Size([784, 1])\n",
            "torch.Size([246, 784])\n",
            "torch.Size([784, 1])\n",
            "0.9593torch.Size([256, 784])\n",
            "torch.Size([784, 1])\n",
            "torch.Size([256, 784])\n",
            "torch.Size([784, 1])\n",
            "torch.Size([256, 784])\n",
            "torch.Size([784, 1])\n",
            "torch.Size([256, 784])\n",
            "torch.Size([784, 1])\n",
            "torch.Size([256, 784])\n",
            "torch.Size([784, 1])\n",
            "torch.Size([256, 784])\n",
            "torch.Size([784, 1])\n",
            "torch.Size([256, 784])\n",
            "torch.Size([784, 1])\n",
            "torch.Size([256, 784])\n",
            "torch.Size([784, 1])\n",
            "torch.Size([256, 784])\n",
            "torch.Size([784, 1])\n",
            "torch.Size([256, 784])\n",
            "torch.Size([784, 1])\n",
            "torch.Size([256, 784])\n",
            "torch.Size([784, 1])\n",
            "torch.Size([256, 784])\n",
            "torch.Size([784, 1])\n",
            "torch.Size([256, 784])\n",
            "torch.Size([784, 1])\n",
            "torch.Size([256, 784])\n",
            "torch.Size([784, 1])\n",
            "torch.Size([256, 784])\n",
            "torch.Size([784, 1])\n",
            "torch.Size([256, 784])\n",
            "torch.Size([784, 1])\n",
            "torch.Size([256, 784])\n",
            "torch.Size([784, 1])\n",
            "torch.Size([256, 784])\n",
            "torch.Size([784, 1])\n",
            "torch.Size([256, 784])\n",
            "torch.Size([784, 1])\n",
            "torch.Size([256, 784])\n",
            "torch.Size([784, 1])\n",
            "torch.Size([256, 784])\n",
            "torch.Size([784, 1])\n",
            "torch.Size([256, 784])\n",
            "torch.Size([784, 1])\n",
            "torch.Size([256, 784])\n",
            "torch.Size([784, 1])\n",
            "torch.Size([256, 784])\n",
            "torch.Size([784, 1])\n",
            "torch.Size([256, 784])\n",
            "torch.Size([784, 1])\n",
            "torch.Size([256, 784])\n",
            "torch.Size([784, 1])\n",
            "torch.Size([256, 784])\n",
            "torch.Size([784, 1])\n",
            "torch.Size([256, 784])\n",
            "torch.Size([784, 1])\n",
            "torch.Size([256, 784])\n",
            "torch.Size([784, 1])\n",
            "torch.Size([256, 784])\n",
            "torch.Size([784, 1])\n",
            "torch.Size([256, 784])\n",
            "torch.Size([784, 1])\n",
            "torch.Size([256, 784])\n",
            "torch.Size([784, 1])\n",
            "torch.Size([256, 784])\n",
            "torch.Size([784, 1])\n",
            "torch.Size([256, 784])\n",
            "torch.Size([784, 1])\n",
            "torch.Size([256, 784])\n",
            "torch.Size([784, 1])\n",
            "torch.Size([256, 784])\n",
            "torch.Size([784, 1])\n",
            "torch.Size([256, 784])\n",
            "torch.Size([784, 1])\n",
            "torch.Size([256, 784])\n",
            "torch.Size([784, 1])\n",
            "torch.Size([256, 784])\n",
            "torch.Size([784, 1])\n",
            "torch.Size([256, 784])\n",
            "torch.Size([784, 1])\n",
            "torch.Size([256, 784])\n",
            "torch.Size([784, 1])\n",
            "torch.Size([256, 784])\n",
            "torch.Size([784, 1])\n",
            "torch.Size([256, 784])\n",
            "torch.Size([784, 1])\n",
            "torch.Size([256, 784])\n",
            "torch.Size([784, 1])\n",
            "torch.Size([256, 784])\n",
            "torch.Size([784, 1])\n",
            "torch.Size([256, 784])\n",
            "torch.Size([784, 1])\n",
            "torch.Size([256, 784])\n",
            "torch.Size([784, 1])\n",
            "torch.Size([256, 784])\n",
            "torch.Size([784, 1])\n",
            "torch.Size([108, 784])\n",
            "torch.Size([784, 1])\n",
            "torch.Size([256, 784])\n",
            "torch.Size([784, 1])\n",
            "torch.Size([256, 784])\n",
            "torch.Size([784, 1])\n",
            "torch.Size([256, 784])\n",
            "torch.Size([784, 1])\n",
            "torch.Size([256, 784])\n",
            "torch.Size([784, 1])\n",
            "torch.Size([256, 784])\n",
            "torch.Size([784, 1])\n",
            "torch.Size([256, 784])\n",
            "torch.Size([784, 1])\n",
            "torch.Size([256, 784])\n",
            "torch.Size([784, 1])\n",
            "torch.Size([246, 784])\n",
            "torch.Size([784, 1])\n",
            "0.9623torch.Size([256, 784])\n",
            "torch.Size([784, 1])\n",
            "torch.Size([256, 784])\n",
            "torch.Size([784, 1])\n",
            "torch.Size([256, 784])\n",
            "torch.Size([784, 1])\n",
            "torch.Size([256, 784])\n",
            "torch.Size([784, 1])\n",
            "torch.Size([256, 784])\n",
            "torch.Size([784, 1])\n",
            "torch.Size([256, 784])\n",
            "torch.Size([784, 1])\n",
            "torch.Size([256, 784])\n",
            "torch.Size([784, 1])\n",
            "torch.Size([256, 784])\n",
            "torch.Size([784, 1])\n",
            "torch.Size([256, 784])\n",
            "torch.Size([784, 1])\n",
            "torch.Size([256, 784])\n",
            "torch.Size([784, 1])\n",
            "torch.Size([256, 784])\n",
            "torch.Size([784, 1])\n",
            "torch.Size([256, 784])\n",
            "torch.Size([784, 1])\n",
            "torch.Size([256, 784])\n",
            "torch.Size([784, 1])\n",
            "torch.Size([256, 784])\n",
            "torch.Size([784, 1])\n",
            "torch.Size([256, 784])\n",
            "torch.Size([784, 1])\n",
            "torch.Size([256, 784])\n",
            "torch.Size([784, 1])\n",
            "torch.Size([256, 784])\n",
            "torch.Size([784, 1])\n",
            "torch.Size([256, 784])\n",
            "torch.Size([784, 1])\n",
            "torch.Size([256, 784])\n",
            "torch.Size([784, 1])\n",
            "torch.Size([256, 784])\n",
            "torch.Size([784, 1])\n",
            "torch.Size([256, 784])\n",
            "torch.Size([784, 1])\n",
            "torch.Size([256, 784])\n",
            "torch.Size([784, 1])\n",
            "torch.Size([256, 784])\n",
            "torch.Size([784, 1])\n",
            "torch.Size([256, 784])\n",
            "torch.Size([784, 1])\n",
            "torch.Size([256, 784])\n",
            "torch.Size([784, 1])\n",
            "torch.Size([256, 784])\n",
            "torch.Size([784, 1])\n",
            "torch.Size([256, 784])\n",
            "torch.Size([784, 1])\n",
            "torch.Size([256, 784])\n",
            "torch.Size([784, 1])\n",
            "torch.Size([256, 784])\n",
            "torch.Size([784, 1])\n",
            "torch.Size([256, 784])\n",
            "torch.Size([784, 1])\n",
            "torch.Size([256, 784])\n",
            "torch.Size([784, 1])\n",
            "torch.Size([256, 784])\n",
            "torch.Size([784, 1])\n",
            "torch.Size([256, 784])\n",
            "torch.Size([784, 1])\n",
            "torch.Size([256, 784])\n",
            "torch.Size([784, 1])\n",
            "torch.Size([256, 784])\n",
            "torch.Size([784, 1])\n",
            "torch.Size([256, 784])\n",
            "torch.Size([784, 1])\n",
            "torch.Size([256, 784])\n",
            "torch.Size([784, 1])\n",
            "torch.Size([256, 784])\n",
            "torch.Size([784, 1])\n",
            "torch.Size([256, 784])\n",
            "torch.Size([784, 1])\n",
            "torch.Size([256, 784])\n",
            "torch.Size([784, 1])\n",
            "torch.Size([256, 784])\n",
            "torch.Size([784, 1])\n",
            "torch.Size([256, 784])\n",
            "torch.Size([784, 1])\n",
            "torch.Size([256, 784])\n",
            "torch.Size([784, 1])\n",
            "torch.Size([256, 784])\n",
            "torch.Size([784, 1])\n",
            "torch.Size([256, 784])\n",
            "torch.Size([784, 1])\n",
            "torch.Size([256, 784])\n",
            "torch.Size([784, 1])\n",
            "torch.Size([256, 784])\n",
            "torch.Size([784, 1])\n",
            "torch.Size([256, 784])\n",
            "torch.Size([784, 1])\n",
            "torch.Size([108, 784])\n",
            "torch.Size([784, 1])\n",
            "torch.Size([256, 784])\n",
            "torch.Size([784, 1])\n",
            "torch.Size([256, 784])\n",
            "torch.Size([784, 1])\n",
            "torch.Size([256, 784])\n",
            "torch.Size([784, 1])\n",
            "torch.Size([256, 784])\n",
            "torch.Size([784, 1])\n",
            "torch.Size([256, 784])\n",
            "torch.Size([784, 1])\n",
            "torch.Size([256, 784])\n",
            "torch.Size([784, 1])\n",
            "torch.Size([256, 784])\n",
            "torch.Size([784, 1])\n",
            "torch.Size([246, 784])\n",
            "torch.Size([784, 1])\n",
            "0.9637torch.Size([256, 784])\n",
            "torch.Size([784, 1])\n",
            "torch.Size([256, 784])\n",
            "torch.Size([784, 1])\n",
            "torch.Size([256, 784])\n",
            "torch.Size([784, 1])\n",
            "torch.Size([256, 784])\n",
            "torch.Size([784, 1])\n",
            "torch.Size([256, 784])\n",
            "torch.Size([784, 1])\n",
            "torch.Size([256, 784])\n",
            "torch.Size([784, 1])\n",
            "torch.Size([256, 784])\n",
            "torch.Size([784, 1])\n",
            "torch.Size([256, 784])\n",
            "torch.Size([784, 1])\n",
            "torch.Size([256, 784])\n",
            "torch.Size([784, 1])\n",
            "torch.Size([256, 784])\n",
            "torch.Size([784, 1])\n",
            "torch.Size([256, 784])\n",
            "torch.Size([784, 1])\n",
            "torch.Size([256, 784])\n",
            "torch.Size([784, 1])\n",
            "torch.Size([256, 784])\n",
            "torch.Size([784, 1])\n",
            "torch.Size([256, 784])\n",
            "torch.Size([784, 1])\n",
            "torch.Size([256, 784])\n",
            "torch.Size([784, 1])\n",
            "torch.Size([256, 784])\n",
            "torch.Size([784, 1])\n",
            "torch.Size([256, 784])\n",
            "torch.Size([784, 1])\n",
            "torch.Size([256, 784])\n",
            "torch.Size([784, 1])\n",
            "torch.Size([256, 784])\n",
            "torch.Size([784, 1])\n",
            "torch.Size([256, 784])\n",
            "torch.Size([784, 1])\n",
            "torch.Size([256, 784])\n",
            "torch.Size([784, 1])\n",
            "torch.Size([256, 784])\n",
            "torch.Size([784, 1])\n",
            "torch.Size([256, 784])\n",
            "torch.Size([784, 1])\n",
            "torch.Size([256, 784])\n",
            "torch.Size([784, 1])\n",
            "torch.Size([256, 784])\n",
            "torch.Size([784, 1])\n",
            "torch.Size([256, 784])\n",
            "torch.Size([784, 1])\n",
            "torch.Size([256, 784])\n",
            "torch.Size([784, 1])\n",
            "torch.Size([256, 784])\n",
            "torch.Size([784, 1])\n",
            "torch.Size([256, 784])\n",
            "torch.Size([784, 1])\n",
            "torch.Size([256, 784])\n",
            "torch.Size([784, 1])\n",
            "torch.Size([256, 784])\n",
            "torch.Size([784, 1])\n",
            "torch.Size([256, 784])\n",
            "torch.Size([784, 1])\n",
            "torch.Size([256, 784])\n",
            "torch.Size([784, 1])\n",
            "torch.Size([256, 784])\n",
            "torch.Size([784, 1])\n",
            "torch.Size([256, 784])\n",
            "torch.Size([784, 1])\n",
            "torch.Size([256, 784])\n",
            "torch.Size([784, 1])\n",
            "torch.Size([256, 784])\n",
            "torch.Size([784, 1])\n",
            "torch.Size([256, 784])\n",
            "torch.Size([784, 1])\n",
            "torch.Size([256, 784])\n",
            "torch.Size([784, 1])\n",
            "torch.Size([256, 784])\n",
            "torch.Size([784, 1])\n",
            "torch.Size([256, 784])\n",
            "torch.Size([784, 1])\n",
            "torch.Size([256, 784])\n",
            "torch.Size([784, 1])\n",
            "torch.Size([256, 784])\n",
            "torch.Size([784, 1])\n",
            "torch.Size([256, 784])\n",
            "torch.Size([784, 1])\n",
            "torch.Size([256, 784])\n",
            "torch.Size([784, 1])\n",
            "torch.Size([256, 784])\n",
            "torch.Size([784, 1])\n",
            "torch.Size([256, 784])\n",
            "torch.Size([784, 1])\n",
            "torch.Size([256, 784])\n",
            "torch.Size([784, 1])\n",
            "torch.Size([108, 784])\n",
            "torch.Size([784, 1])\n",
            "torch.Size([256, 784])\n",
            "torch.Size([784, 1])\n",
            "torch.Size([256, 784])\n",
            "torch.Size([784, 1])\n",
            "torch.Size([256, 784])\n",
            "torch.Size([784, 1])\n",
            "torch.Size([256, 784])\n",
            "torch.Size([784, 1])\n",
            "torch.Size([256, 784])\n",
            "torch.Size([784, 1])\n",
            "torch.Size([256, 784])\n",
            "torch.Size([784, 1])\n",
            "torch.Size([256, 784])\n",
            "torch.Size([784, 1])\n",
            "torch.Size([246, 784])\n",
            "torch.Size([784, 1])\n",
            "0.9647torch.Size([256, 784])\n",
            "torch.Size([784, 1])\n",
            "torch.Size([256, 784])\n",
            "torch.Size([784, 1])\n",
            "torch.Size([256, 784])\n",
            "torch.Size([784, 1])\n",
            "torch.Size([256, 784])\n",
            "torch.Size([784, 1])\n",
            "torch.Size([256, 784])\n",
            "torch.Size([784, 1])\n",
            "torch.Size([256, 784])\n",
            "torch.Size([784, 1])\n",
            "torch.Size([256, 784])\n",
            "torch.Size([784, 1])\n",
            "torch.Size([256, 784])\n",
            "torch.Size([784, 1])\n",
            "torch.Size([256, 784])\n",
            "torch.Size([784, 1])\n",
            "torch.Size([256, 784])\n",
            "torch.Size([784, 1])\n",
            "torch.Size([256, 784])\n",
            "torch.Size([784, 1])\n",
            "torch.Size([256, 784])\n",
            "torch.Size([784, 1])\n",
            "torch.Size([256, 784])\n",
            "torch.Size([784, 1])\n",
            "torch.Size([256, 784])\n",
            "torch.Size([784, 1])\n",
            "torch.Size([256, 784])\n",
            "torch.Size([784, 1])\n",
            "torch.Size([256, 784])\n",
            "torch.Size([784, 1])\n",
            "torch.Size([256, 784])\n",
            "torch.Size([784, 1])\n",
            "torch.Size([256, 784])\n",
            "torch.Size([784, 1])\n",
            "torch.Size([256, 784])\n",
            "torch.Size([784, 1])\n",
            "torch.Size([256, 784])\n",
            "torch.Size([784, 1])\n",
            "torch.Size([256, 784])\n",
            "torch.Size([784, 1])\n",
            "torch.Size([256, 784])\n",
            "torch.Size([784, 1])\n",
            "torch.Size([256, 784])\n",
            "torch.Size([784, 1])\n",
            "torch.Size([256, 784])\n",
            "torch.Size([784, 1])\n",
            "torch.Size([256, 784])\n",
            "torch.Size([784, 1])\n",
            "torch.Size([256, 784])\n",
            "torch.Size([784, 1])\n",
            "torch.Size([256, 784])\n",
            "torch.Size([784, 1])\n",
            "torch.Size([256, 784])\n",
            "torch.Size([784, 1])\n",
            "torch.Size([256, 784])\n",
            "torch.Size([784, 1])\n",
            "torch.Size([256, 784])\n",
            "torch.Size([784, 1])\n",
            "torch.Size([256, 784])\n",
            "torch.Size([784, 1])\n",
            "torch.Size([256, 784])\n",
            "torch.Size([784, 1])\n",
            "torch.Size([256, 784])\n",
            "torch.Size([784, 1])\n",
            "torch.Size([256, 784])\n",
            "torch.Size([784, 1])\n",
            "torch.Size([256, 784])\n",
            "torch.Size([784, 1])\n",
            "torch.Size([256, 784])\n",
            "torch.Size([784, 1])\n",
            "torch.Size([256, 784])\n",
            "torch.Size([784, 1])\n",
            "torch.Size([256, 784])\n",
            "torch.Size([784, 1])\n",
            "torch.Size([256, 784])\n",
            "torch.Size([784, 1])\n",
            "torch.Size([256, 784])\n",
            "torch.Size([784, 1])\n",
            "torch.Size([256, 784])\n",
            "torch.Size([784, 1])\n",
            "torch.Size([256, 784])\n",
            "torch.Size([784, 1])\n",
            "torch.Size([256, 784])\n",
            "torch.Size([784, 1])\n",
            "torch.Size([256, 784])\n",
            "torch.Size([784, 1])\n",
            "torch.Size([256, 784])\n",
            "torch.Size([784, 1])\n",
            "torch.Size([256, 784])\n",
            "torch.Size([784, 1])\n",
            "torch.Size([256, 784])\n",
            "torch.Size([784, 1])\n",
            "torch.Size([256, 784])\n",
            "torch.Size([784, 1])\n",
            "torch.Size([108, 784])\n",
            "torch.Size([784, 1])\n",
            "torch.Size([256, 784])\n",
            "torch.Size([784, 1])\n",
            "torch.Size([256, 784])\n",
            "torch.Size([784, 1])\n",
            "torch.Size([256, 784])\n",
            "torch.Size([784, 1])\n",
            "torch.Size([256, 784])\n",
            "torch.Size([784, 1])\n",
            "torch.Size([256, 784])\n",
            "torch.Size([784, 1])\n",
            "torch.Size([256, 784])\n",
            "torch.Size([784, 1])\n",
            "torch.Size([256, 784])\n",
            "torch.Size([784, 1])\n",
            "torch.Size([246, 784])\n",
            "torch.Size([784, 1])\n",
            "0.9657torch.Size([256, 784])\n",
            "torch.Size([784, 1])\n",
            "torch.Size([256, 784])\n",
            "torch.Size([784, 1])\n",
            "torch.Size([256, 784])\n",
            "torch.Size([784, 1])\n",
            "torch.Size([256, 784])\n",
            "torch.Size([784, 1])\n",
            "torch.Size([256, 784])\n",
            "torch.Size([784, 1])\n",
            "torch.Size([256, 784])\n",
            "torch.Size([784, 1])\n",
            "torch.Size([256, 784])\n",
            "torch.Size([784, 1])\n",
            "torch.Size([256, 784])\n",
            "torch.Size([784, 1])\n",
            "torch.Size([256, 784])\n",
            "torch.Size([784, 1])\n",
            "torch.Size([256, 784])\n",
            "torch.Size([784, 1])\n",
            "torch.Size([256, 784])\n",
            "torch.Size([784, 1])\n",
            "torch.Size([256, 784])\n",
            "torch.Size([784, 1])\n",
            "torch.Size([256, 784])\n",
            "torch.Size([784, 1])\n",
            "torch.Size([256, 784])\n",
            "torch.Size([784, 1])\n",
            "torch.Size([256, 784])\n",
            "torch.Size([784, 1])\n",
            "torch.Size([256, 784])\n",
            "torch.Size([784, 1])\n",
            "torch.Size([256, 784])\n",
            "torch.Size([784, 1])\n",
            "torch.Size([256, 784])\n",
            "torch.Size([784, 1])\n",
            "torch.Size([256, 784])\n",
            "torch.Size([784, 1])\n",
            "torch.Size([256, 784])\n",
            "torch.Size([784, 1])\n",
            "torch.Size([256, 784])\n",
            "torch.Size([784, 1])\n",
            "torch.Size([256, 784])\n",
            "torch.Size([784, 1])\n",
            "torch.Size([256, 784])\n",
            "torch.Size([784, 1])\n",
            "torch.Size([256, 784])\n",
            "torch.Size([784, 1])\n",
            "torch.Size([256, 784])\n",
            "torch.Size([784, 1])\n",
            "torch.Size([256, 784])\n",
            "torch.Size([784, 1])\n",
            "torch.Size([256, 784])\n",
            "torch.Size([784, 1])\n",
            "torch.Size([256, 784])\n",
            "torch.Size([784, 1])\n",
            "torch.Size([256, 784])\n",
            "torch.Size([784, 1])\n",
            "torch.Size([256, 784])\n",
            "torch.Size([784, 1])\n",
            "torch.Size([256, 784])\n",
            "torch.Size([784, 1])\n",
            "torch.Size([256, 784])\n",
            "torch.Size([784, 1])\n",
            "torch.Size([256, 784])\n",
            "torch.Size([784, 1])\n",
            "torch.Size([256, 784])\n",
            "torch.Size([784, 1])\n",
            "torch.Size([256, 784])\n",
            "torch.Size([784, 1])\n",
            "torch.Size([256, 784])\n",
            "torch.Size([784, 1])\n",
            "torch.Size([256, 784])\n",
            "torch.Size([784, 1])\n",
            "torch.Size([256, 784])\n",
            "torch.Size([784, 1])\n",
            "torch.Size([256, 784])\n",
            "torch.Size([784, 1])\n",
            "torch.Size([256, 784])\n",
            "torch.Size([784, 1])\n",
            "torch.Size([256, 784])\n",
            "torch.Size([784, 1])\n",
            "torch.Size([256, 784])\n",
            "torch.Size([784, 1])\n",
            "torch.Size([256, 784])\n",
            "torch.Size([784, 1])\n",
            "torch.Size([256, 784])\n",
            "torch.Size([784, 1])\n",
            "torch.Size([256, 784])\n",
            "torch.Size([784, 1])\n",
            "torch.Size([256, 784])\n",
            "torch.Size([784, 1])\n",
            "torch.Size([256, 784])\n",
            "torch.Size([784, 1])\n",
            "torch.Size([256, 784])\n",
            "torch.Size([784, 1])\n",
            "torch.Size([108, 784])\n",
            "torch.Size([784, 1])\n",
            "torch.Size([256, 784])\n",
            "torch.Size([784, 1])\n",
            "torch.Size([256, 784])\n",
            "torch.Size([784, 1])\n",
            "torch.Size([256, 784])\n",
            "torch.Size([784, 1])\n",
            "torch.Size([256, 784])\n",
            "torch.Size([784, 1])\n",
            "torch.Size([256, 784])\n",
            "torch.Size([784, 1])\n",
            "torch.Size([256, 784])\n",
            "torch.Size([784, 1])\n",
            "torch.Size([256, 784])\n",
            "torch.Size([784, 1])\n",
            "torch.Size([246, 784])\n",
            "torch.Size([784, 1])\n",
            "0.9657torch.Size([256, 784])\n",
            "torch.Size([784, 1])\n",
            "torch.Size([256, 784])\n",
            "torch.Size([784, 1])\n",
            "torch.Size([256, 784])\n",
            "torch.Size([784, 1])\n",
            "torch.Size([256, 784])\n",
            "torch.Size([784, 1])\n",
            "torch.Size([256, 784])\n",
            "torch.Size([784, 1])\n",
            "torch.Size([256, 784])\n",
            "torch.Size([784, 1])\n",
            "torch.Size([256, 784])\n",
            "torch.Size([784, 1])\n",
            "torch.Size([256, 784])\n",
            "torch.Size([784, 1])\n",
            "torch.Size([256, 784])\n",
            "torch.Size([784, 1])\n",
            "torch.Size([256, 784])\n",
            "torch.Size([784, 1])\n",
            "torch.Size([256, 784])\n",
            "torch.Size([784, 1])\n",
            "torch.Size([256, 784])\n",
            "torch.Size([784, 1])\n",
            "torch.Size([256, 784])\n",
            "torch.Size([784, 1])\n",
            "torch.Size([256, 784])\n",
            "torch.Size([784, 1])\n",
            "torch.Size([256, 784])\n",
            "torch.Size([784, 1])\n",
            "torch.Size([256, 784])\n",
            "torch.Size([784, 1])\n",
            "torch.Size([256, 784])\n",
            "torch.Size([784, 1])\n",
            "torch.Size([256, 784])\n",
            "torch.Size([784, 1])\n",
            "torch.Size([256, 784])\n",
            "torch.Size([784, 1])\n",
            "torch.Size([256, 784])\n",
            "torch.Size([784, 1])\n",
            "torch.Size([256, 784])\n",
            "torch.Size([784, 1])\n",
            "torch.Size([256, 784])\n",
            "torch.Size([784, 1])\n",
            "torch.Size([256, 784])\n",
            "torch.Size([784, 1])\n",
            "torch.Size([256, 784])\n",
            "torch.Size([784, 1])\n",
            "torch.Size([256, 784])\n",
            "torch.Size([784, 1])\n",
            "torch.Size([256, 784])\n",
            "torch.Size([784, 1])\n",
            "torch.Size([256, 784])\n",
            "torch.Size([784, 1])\n",
            "torch.Size([256, 784])\n",
            "torch.Size([784, 1])\n",
            "torch.Size([256, 784])\n",
            "torch.Size([784, 1])\n",
            "torch.Size([256, 784])\n",
            "torch.Size([784, 1])\n",
            "torch.Size([256, 784])\n",
            "torch.Size([784, 1])\n",
            "torch.Size([256, 784])\n",
            "torch.Size([784, 1])\n",
            "torch.Size([256, 784])\n",
            "torch.Size([784, 1])\n",
            "torch.Size([256, 784])\n",
            "torch.Size([784, 1])\n",
            "torch.Size([256, 784])\n",
            "torch.Size([784, 1])\n",
            "torch.Size([256, 784])\n",
            "torch.Size([784, 1])\n",
            "torch.Size([256, 784])\n",
            "torch.Size([784, 1])\n",
            "torch.Size([256, 784])\n",
            "torch.Size([784, 1])\n",
            "torch.Size([256, 784])\n",
            "torch.Size([784, 1])\n",
            "torch.Size([256, 784])\n",
            "torch.Size([784, 1])\n",
            "torch.Size([256, 784])\n",
            "torch.Size([784, 1])\n",
            "torch.Size([256, 784])\n",
            "torch.Size([784, 1])\n",
            "torch.Size([256, 784])\n",
            "torch.Size([784, 1])\n",
            "torch.Size([256, 784])\n",
            "torch.Size([784, 1])\n",
            "torch.Size([256, 784])\n",
            "torch.Size([784, 1])\n",
            "torch.Size([256, 784])\n",
            "torch.Size([784, 1])\n",
            "torch.Size([256, 784])\n",
            "torch.Size([784, 1])\n",
            "torch.Size([256, 784])\n",
            "torch.Size([784, 1])\n",
            "torch.Size([108, 784])\n",
            "torch.Size([784, 1])\n",
            "torch.Size([256, 784])\n",
            "torch.Size([784, 1])\n",
            "torch.Size([256, 784])\n",
            "torch.Size([784, 1])\n",
            "torch.Size([256, 784])\n",
            "torch.Size([784, 1])\n",
            "torch.Size([256, 784])\n",
            "torch.Size([784, 1])\n",
            "torch.Size([256, 784])\n",
            "torch.Size([784, 1])\n",
            "torch.Size([256, 784])\n",
            "torch.Size([784, 1])\n",
            "torch.Size([256, 784])\n",
            "torch.Size([784, 1])\n",
            "torch.Size([246, 784])\n",
            "torch.Size([784, 1])\n",
            "0.9677torch.Size([256, 784])\n",
            "torch.Size([784, 1])\n",
            "torch.Size([256, 784])\n",
            "torch.Size([784, 1])\n",
            "torch.Size([256, 784])\n",
            "torch.Size([784, 1])\n",
            "torch.Size([256, 784])\n",
            "torch.Size([784, 1])\n",
            "torch.Size([256, 784])\n",
            "torch.Size([784, 1])\n",
            "torch.Size([256, 784])\n",
            "torch.Size([784, 1])\n",
            "torch.Size([256, 784])\n",
            "torch.Size([784, 1])\n",
            "torch.Size([256, 784])\n",
            "torch.Size([784, 1])\n",
            "torch.Size([256, 784])\n",
            "torch.Size([784, 1])\n",
            "torch.Size([256, 784])\n",
            "torch.Size([784, 1])\n",
            "torch.Size([256, 784])\n",
            "torch.Size([784, 1])\n",
            "torch.Size([256, 784])\n",
            "torch.Size([784, 1])\n",
            "torch.Size([256, 784])\n",
            "torch.Size([784, 1])\n",
            "torch.Size([256, 784])\n",
            "torch.Size([784, 1])\n",
            "torch.Size([256, 784])\n",
            "torch.Size([784, 1])\n",
            "torch.Size([256, 784])\n",
            "torch.Size([784, 1])\n",
            "torch.Size([256, 784])\n",
            "torch.Size([784, 1])\n",
            "torch.Size([256, 784])\n",
            "torch.Size([784, 1])\n",
            "torch.Size([256, 784])\n",
            "torch.Size([784, 1])\n",
            "torch.Size([256, 784])\n",
            "torch.Size([784, 1])\n",
            "torch.Size([256, 784])\n",
            "torch.Size([784, 1])\n",
            "torch.Size([256, 784])\n",
            "torch.Size([784, 1])\n",
            "torch.Size([256, 784])\n",
            "torch.Size([784, 1])\n",
            "torch.Size([256, 784])\n",
            "torch.Size([784, 1])\n",
            "torch.Size([256, 784])\n",
            "torch.Size([784, 1])\n",
            "torch.Size([256, 784])\n",
            "torch.Size([784, 1])\n",
            "torch.Size([256, 784])\n",
            "torch.Size([784, 1])\n",
            "torch.Size([256, 784])\n",
            "torch.Size([784, 1])\n",
            "torch.Size([256, 784])\n",
            "torch.Size([784, 1])\n",
            "torch.Size([256, 784])\n",
            "torch.Size([784, 1])\n",
            "torch.Size([256, 784])\n",
            "torch.Size([784, 1])\n",
            "torch.Size([256, 784])\n",
            "torch.Size([784, 1])\n",
            "torch.Size([256, 784])\n",
            "torch.Size([784, 1])\n",
            "torch.Size([256, 784])\n",
            "torch.Size([784, 1])\n",
            "torch.Size([256, 784])\n",
            "torch.Size([784, 1])\n",
            "torch.Size([256, 784])\n",
            "torch.Size([784, 1])\n",
            "torch.Size([256, 784])\n",
            "torch.Size([784, 1])\n",
            "torch.Size([256, 784])\n",
            "torch.Size([784, 1])\n",
            "torch.Size([256, 784])\n",
            "torch.Size([784, 1])\n",
            "torch.Size([256, 784])\n",
            "torch.Size([784, 1])\n",
            "torch.Size([256, 784])\n",
            "torch.Size([784, 1])\n",
            "torch.Size([256, 784])\n",
            "torch.Size([784, 1])\n",
            "torch.Size([256, 784])\n",
            "torch.Size([784, 1])\n",
            "torch.Size([256, 784])\n",
            "torch.Size([784, 1])\n",
            "torch.Size([256, 784])\n",
            "torch.Size([784, 1])\n",
            "torch.Size([256, 784])\n",
            "torch.Size([784, 1])\n",
            "torch.Size([256, 784])\n",
            "torch.Size([784, 1])\n",
            "torch.Size([256, 784])\n",
            "torch.Size([784, 1])\n",
            "torch.Size([108, 784])\n",
            "torch.Size([784, 1])\n",
            "torch.Size([256, 784])\n",
            "torch.Size([784, 1])\n",
            "torch.Size([256, 784])\n",
            "torch.Size([784, 1])\n",
            "torch.Size([256, 784])\n",
            "torch.Size([784, 1])\n",
            "torch.Size([256, 784])\n",
            "torch.Size([784, 1])\n",
            "torch.Size([256, 784])\n",
            "torch.Size([784, 1])\n",
            "torch.Size([256, 784])\n",
            "torch.Size([784, 1])\n",
            "torch.Size([256, 784])\n",
            "torch.Size([784, 1])\n",
            "torch.Size([246, 784])\n",
            "torch.Size([784, 1])\n",
            "0.9682torch.Size([256, 784])\n",
            "torch.Size([784, 1])\n",
            "torch.Size([256, 784])\n",
            "torch.Size([784, 1])\n",
            "torch.Size([256, 784])\n",
            "torch.Size([784, 1])\n",
            "torch.Size([256, 784])\n",
            "torch.Size([784, 1])\n",
            "torch.Size([256, 784])\n",
            "torch.Size([784, 1])\n",
            "torch.Size([256, 784])\n",
            "torch.Size([784, 1])\n",
            "torch.Size([256, 784])\n",
            "torch.Size([784, 1])\n",
            "torch.Size([256, 784])\n",
            "torch.Size([784, 1])\n",
            "torch.Size([256, 784])\n",
            "torch.Size([784, 1])\n",
            "torch.Size([256, 784])\n",
            "torch.Size([784, 1])\n",
            "torch.Size([256, 784])\n",
            "torch.Size([784, 1])\n",
            "torch.Size([256, 784])\n",
            "torch.Size([784, 1])\n",
            "torch.Size([256, 784])\n",
            "torch.Size([784, 1])\n",
            "torch.Size([256, 784])\n",
            "torch.Size([784, 1])\n",
            "torch.Size([256, 784])\n",
            "torch.Size([784, 1])\n",
            "torch.Size([256, 784])\n",
            "torch.Size([784, 1])\n",
            "torch.Size([256, 784])\n",
            "torch.Size([784, 1])\n",
            "torch.Size([256, 784])\n",
            "torch.Size([784, 1])\n",
            "torch.Size([256, 784])\n",
            "torch.Size([784, 1])\n",
            "torch.Size([256, 784])\n",
            "torch.Size([784, 1])\n",
            "torch.Size([256, 784])\n",
            "torch.Size([784, 1])\n",
            "torch.Size([256, 784])\n",
            "torch.Size([784, 1])\n",
            "torch.Size([256, 784])\n",
            "torch.Size([784, 1])\n",
            "torch.Size([256, 784])\n",
            "torch.Size([784, 1])\n",
            "torch.Size([256, 784])\n",
            "torch.Size([784, 1])\n",
            "torch.Size([256, 784])\n",
            "torch.Size([784, 1])\n",
            "torch.Size([256, 784])\n",
            "torch.Size([784, 1])\n",
            "torch.Size([256, 784])\n",
            "torch.Size([784, 1])\n",
            "torch.Size([256, 784])\n",
            "torch.Size([784, 1])\n",
            "torch.Size([256, 784])\n",
            "torch.Size([784, 1])\n",
            "torch.Size([256, 784])\n",
            "torch.Size([784, 1])\n",
            "torch.Size([256, 784])\n",
            "torch.Size([784, 1])\n",
            "torch.Size([256, 784])\n",
            "torch.Size([784, 1])\n",
            "torch.Size([256, 784])\n",
            "torch.Size([784, 1])\n",
            "torch.Size([256, 784])\n",
            "torch.Size([784, 1])\n",
            "torch.Size([256, 784])\n",
            "torch.Size([784, 1])\n",
            "torch.Size([256, 784])\n",
            "torch.Size([784, 1])\n",
            "torch.Size([256, 784])\n",
            "torch.Size([784, 1])\n",
            "torch.Size([256, 784])\n",
            "torch.Size([784, 1])\n",
            "torch.Size([256, 784])\n",
            "torch.Size([784, 1])\n",
            "torch.Size([256, 784])\n",
            "torch.Size([784, 1])\n",
            "torch.Size([256, 784])\n",
            "torch.Size([784, 1])\n",
            "torch.Size([256, 784])\n",
            "torch.Size([784, 1])\n",
            "torch.Size([256, 784])\n",
            "torch.Size([784, 1])\n",
            "torch.Size([256, 784])\n",
            "torch.Size([784, 1])\n",
            "torch.Size([256, 784])\n",
            "torch.Size([784, 1])\n",
            "torch.Size([256, 784])\n",
            "torch.Size([784, 1])\n",
            "torch.Size([256, 784])\n",
            "torch.Size([784, 1])\n",
            "torch.Size([108, 784])\n",
            "torch.Size([784, 1])\n",
            "torch.Size([256, 784])\n",
            "torch.Size([784, 1])\n",
            "torch.Size([256, 784])\n",
            "torch.Size([784, 1])\n",
            "torch.Size([256, 784])\n",
            "torch.Size([784, 1])\n",
            "torch.Size([256, 784])\n",
            "torch.Size([784, 1])\n",
            "torch.Size([256, 784])\n",
            "torch.Size([784, 1])\n",
            "torch.Size([256, 784])\n",
            "torch.Size([784, 1])\n",
            "torch.Size([256, 784])\n",
            "torch.Size([784, 1])\n",
            "torch.Size([246, 784])\n",
            "torch.Size([784, 1])\n",
            "0.9706torch.Size([256, 784])\n",
            "torch.Size([784, 1])\n",
            "torch.Size([256, 784])\n",
            "torch.Size([784, 1])\n",
            "torch.Size([256, 784])\n",
            "torch.Size([784, 1])\n",
            "torch.Size([256, 784])\n",
            "torch.Size([784, 1])\n",
            "torch.Size([256, 784])\n",
            "torch.Size([784, 1])\n",
            "torch.Size([256, 784])\n",
            "torch.Size([784, 1])\n",
            "torch.Size([256, 784])\n",
            "torch.Size([784, 1])\n",
            "torch.Size([256, 784])\n",
            "torch.Size([784, 1])\n",
            "torch.Size([256, 784])\n",
            "torch.Size([784, 1])\n",
            "torch.Size([256, 784])\n",
            "torch.Size([784, 1])\n",
            "torch.Size([256, 784])\n",
            "torch.Size([784, 1])\n",
            "torch.Size([256, 784])\n",
            "torch.Size([784, 1])\n",
            "torch.Size([256, 784])\n",
            "torch.Size([784, 1])\n",
            "torch.Size([256, 784])\n",
            "torch.Size([784, 1])\n",
            "torch.Size([256, 784])\n",
            "torch.Size([784, 1])\n",
            "torch.Size([256, 784])\n",
            "torch.Size([784, 1])\n",
            "torch.Size([256, 784])\n",
            "torch.Size([784, 1])\n",
            "torch.Size([256, 784])\n",
            "torch.Size([784, 1])\n",
            "torch.Size([256, 784])\n",
            "torch.Size([784, 1])\n",
            "torch.Size([256, 784])\n",
            "torch.Size([784, 1])\n",
            "torch.Size([256, 784])\n",
            "torch.Size([784, 1])\n",
            "torch.Size([256, 784])\n",
            "torch.Size([784, 1])\n",
            "torch.Size([256, 784])\n",
            "torch.Size([784, 1])\n",
            "torch.Size([256, 784])\n",
            "torch.Size([784, 1])\n",
            "torch.Size([256, 784])\n",
            "torch.Size([784, 1])\n",
            "torch.Size([256, 784])\n",
            "torch.Size([784, 1])\n",
            "torch.Size([256, 784])\n",
            "torch.Size([784, 1])\n",
            "torch.Size([256, 784])\n",
            "torch.Size([784, 1])\n",
            "torch.Size([256, 784])\n",
            "torch.Size([784, 1])\n",
            "torch.Size([256, 784])\n",
            "torch.Size([784, 1])\n",
            "torch.Size([256, 784])\n",
            "torch.Size([784, 1])\n",
            "torch.Size([256, 784])\n",
            "torch.Size([784, 1])\n",
            "torch.Size([256, 784])\n",
            "torch.Size([784, 1])\n",
            "torch.Size([256, 784])\n",
            "torch.Size([784, 1])\n",
            "torch.Size([256, 784])\n",
            "torch.Size([784, 1])\n",
            "torch.Size([256, 784])\n",
            "torch.Size([784, 1])\n",
            "torch.Size([256, 784])\n",
            "torch.Size([784, 1])\n",
            "torch.Size([256, 784])\n",
            "torch.Size([784, 1])\n",
            "torch.Size([256, 784])\n",
            "torch.Size([784, 1])\n",
            "torch.Size([256, 784])\n",
            "torch.Size([784, 1])\n",
            "torch.Size([256, 784])\n",
            "torch.Size([784, 1])\n",
            "torch.Size([256, 784])\n",
            "torch.Size([784, 1])\n",
            "torch.Size([256, 784])\n",
            "torch.Size([784, 1])\n",
            "torch.Size([256, 784])\n",
            "torch.Size([784, 1])\n",
            "torch.Size([256, 784])\n",
            "torch.Size([784, 1])\n",
            "torch.Size([256, 784])\n",
            "torch.Size([784, 1])\n",
            "torch.Size([256, 784])\n",
            "torch.Size([784, 1])\n",
            "torch.Size([256, 784])\n",
            "torch.Size([784, 1])\n",
            "torch.Size([108, 784])\n",
            "torch.Size([784, 1])\n",
            "torch.Size([256, 784])\n",
            "torch.Size([784, 1])\n",
            "torch.Size([256, 784])\n",
            "torch.Size([784, 1])\n",
            "torch.Size([256, 784])\n",
            "torch.Size([784, 1])\n",
            "torch.Size([256, 784])\n",
            "torch.Size([784, 1])\n",
            "torch.Size([256, 784])\n",
            "torch.Size([784, 1])\n",
            "torch.Size([256, 784])\n",
            "torch.Size([784, 1])\n",
            "torch.Size([256, 784])\n",
            "torch.Size([784, 1])\n",
            "torch.Size([246, 784])\n",
            "torch.Size([784, 1])\n",
            "0.9706torch.Size([256, 784])\n",
            "torch.Size([784, 1])\n",
            "torch.Size([256, 784])\n",
            "torch.Size([784, 1])\n",
            "torch.Size([256, 784])\n",
            "torch.Size([784, 1])\n",
            "torch.Size([256, 784])\n",
            "torch.Size([784, 1])\n",
            "torch.Size([256, 784])\n",
            "torch.Size([784, 1])\n",
            "torch.Size([256, 784])\n",
            "torch.Size([784, 1])\n",
            "torch.Size([256, 784])\n",
            "torch.Size([784, 1])\n",
            "torch.Size([256, 784])\n",
            "torch.Size([784, 1])\n",
            "torch.Size([256, 784])\n",
            "torch.Size([784, 1])\n",
            "torch.Size([256, 784])\n",
            "torch.Size([784, 1])\n",
            "torch.Size([256, 784])\n",
            "torch.Size([784, 1])\n",
            "torch.Size([256, 784])\n",
            "torch.Size([784, 1])\n",
            "torch.Size([256, 784])\n",
            "torch.Size([784, 1])\n",
            "torch.Size([256, 784])\n",
            "torch.Size([784, 1])\n",
            "torch.Size([256, 784])\n",
            "torch.Size([784, 1])\n",
            "torch.Size([256, 784])\n",
            "torch.Size([784, 1])\n",
            "torch.Size([256, 784])\n",
            "torch.Size([784, 1])\n",
            "torch.Size([256, 784])\n",
            "torch.Size([784, 1])\n",
            "torch.Size([256, 784])\n",
            "torch.Size([784, 1])\n",
            "torch.Size([256, 784])\n",
            "torch.Size([784, 1])\n",
            "torch.Size([256, 784])\n",
            "torch.Size([784, 1])\n",
            "torch.Size([256, 784])\n",
            "torch.Size([784, 1])\n",
            "torch.Size([256, 784])\n",
            "torch.Size([784, 1])\n",
            "torch.Size([256, 784])\n",
            "torch.Size([784, 1])\n",
            "torch.Size([256, 784])\n",
            "torch.Size([784, 1])\n",
            "torch.Size([256, 784])\n",
            "torch.Size([784, 1])\n",
            "torch.Size([256, 784])\n",
            "torch.Size([784, 1])\n",
            "torch.Size([256, 784])\n",
            "torch.Size([784, 1])\n",
            "torch.Size([256, 784])\n",
            "torch.Size([784, 1])\n",
            "torch.Size([256, 784])\n",
            "torch.Size([784, 1])\n",
            "torch.Size([256, 784])\n",
            "torch.Size([784, 1])\n",
            "torch.Size([256, 784])\n",
            "torch.Size([784, 1])\n",
            "torch.Size([256, 784])\n",
            "torch.Size([784, 1])\n",
            "torch.Size([256, 784])\n",
            "torch.Size([784, 1])\n",
            "torch.Size([256, 784])\n",
            "torch.Size([784, 1])\n",
            "torch.Size([256, 784])\n",
            "torch.Size([784, 1])\n",
            "torch.Size([256, 784])\n",
            "torch.Size([784, 1])\n",
            "torch.Size([256, 784])\n",
            "torch.Size([784, 1])\n",
            "torch.Size([256, 784])\n",
            "torch.Size([784, 1])\n",
            "torch.Size([256, 784])\n",
            "torch.Size([784, 1])\n",
            "torch.Size([256, 784])\n",
            "torch.Size([784, 1])\n",
            "torch.Size([256, 784])\n",
            "torch.Size([784, 1])\n",
            "torch.Size([256, 784])\n",
            "torch.Size([784, 1])\n",
            "torch.Size([256, 784])\n",
            "torch.Size([784, 1])\n",
            "torch.Size([256, 784])\n",
            "torch.Size([784, 1])\n",
            "torch.Size([256, 784])\n",
            "torch.Size([784, 1])\n",
            "torch.Size([256, 784])\n",
            "torch.Size([784, 1])\n",
            "torch.Size([256, 784])\n",
            "torch.Size([784, 1])\n",
            "torch.Size([108, 784])\n",
            "torch.Size([784, 1])\n",
            "torch.Size([256, 784])\n",
            "torch.Size([784, 1])\n",
            "torch.Size([256, 784])\n",
            "torch.Size([784, 1])\n",
            "torch.Size([256, 784])\n",
            "torch.Size([784, 1])\n",
            "torch.Size([256, 784])\n",
            "torch.Size([784, 1])\n",
            "torch.Size([256, 784])\n",
            "torch.Size([784, 1])\n",
            "torch.Size([256, 784])\n",
            "torch.Size([784, 1])\n",
            "torch.Size([256, 784])\n",
            "torch.Size([784, 1])\n",
            "torch.Size([246, 784])\n",
            "torch.Size([784, 1])\n",
            "0.9706torch.Size([256, 784])\n",
            "torch.Size([784, 1])\n",
            "torch.Size([256, 784])\n",
            "torch.Size([784, 1])\n",
            "torch.Size([256, 784])\n",
            "torch.Size([784, 1])\n",
            "torch.Size([256, 784])\n",
            "torch.Size([784, 1])\n",
            "torch.Size([256, 784])\n",
            "torch.Size([784, 1])\n",
            "torch.Size([256, 784])\n",
            "torch.Size([784, 1])\n",
            "torch.Size([256, 784])\n",
            "torch.Size([784, 1])\n",
            "torch.Size([256, 784])\n",
            "torch.Size([784, 1])\n",
            "torch.Size([256, 784])\n",
            "torch.Size([784, 1])\n",
            "torch.Size([256, 784])\n",
            "torch.Size([784, 1])\n",
            "torch.Size([256, 784])\n",
            "torch.Size([784, 1])\n",
            "torch.Size([256, 784])\n",
            "torch.Size([784, 1])\n",
            "torch.Size([256, 784])\n",
            "torch.Size([784, 1])\n",
            "torch.Size([256, 784])\n",
            "torch.Size([784, 1])\n",
            "torch.Size([256, 784])\n",
            "torch.Size([784, 1])\n",
            "torch.Size([256, 784])\n",
            "torch.Size([784, 1])\n",
            "torch.Size([256, 784])\n",
            "torch.Size([784, 1])\n",
            "torch.Size([256, 784])\n",
            "torch.Size([784, 1])\n",
            "torch.Size([256, 784])\n",
            "torch.Size([784, 1])\n",
            "torch.Size([256, 784])\n",
            "torch.Size([784, 1])\n",
            "torch.Size([256, 784])\n",
            "torch.Size([784, 1])\n",
            "torch.Size([256, 784])\n",
            "torch.Size([784, 1])\n",
            "torch.Size([256, 784])\n",
            "torch.Size([784, 1])\n",
            "torch.Size([256, 784])\n",
            "torch.Size([784, 1])\n",
            "torch.Size([256, 784])\n",
            "torch.Size([784, 1])\n",
            "torch.Size([256, 784])\n",
            "torch.Size([784, 1])\n",
            "torch.Size([256, 784])\n",
            "torch.Size([784, 1])\n",
            "torch.Size([256, 784])\n",
            "torch.Size([784, 1])\n",
            "torch.Size([256, 784])\n",
            "torch.Size([784, 1])\n",
            "torch.Size([256, 784])\n",
            "torch.Size([784, 1])\n",
            "torch.Size([256, 784])\n",
            "torch.Size([784, 1])\n",
            "torch.Size([256, 784])\n",
            "torch.Size([784, 1])\n",
            "torch.Size([256, 784])\n",
            "torch.Size([784, 1])\n",
            "torch.Size([256, 784])\n",
            "torch.Size([784, 1])\n",
            "torch.Size([256, 784])\n",
            "torch.Size([784, 1])\n",
            "torch.Size([256, 784])\n",
            "torch.Size([784, 1])\n",
            "torch.Size([256, 784])\n",
            "torch.Size([784, 1])\n",
            "torch.Size([256, 784])\n",
            "torch.Size([784, 1])\n",
            "torch.Size([256, 784])\n",
            "torch.Size([784, 1])\n",
            "torch.Size([256, 784])\n",
            "torch.Size([784, 1])\n",
            "torch.Size([256, 784])\n",
            "torch.Size([784, 1])\n",
            "torch.Size([256, 784])\n",
            "torch.Size([784, 1])\n",
            "torch.Size([256, 784])\n",
            "torch.Size([784, 1])\n",
            "torch.Size([256, 784])\n",
            "torch.Size([784, 1])\n",
            "torch.Size([256, 784])\n",
            "torch.Size([784, 1])\n",
            "torch.Size([256, 784])\n",
            "torch.Size([784, 1])\n",
            "torch.Size([256, 784])\n",
            "torch.Size([784, 1])\n",
            "torch.Size([256, 784])\n",
            "torch.Size([784, 1])\n",
            "torch.Size([108, 784])\n",
            "torch.Size([784, 1])\n",
            "torch.Size([256, 784])\n",
            "torch.Size([784, 1])\n",
            "torch.Size([256, 784])\n",
            "torch.Size([784, 1])\n",
            "torch.Size([256, 784])\n",
            "torch.Size([784, 1])\n",
            "torch.Size([256, 784])\n",
            "torch.Size([784, 1])\n",
            "torch.Size([256, 784])\n",
            "torch.Size([784, 1])\n",
            "torch.Size([256, 784])\n",
            "torch.Size([784, 1])\n",
            "torch.Size([256, 784])\n",
            "torch.Size([784, 1])\n",
            "torch.Size([246, 784])\n",
            "torch.Size([784, 1])\n",
            "0.9711torch.Size([256, 784])\n",
            "torch.Size([784, 1])\n",
            "torch.Size([256, 784])\n",
            "torch.Size([784, 1])\n",
            "torch.Size([256, 784])\n",
            "torch.Size([784, 1])\n",
            "torch.Size([256, 784])\n",
            "torch.Size([784, 1])\n",
            "torch.Size([256, 784])\n",
            "torch.Size([784, 1])\n",
            "torch.Size([256, 784])\n",
            "torch.Size([784, 1])\n",
            "torch.Size([256, 784])\n",
            "torch.Size([784, 1])\n",
            "torch.Size([256, 784])\n",
            "torch.Size([784, 1])\n",
            "torch.Size([256, 784])\n",
            "torch.Size([784, 1])\n",
            "torch.Size([256, 784])\n",
            "torch.Size([784, 1])\n",
            "torch.Size([256, 784])\n",
            "torch.Size([784, 1])\n",
            "torch.Size([256, 784])\n",
            "torch.Size([784, 1])\n",
            "torch.Size([256, 784])\n",
            "torch.Size([784, 1])\n",
            "torch.Size([256, 784])\n",
            "torch.Size([784, 1])\n",
            "torch.Size([256, 784])\n",
            "torch.Size([784, 1])\n",
            "torch.Size([256, 784])\n",
            "torch.Size([784, 1])\n",
            "torch.Size([256, 784])\n",
            "torch.Size([784, 1])\n",
            "torch.Size([256, 784])\n",
            "torch.Size([784, 1])\n",
            "torch.Size([256, 784])\n",
            "torch.Size([784, 1])\n",
            "torch.Size([256, 784])\n",
            "torch.Size([784, 1])\n",
            "torch.Size([256, 784])\n",
            "torch.Size([784, 1])\n",
            "torch.Size([256, 784])\n",
            "torch.Size([784, 1])\n",
            "torch.Size([256, 784])\n",
            "torch.Size([784, 1])\n",
            "torch.Size([256, 784])\n",
            "torch.Size([784, 1])\n",
            "torch.Size([256, 784])\n",
            "torch.Size([784, 1])\n",
            "torch.Size([256, 784])\n",
            "torch.Size([784, 1])\n",
            "torch.Size([256, 784])\n",
            "torch.Size([784, 1])\n",
            "torch.Size([256, 784])\n",
            "torch.Size([784, 1])\n",
            "torch.Size([256, 784])\n",
            "torch.Size([784, 1])\n",
            "torch.Size([256, 784])\n",
            "torch.Size([784, 1])\n",
            "torch.Size([256, 784])\n",
            "torch.Size([784, 1])\n",
            "torch.Size([256, 784])\n",
            "torch.Size([784, 1])\n",
            "torch.Size([256, 784])\n",
            "torch.Size([784, 1])\n",
            "torch.Size([256, 784])\n",
            "torch.Size([784, 1])\n",
            "torch.Size([256, 784])\n",
            "torch.Size([784, 1])\n",
            "torch.Size([256, 784])\n",
            "torch.Size([784, 1])\n",
            "torch.Size([256, 784])\n",
            "torch.Size([784, 1])\n",
            "torch.Size([256, 784])\n",
            "torch.Size([784, 1])\n",
            "torch.Size([256, 784])\n",
            "torch.Size([784, 1])\n",
            "torch.Size([256, 784])\n",
            "torch.Size([784, 1])\n",
            "torch.Size([256, 784])\n",
            "torch.Size([784, 1])\n",
            "torch.Size([256, 784])\n",
            "torch.Size([784, 1])\n",
            "torch.Size([256, 784])\n",
            "torch.Size([784, 1])\n",
            "torch.Size([256, 784])\n",
            "torch.Size([784, 1])\n",
            "torch.Size([256, 784])\n",
            "torch.Size([784, 1])\n",
            "torch.Size([256, 784])\n",
            "torch.Size([784, 1])\n",
            "torch.Size([256, 784])\n",
            "torch.Size([784, 1])\n",
            "torch.Size([256, 784])\n",
            "torch.Size([784, 1])\n",
            "torch.Size([108, 784])\n",
            "torch.Size([784, 1])\n",
            "torch.Size([256, 784])\n",
            "torch.Size([784, 1])\n",
            "torch.Size([256, 784])\n",
            "torch.Size([784, 1])\n",
            "torch.Size([256, 784])\n",
            "torch.Size([784, 1])\n",
            "torch.Size([256, 784])\n",
            "torch.Size([784, 1])\n",
            "torch.Size([256, 784])\n",
            "torch.Size([784, 1])\n",
            "torch.Size([256, 784])\n",
            "torch.Size([784, 1])\n",
            "torch.Size([256, 784])\n",
            "torch.Size([784, 1])\n",
            "torch.Size([246, 784])\n",
            "torch.Size([784, 1])\n",
            "0.9711"
          ]
        }
      ]
    },
    {
      "cell_type": "code",
      "source": [
        "linear_model = nn.Linear(28*28, 1)"
      ],
      "metadata": {
        "id": "wkaSJPIwkmNy"
      },
      "execution_count": 112,
      "outputs": []
    },
    {
      "cell_type": "code",
      "source": [
        "# parametersメソッドで内部訓練可能パラメータ参照\n",
        "w, b = linear_model.parameters()\n",
        "print(w.shape, b.shape)"
      ],
      "metadata": {
        "colab": {
          "base_uri": "https://localhost:8080/"
        },
        "id": "XeMK7RKE6kHz",
        "outputId": "60b9cbed-b0da-459a-9c3d-c79f2d110c95"
      },
      "execution_count": 113,
      "outputs": [
        {
          "output_type": "stream",
          "name": "stdout",
          "text": [
            "torch.Size([1, 784]) torch.Size([1])\n"
          ]
        }
      ]
    },
    {
      "cell_type": "code",
      "source": [
        "class BasicOptim:\n",
        "  def __init__(self, params, lr): self.params, self.lr = list(params), lr\n",
        "\n",
        "  def step(self, *args, **kwargs):\n",
        "    for p in self.params: p.data -= p.grad.data*self.lr\n",
        "  \n",
        "  def zero_grad(self, *args, **kwargs):\n",
        "    for p in self.params: p.grad = None"
      ],
      "metadata": {
        "id": "ilKuDsvI687h"
      },
      "execution_count": 114,
      "outputs": []
    },
    {
      "cell_type": "code",
      "source": [
        "opt = BasicOptim(linear_model.parameters(), lr)"
      ],
      "metadata": {
        "id": "Db6UYG0w7tJV"
      },
      "execution_count": 115,
      "outputs": []
    },
    {
      "cell_type": "code",
      "source": [
        "def train_epoch(model):\n",
        "  for xb, yb in dl:\n",
        "    calc_grad(xb, yb, model)\n",
        "    opt.step()\n",
        "    opt.zero_grad()"
      ],
      "metadata": {
        "id": "uwNA1QwT8vS8"
      },
      "execution_count": 116,
      "outputs": []
    },
    {
      "cell_type": "code",
      "source": [
        "validate_epoch(linear_model)"
      ],
      "metadata": {
        "colab": {
          "base_uri": "https://localhost:8080/"
        },
        "id": "hYcdER769A6j",
        "outputId": "0fc01e5a-30dc-41d3-cdef-9f8fbd37c5ca"
      },
      "execution_count": 117,
      "outputs": [
        {
          "output_type": "execute_result",
          "data": {
            "text/plain": [
              "0.5458"
            ]
          },
          "metadata": {},
          "execution_count": 117
        }
      ]
    },
    {
      "cell_type": "code",
      "source": [
        "def train_model(model, epochs):\n",
        "  for i in range(epochs):\n",
        "    train_epoch(model)\n",
        "    print(validate_epoch(model), end=\" \")"
      ],
      "metadata": {
        "id": "5FvoCstU9EEj"
      },
      "execution_count": 118,
      "outputs": []
    },
    {
      "cell_type": "code",
      "source": [
        "train_model(linear_model, 20)"
      ],
      "metadata": {
        "colab": {
          "base_uri": "https://localhost:8080/"
        },
        "id": "XjXZWyuB9Rgj",
        "outputId": "dda28fc7-3751-445b-88b2-b4fe35618ca3"
      },
      "execution_count": 119,
      "outputs": [
        {
          "output_type": "stream",
          "name": "stdout",
          "text": [
            "0.4932 0.855 0.8335 0.9116 0.9331 0.9482 0.956 0.9624 0.9653 0.9682 0.9697 0.9721 0.9741 0.9751 0.9761 0.9761 0.9775 0.978 0.978 0.9785 "
          ]
        }
      ]
    },
    {
      "cell_type": "code",
      "source": [
        "linear_model = nn.Linear(28*28, 1)\n",
        "opt = SGD(linear_model.parameters(), lr)\n",
        "train_model(linear_model, 20)"
      ],
      "metadata": {
        "colab": {
          "base_uri": "https://localhost:8080/"
        },
        "id": "YgWDJYmF9TpN",
        "outputId": "f46651fb-a1f9-4fbb-ffd5-34f9add7fec4"
      },
      "execution_count": 120,
      "outputs": [
        {
          "output_type": "stream",
          "name": "stdout",
          "text": [
            "0.4932 0.4932 0.6577 0.8682 0.918 0.936 0.9502 0.9565 0.9643 0.9658 0.9678 0.9702 0.9721 0.9741 0.9751 0.9761 0.9765 0.9775 0.978 0.9785 "
          ]
        }
      ]
    },
    {
      "cell_type": "code",
      "source": [
        "dls = DataLoaders(dl, valid_dl)\n",
        "learn = Learner(dls, nn.Linear(28*28,1), opt_func=SGD,\n",
        "                loss_func=mnist_loss, metrics=batch_accuracy)"
      ],
      "metadata": {
        "id": "MLMGORmM9oot"
      },
      "execution_count": 121,
      "outputs": []
    },
    {
      "cell_type": "code",
      "source": [
        "learn.fit(10, lr=lr)"
      ],
      "metadata": {
        "colab": {
          "base_uri": "https://localhost:8080/",
          "height": 363
        },
        "id": "-yhcBH5a-HUV",
        "outputId": "80e3480f-407f-4021-d3c4-44c485ee7802"
      },
      "execution_count": 122,
      "outputs": [
        {
          "output_type": "display_data",
          "data": {
            "text/plain": [
              "<IPython.core.display.HTML object>"
            ],
            "text/html": [
              "\n",
              "<style>\n",
              "    /* Turns off some styling */\n",
              "    progress {\n",
              "        /* gets rid of default border in Firefox and Opera. */\n",
              "        border: none;\n",
              "        /* Needs to be in here for Safari polyfill so background images work as expected. */\n",
              "        background-size: auto;\n",
              "    }\n",
              "    progress:not([value]), progress:not([value])::-webkit-progress-bar {\n",
              "        background: repeating-linear-gradient(45deg, #7e7e7e, #7e7e7e 10px, #5c5c5c 10px, #5c5c5c 20px);\n",
              "    }\n",
              "    .progress-bar-interrupted, .progress-bar-interrupted::-webkit-progress-bar {\n",
              "        background: #F44336;\n",
              "    }\n",
              "</style>\n"
            ]
          },
          "metadata": {}
        },
        {
          "output_type": "display_data",
          "data": {
            "text/plain": [
              "<IPython.core.display.HTML object>"
            ],
            "text/html": [
              "<table border=\"1\" class=\"dataframe\">\n",
              "  <thead>\n",
              "    <tr style=\"text-align: left;\">\n",
              "      <th>epoch</th>\n",
              "      <th>train_loss</th>\n",
              "      <th>valid_loss</th>\n",
              "      <th>batch_accuracy</th>\n",
              "      <th>time</th>\n",
              "    </tr>\n",
              "  </thead>\n",
              "  <tbody>\n",
              "    <tr>\n",
              "      <td>0</td>\n",
              "      <td>0.636947</td>\n",
              "      <td>0.503431</td>\n",
              "      <td>0.495584</td>\n",
              "      <td>00:00</td>\n",
              "    </tr>\n",
              "    <tr>\n",
              "      <td>1</td>\n",
              "      <td>0.498895</td>\n",
              "      <td>0.187969</td>\n",
              "      <td>0.842493</td>\n",
              "      <td>00:00</td>\n",
              "    </tr>\n",
              "    <tr>\n",
              "      <td>2</td>\n",
              "      <td>0.183761</td>\n",
              "      <td>0.180524</td>\n",
              "      <td>0.838077</td>\n",
              "      <td>00:00</td>\n",
              "    </tr>\n",
              "    <tr>\n",
              "      <td>3</td>\n",
              "      <td>0.080955</td>\n",
              "      <td>0.106853</td>\n",
              "      <td>0.911187</td>\n",
              "      <td>00:00</td>\n",
              "    </tr>\n",
              "    <tr>\n",
              "      <td>4</td>\n",
              "      <td>0.043101</td>\n",
              "      <td>0.078138</td>\n",
              "      <td>0.933268</td>\n",
              "      <td>00:00</td>\n",
              "    </tr>\n",
              "    <tr>\n",
              "      <td>5</td>\n",
              "      <td>0.028327</td>\n",
              "      <td>0.062604</td>\n",
              "      <td>0.946025</td>\n",
              "      <td>00:00</td>\n",
              "    </tr>\n",
              "    <tr>\n",
              "      <td>6</td>\n",
              "      <td>0.022250</td>\n",
              "      <td>0.052881</td>\n",
              "      <td>0.954367</td>\n",
              "      <td>00:00</td>\n",
              "    </tr>\n",
              "    <tr>\n",
              "      <td>7</td>\n",
              "      <td>0.019546</td>\n",
              "      <td>0.046411</td>\n",
              "      <td>0.962218</td>\n",
              "      <td>00:00</td>\n",
              "    </tr>\n",
              "    <tr>\n",
              "      <td>8</td>\n",
              "      <td>0.018173</td>\n",
              "      <td>0.041881</td>\n",
              "      <td>0.965162</td>\n",
              "      <td>00:00</td>\n",
              "    </tr>\n",
              "    <tr>\n",
              "      <td>9</td>\n",
              "      <td>0.017347</td>\n",
              "      <td>0.038555</td>\n",
              "      <td>0.966634</td>\n",
              "      <td>00:00</td>\n",
              "    </tr>\n",
              "  </tbody>\n",
              "</table>"
            ]
          },
          "metadata": {}
        }
      ]
    },
    {
      "cell_type": "markdown",
      "source": [
        "## 4.7 非線形性を加える"
      ],
      "metadata": {
        "id": "W_xbVb-C-KjE"
      }
    },
    {
      "cell_type": "code",
      "source": [
        "def simple_net(xb):\n",
        "  res = xb@w1 + b1\n",
        "  res = res.max(tensor(0.0))\n",
        "  res = res@w2 + b2\n",
        "  return res"
      ],
      "metadata": {
        "id": "AFDzDnIO-r9_"
      },
      "execution_count": 123,
      "outputs": []
    },
    {
      "cell_type": "code",
      "source": [
        "w1 = init_params((28*28,30))\n",
        "b1 = init_params(30)\n",
        "w2 = init_params((30,1))\n",
        "b2 = init_params(1)"
      ],
      "metadata": {
        "id": "kpHrDOON_9-Y"
      },
      "execution_count": 124,
      "outputs": []
    },
    {
      "cell_type": "code",
      "source": [
        "simple_net = nn.Sequential(\n",
        "    nn.Linear(28*28,30),\n",
        "    nn.ReLU(),\n",
        "    nn.Linear(30,1)\n",
        ")"
      ],
      "metadata": {
        "id": "do938GRnANhG"
      },
      "execution_count": 125,
      "outputs": []
    },
    {
      "cell_type": "code",
      "source": [
        "learn = Learner(dls, simple_net, opt_func=SGD,\n",
        "                loss_func=mnist_loss, metrics=batch_accuracy)\n",
        "\n",
        "learn.fit(40, 0.1)"
      ],
      "metadata": {
        "colab": {
          "base_uri": "https://localhost:8080/",
          "height": 1000
        },
        "id": "Zzj0IoO6DUaX",
        "outputId": "13f0ac21-2454-4e14-c55b-1a85baa6bfe3"
      },
      "execution_count": 126,
      "outputs": [
        {
          "output_type": "display_data",
          "data": {
            "text/plain": [
              "<IPython.core.display.HTML object>"
            ],
            "text/html": [
              "\n",
              "<style>\n",
              "    /* Turns off some styling */\n",
              "    progress {\n",
              "        /* gets rid of default border in Firefox and Opera. */\n",
              "        border: none;\n",
              "        /* Needs to be in here for Safari polyfill so background images work as expected. */\n",
              "        background-size: auto;\n",
              "    }\n",
              "    progress:not([value]), progress:not([value])::-webkit-progress-bar {\n",
              "        background: repeating-linear-gradient(45deg, #7e7e7e, #7e7e7e 10px, #5c5c5c 10px, #5c5c5c 20px);\n",
              "    }\n",
              "    .progress-bar-interrupted, .progress-bar-interrupted::-webkit-progress-bar {\n",
              "        background: #F44336;\n",
              "    }\n",
              "</style>\n"
            ]
          },
          "metadata": {}
        },
        {
          "output_type": "display_data",
          "data": {
            "text/plain": [
              "<IPython.core.display.HTML object>"
            ],
            "text/html": [
              "<table border=\"1\" class=\"dataframe\">\n",
              "  <thead>\n",
              "    <tr style=\"text-align: left;\">\n",
              "      <th>epoch</th>\n",
              "      <th>train_loss</th>\n",
              "      <th>valid_loss</th>\n",
              "      <th>batch_accuracy</th>\n",
              "      <th>time</th>\n",
              "    </tr>\n",
              "  </thead>\n",
              "  <tbody>\n",
              "    <tr>\n",
              "      <td>0</td>\n",
              "      <td>0.342250</td>\n",
              "      <td>0.399956</td>\n",
              "      <td>0.508341</td>\n",
              "      <td>00:00</td>\n",
              "    </tr>\n",
              "    <tr>\n",
              "      <td>1</td>\n",
              "      <td>0.153440</td>\n",
              "      <td>0.237684</td>\n",
              "      <td>0.795878</td>\n",
              "      <td>00:00</td>\n",
              "    </tr>\n",
              "    <tr>\n",
              "      <td>2</td>\n",
              "      <td>0.083607</td>\n",
              "      <td>0.117553</td>\n",
              "      <td>0.911678</td>\n",
              "      <td>00:00</td>\n",
              "    </tr>\n",
              "    <tr>\n",
              "      <td>3</td>\n",
              "      <td>0.054188</td>\n",
              "      <td>0.078648</td>\n",
              "      <td>0.942100</td>\n",
              "      <td>00:00</td>\n",
              "    </tr>\n",
              "    <tr>\n",
              "      <td>4</td>\n",
              "      <td>0.040670</td>\n",
              "      <td>0.061152</td>\n",
              "      <td>0.955348</td>\n",
              "      <td>00:00</td>\n",
              "    </tr>\n",
              "    <tr>\n",
              "      <td>5</td>\n",
              "      <td>0.033838</td>\n",
              "      <td>0.051414</td>\n",
              "      <td>0.963690</td>\n",
              "      <td>00:00</td>\n",
              "    </tr>\n",
              "    <tr>\n",
              "      <td>6</td>\n",
              "      <td>0.029960</td>\n",
              "      <td>0.045293</td>\n",
              "      <td>0.966143</td>\n",
              "      <td>00:00</td>\n",
              "    </tr>\n",
              "    <tr>\n",
              "      <td>7</td>\n",
              "      <td>0.027468</td>\n",
              "      <td>0.041117</td>\n",
              "      <td>0.966634</td>\n",
              "      <td>00:00</td>\n",
              "    </tr>\n",
              "    <tr>\n",
              "      <td>8</td>\n",
              "      <td>0.025687</td>\n",
              "      <td>0.038087</td>\n",
              "      <td>0.967615</td>\n",
              "      <td>00:00</td>\n",
              "    </tr>\n",
              "    <tr>\n",
              "      <td>9</td>\n",
              "      <td>0.024317</td>\n",
              "      <td>0.035776</td>\n",
              "      <td>0.971050</td>\n",
              "      <td>00:00</td>\n",
              "    </tr>\n",
              "    <tr>\n",
              "      <td>10</td>\n",
              "      <td>0.023211</td>\n",
              "      <td>0.033946</td>\n",
              "      <td>0.973503</td>\n",
              "      <td>00:00</td>\n",
              "    </tr>\n",
              "    <tr>\n",
              "      <td>11</td>\n",
              "      <td>0.022290</td>\n",
              "      <td>0.032456</td>\n",
              "      <td>0.974485</td>\n",
              "      <td>00:00</td>\n",
              "    </tr>\n",
              "    <tr>\n",
              "      <td>12</td>\n",
              "      <td>0.021508</td>\n",
              "      <td>0.031210</td>\n",
              "      <td>0.975466</td>\n",
              "      <td>00:00</td>\n",
              "    </tr>\n",
              "    <tr>\n",
              "      <td>13</td>\n",
              "      <td>0.020832</td>\n",
              "      <td>0.030146</td>\n",
              "      <td>0.976448</td>\n",
              "      <td>00:00</td>\n",
              "    </tr>\n",
              "    <tr>\n",
              "      <td>14</td>\n",
              "      <td>0.020241</td>\n",
              "      <td>0.029223</td>\n",
              "      <td>0.975466</td>\n",
              "      <td>00:00</td>\n",
              "    </tr>\n",
              "    <tr>\n",
              "      <td>15</td>\n",
              "      <td>0.019717</td>\n",
              "      <td>0.028412</td>\n",
              "      <td>0.975957</td>\n",
              "      <td>00:00</td>\n",
              "    </tr>\n",
              "    <tr>\n",
              "      <td>16</td>\n",
              "      <td>0.019249</td>\n",
              "      <td>0.027691</td>\n",
              "      <td>0.976938</td>\n",
              "      <td>00:00</td>\n",
              "    </tr>\n",
              "    <tr>\n",
              "      <td>17</td>\n",
              "      <td>0.018827</td>\n",
              "      <td>0.027045</td>\n",
              "      <td>0.977920</td>\n",
              "      <td>00:00</td>\n",
              "    </tr>\n",
              "    <tr>\n",
              "      <td>18</td>\n",
              "      <td>0.018445</td>\n",
              "      <td>0.026463</td>\n",
              "      <td>0.977920</td>\n",
              "      <td>00:00</td>\n",
              "    </tr>\n",
              "    <tr>\n",
              "      <td>19</td>\n",
              "      <td>0.018095</td>\n",
              "      <td>0.025935</td>\n",
              "      <td>0.978901</td>\n",
              "      <td>00:00</td>\n",
              "    </tr>\n",
              "    <tr>\n",
              "      <td>20</td>\n",
              "      <td>0.017774</td>\n",
              "      <td>0.025454</td>\n",
              "      <td>0.978901</td>\n",
              "      <td>00:00</td>\n",
              "    </tr>\n",
              "    <tr>\n",
              "      <td>21</td>\n",
              "      <td>0.017476</td>\n",
              "      <td>0.025013</td>\n",
              "      <td>0.978901</td>\n",
              "      <td>00:00</td>\n",
              "    </tr>\n",
              "    <tr>\n",
              "      <td>22</td>\n",
              "      <td>0.017200</td>\n",
              "      <td>0.024609</td>\n",
              "      <td>0.979882</td>\n",
              "      <td>00:00</td>\n",
              "    </tr>\n",
              "    <tr>\n",
              "      <td>23</td>\n",
              "      <td>0.016943</td>\n",
              "      <td>0.024236</td>\n",
              "      <td>0.979882</td>\n",
              "      <td>00:00</td>\n",
              "    </tr>\n",
              "    <tr>\n",
              "      <td>24</td>\n",
              "      <td>0.016701</td>\n",
              "      <td>0.023892</td>\n",
              "      <td>0.980373</td>\n",
              "      <td>00:00</td>\n",
              "    </tr>\n",
              "    <tr>\n",
              "      <td>25</td>\n",
              "      <td>0.016475</td>\n",
              "      <td>0.023573</td>\n",
              "      <td>0.980864</td>\n",
              "      <td>00:00</td>\n",
              "    </tr>\n",
              "    <tr>\n",
              "      <td>26</td>\n",
              "      <td>0.016261</td>\n",
              "      <td>0.023276</td>\n",
              "      <td>0.981354</td>\n",
              "      <td>00:00</td>\n",
              "    </tr>\n",
              "    <tr>\n",
              "      <td>27</td>\n",
              "      <td>0.016058</td>\n",
              "      <td>0.023000</td>\n",
              "      <td>0.981845</td>\n",
              "      <td>00:00</td>\n",
              "    </tr>\n",
              "    <tr>\n",
              "      <td>28</td>\n",
              "      <td>0.015866</td>\n",
              "      <td>0.022743</td>\n",
              "      <td>0.981845</td>\n",
              "      <td>00:00</td>\n",
              "    </tr>\n",
              "    <tr>\n",
              "      <td>29</td>\n",
              "      <td>0.015684</td>\n",
              "      <td>0.022503</td>\n",
              "      <td>0.981845</td>\n",
              "      <td>00:00</td>\n",
              "    </tr>\n",
              "    <tr>\n",
              "      <td>30</td>\n",
              "      <td>0.015509</td>\n",
              "      <td>0.022278</td>\n",
              "      <td>0.981845</td>\n",
              "      <td>00:00</td>\n",
              "    </tr>\n",
              "    <tr>\n",
              "      <td>31</td>\n",
              "      <td>0.015343</td>\n",
              "      <td>0.022068</td>\n",
              "      <td>0.982826</td>\n",
              "      <td>00:00</td>\n",
              "    </tr>\n",
              "    <tr>\n",
              "      <td>32</td>\n",
              "      <td>0.015184</td>\n",
              "      <td>0.021871</td>\n",
              "      <td>0.983317</td>\n",
              "      <td>00:00</td>\n",
              "    </tr>\n",
              "    <tr>\n",
              "      <td>33</td>\n",
              "      <td>0.015032</td>\n",
              "      <td>0.021686</td>\n",
              "      <td>0.983317</td>\n",
              "      <td>00:00</td>\n",
              "    </tr>\n",
              "    <tr>\n",
              "      <td>34</td>\n",
              "      <td>0.014886</td>\n",
              "      <td>0.021512</td>\n",
              "      <td>0.983317</td>\n",
              "      <td>00:00</td>\n",
              "    </tr>\n",
              "    <tr>\n",
              "      <td>35</td>\n",
              "      <td>0.014746</td>\n",
              "      <td>0.021348</td>\n",
              "      <td>0.983317</td>\n",
              "      <td>00:00</td>\n",
              "    </tr>\n",
              "    <tr>\n",
              "      <td>36</td>\n",
              "      <td>0.014611</td>\n",
              "      <td>0.021193</td>\n",
              "      <td>0.983317</td>\n",
              "      <td>00:00</td>\n",
              "    </tr>\n",
              "    <tr>\n",
              "      <td>37</td>\n",
              "      <td>0.014481</td>\n",
              "      <td>0.021047</td>\n",
              "      <td>0.983317</td>\n",
              "      <td>00:00</td>\n",
              "    </tr>\n",
              "    <tr>\n",
              "      <td>38</td>\n",
              "      <td>0.014356</td>\n",
              "      <td>0.020908</td>\n",
              "      <td>0.983317</td>\n",
              "      <td>00:00</td>\n",
              "    </tr>\n",
              "    <tr>\n",
              "      <td>39</td>\n",
              "      <td>0.014235</td>\n",
              "      <td>0.020777</td>\n",
              "      <td>0.982826</td>\n",
              "      <td>00:00</td>\n",
              "    </tr>\n",
              "  </tbody>\n",
              "</table>"
            ]
          },
          "metadata": {}
        }
      ]
    },
    {
      "cell_type": "code",
      "source": [
        "plt.plot(L(learn.recorder.values).itemgot(2))"
      ],
      "metadata": {
        "colab": {
          "base_uri": "https://localhost:8080/",
          "height": 284
        },
        "id": "xOKLLoT9EGCq",
        "outputId": "a616c3e3-68a7-40c8-a545-bce6a0d81576"
      },
      "execution_count": 128,
      "outputs": [
        {
          "output_type": "execute_result",
          "data": {
            "text/plain": [
              "[<matplotlib.lines.Line2D at 0x7f5a96293950>]"
            ]
          },
          "metadata": {},
          "execution_count": 128
        },
        {
          "output_type": "display_data",
          "data": {
            "text/plain": [
              "<Figure size 432x288 with 1 Axes>"
            ],
            "image/png": "[encoded data removed]"
          },
          "metadata": {
            "needs_background": "light"
          }
        }
      ]
    },
    {
      "cell_type": "code",
      "source": [
        "learn.recorder.values[-1][2]"
      ],
      "metadata": {
        "colab": {
          "base_uri": "https://localhost:8080/"
        },
        "id": "Jyi8WWKMEPTW",
        "outputId": "d2d7c4ea-8139-460d-d7bc-4f56b7eac0de"
      },
      "execution_count": 129,
      "outputs": [
        {
          "output_type": "execute_result",
          "data": {
            "text/plain": [
              "0.982826292514801"
            ]
          },
          "metadata": {},
          "execution_count": 129
        }
      ]
    },
    {
      "cell_type": "markdown",
      "source": [
        "### 4.7.1 さらに深く"
      ],
      "metadata": {
        "id": "7BMqgN7kHof5"
      }
    },
    {
      "cell_type": "code",
      "source": [
        "dls = ImageDataLoaders.from_folder(path)\n",
        "learn = cnn_learner(dls, resnet18, pretrained=False,\n",
        "                   loss_func=F.cross_entropy, metrics=accuracy)\n",
        "learn.fit_one_cycle(1, 0.1)"
      ],
      "metadata": {
        "colab": {
          "base_uri": "https://localhost:8080/",
          "height": 210
        },
        "id": "QwmNNaD9Ea1g",
        "outputId": "cffb0c5e-c2e8-48fd-acb4-65f796462a50"
      },
      "execution_count": 131,
      "outputs": [
        {
          "output_type": "stream",
          "name": "stderr",
          "text": [
            "/usr/local/lib/python3.7/dist-packages/fastai/vision/learner.py:284: UserWarning: `cnn_learner` has been renamed to `vision_learner` -- please update your code\n",
            "  warn(\"`cnn_learner` has been renamed to `vision_learner` -- please update your code\")\n",
            "/usr/local/lib/python3.7/dist-packages/torchvision/models/_utils.py:209: UserWarning: The parameter 'pretrained' is deprecated since 0.13 and will be removed in 0.15, please use 'weights' instead.\n",
            "  f\"The parameter '{pretrained_param}' is deprecated since 0.13 and will be removed in 0.15, \"\n",
            "/usr/local/lib/python3.7/dist-packages/torchvision/models/_utils.py:223: UserWarning: Arguments other than a weight enum or `None` for 'weights' are deprecated since 0.13 and will be removed in 0.15. The current behavior is equivalent to passing `weights=None`.\n",
            "  warnings.warn(msg)\n"
          ]
        },
        {
          "output_type": "display_data",
          "data": {
            "text/plain": [
              "<IPython.core.display.HTML object>"
            ],
            "text/html": [
              "\n",
              "<style>\n",
              "    /* Turns off some styling */\n",
              "    progress {\n",
              "        /* gets rid of default border in Firefox and Opera. */\n",
              "        border: none;\n",
              "        /* Needs to be in here for Safari polyfill so background images work as expected. */\n",
              "        background-size: auto;\n",
              "    }\n",
              "    progress:not([value]), progress:not([value])::-webkit-progress-bar {\n",
              "        background: repeating-linear-gradient(45deg, #7e7e7e, #7e7e7e 10px, #5c5c5c 10px, #5c5c5c 20px);\n",
              "    }\n",
              "    .progress-bar-interrupted, .progress-bar-interrupted::-webkit-progress-bar {\n",
              "        background: #F44336;\n",
              "    }\n",
              "</style>\n"
            ]
          },
          "metadata": {}
        },
        {
          "output_type": "display_data",
          "data": {
            "text/plain": [
              "<IPython.core.display.HTML object>"
            ],
            "text/html": [
              "<table border=\"1\" class=\"dataframe\">\n",
              "  <thead>\n",
              "    <tr style=\"text-align: left;\">\n",
              "      <th>epoch</th>\n",
              "      <th>train_loss</th>\n",
              "      <th>valid_loss</th>\n",
              "      <th>accuracy</th>\n",
              "      <th>time</th>\n",
              "    </tr>\n",
              "  </thead>\n",
              "  <tbody>\n",
              "    <tr>\n",
              "      <td>0</td>\n",
              "      <td>0.091265</td>\n",
              "      <td>0.016084</td>\n",
              "      <td>0.995584</td>\n",
              "      <td>00:24</td>\n",
              "    </tr>\n",
              "  </tbody>\n",
              "</table>"
            ]
          },
          "metadata": {}
        }
      ]
    },
    {
      "cell_type": "markdown",
      "source": [
        "## 4.8 用語の復習"
      ],
      "metadata": {
        "id": "IaQv1oXKGefk"
      }
    },
    {
      "cell_type": "markdown",
      "source": [
        "## 4.9 問題"
      ],
      "metadata": {
        "id": "1DpEQuMjHycu"
      }
    },
    {
      "cell_type": "markdown",
      "source": [
        "### 4.9.1 さらに詳しく"
      ],
      "metadata": {
        "id": "vJyexibbH0ac"
      }
    }
  ]
}