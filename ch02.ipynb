{
  "nbformat": 4,
  "nbformat_minor": 0,
  "metadata": {
    "colab": {
      "provenance": [],
      "authorship_tag": "ABX9TyMzJ6BVbztd1SJKtgSl8WtH",
      "include_colab_link": true
    },
    "kernelspec": {
      "name": "python3",
      "display_name": "Python 3"
    },
    "language_info": {
      "name": "python"
    }
  },
  "cells": [
    {
      "cell_type": "markdown",
      "metadata": {
        "id": "view-in-github",
        "colab_type": "text"
      },
      "source": [
        "<a href=\"https://colab.research.google.com/github/ohikouta/deep-learning_pytorch_fastai/blob/main/ch02.ipynb\" target=\"_parent\"><img src=\"https://colab.research.google.com/assets/colab-badge.svg\" alt=\"Open In Colab\"/></a>"
      ]
    },
    {
      "cell_type": "markdown",
      "source": [
        "# 2章 モデルから実運用へ"
      ],
      "metadata": {
        "id": "8hJMXA9zf_v6"
      }
    },
    {
      "cell_type": "markdown",
      "source": [
        "## 2.1 ディープラーニングの実際"
      ],
      "metadata": {
        "id": "mi0FXFMpgb0I"
      }
    },
    {
      "cell_type": "markdown",
      "source": [
        "### 2.1.1 プロジェクトの開始"
      ],
      "metadata": {
        "id": "xmM59bZogfa2"
      }
    },
    {
      "cell_type": "markdown",
      "source": [
        "### 2.1.2 ディープラーニングの現状"
      ],
      "metadata": {
        "id": "_S5ZHvLUgjGH"
      }
    },
    {
      "cell_type": "markdown",
      "source": [
        "### 2.1.3 ドライブトレインアプローチ"
      ],
      "metadata": {
        "id": "KcjA0uFGgpFe"
      }
    },
    {
      "cell_type": "markdown",
      "source": [
        "## 2.2 データの収集"
      ],
      "metadata": {
        "id": "kHsQ7sufgt6L"
      }
    },
    {
      "cell_type": "code",
      "source": [
        "??verify_images"
      ],
      "metadata": {
        "id": "6KunvGcKlSWM",
        "outputId": "a421b574-e4b4-48db-a257-cfe3d4c5047b",
        "colab": {
          "base_uri": "https://localhost:8080/"
        }
      },
      "execution_count": null,
      "outputs": [
        {
          "output_type": "stream",
          "name": "stdout",
          "text": [
            "Object `verify_images` not found.\n"
          ]
        }
      ]
    },
    {
      "cell_type": "markdown",
      "source": [
        "## 2.3 データからDataLoadersへ"
      ],
      "metadata": {
        "id": "HE2nLvJJgxGf"
      }
    },
    {
      "cell_type": "markdown",
      "source": [
        "### 2.3.1 データ水増し"
      ],
      "metadata": {
        "id": "QqKTszhLg2Da"
      }
    },
    {
      "cell_type": "markdown",
      "source": [
        "## 2.4 モデルの訓練と，それを用いたデータクリーニング"
      ],
      "metadata": {
        "id": "lWXegBj2g6Fo"
      }
    },
    {
      "cell_type": "markdown",
      "source": [
        "## 2.5 モデルをオンラインアプリケーションにする"
      ],
      "metadata": {
        "id": "WT9n8fkUg-9N"
      }
    },
    {
      "cell_type": "markdown",
      "source": [
        "### 2.5.1 モデルを推論に使う"
      ],
      "metadata": {
        "id": "xT8jUiV_hFHi"
      }
    },
    {
      "cell_type": "markdown",
      "source": [
        "### 2.5.2 モデルからノートブックアプリを作る"
      ],
      "metadata": {
        "id": "Jr-Q3l6AhITT"
      }
    },
    {
      "cell_type": "markdown",
      "source": [
        "### 2.5.3 ノートブックから本物のアプリケーションへ変換"
      ],
      "metadata": {
        "id": "C762-fqBhNqh"
      }
    },
    {
      "cell_type": "markdown",
      "source": [
        "### 2.5.4 アプリのデプロイ"
      ],
      "metadata": {
        "id": "9Vp92SOOhSt_"
      }
    },
    {
      "cell_type": "markdown",
      "source": [
        "## 2.6 大惨事を避けるには"
      ],
      "metadata": {
        "id": "3t-8roZwhVsD"
      }
    },
    {
      "cell_type": "markdown",
      "source": [
        "### 2.6.1 予期せぬ結果とフィードバックループ"
      ],
      "metadata": {
        "id": "_QqW7EoZhY8D"
      }
    },
    {
      "cell_type": "markdown",
      "source": [
        "## 2.7 書こう！"
      ],
      "metadata": {
        "id": "BnSGBQrahdoY"
      }
    },
    {
      "cell_type": "markdown",
      "source": [
        "## 2.8 問題"
      ],
      "metadata": {
        "id": "QPNHpoZLhh1_"
      }
    },
    {
      "cell_type": "markdown",
      "source": [
        "### 2.8.1 さらに詳しく"
      ],
      "metadata": {
        "id": "4AGFX-Cahjmu"
      }
    }
  ]
}