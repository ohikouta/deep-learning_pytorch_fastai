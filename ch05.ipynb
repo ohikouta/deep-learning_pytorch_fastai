{
  "nbformat": 4,
  "nbformat_minor": 0,
  "metadata": {
    "colab": {
      "provenance": [],
      "authorship_tag": "ABX9TyMjZYjf2cP0xunwinDOqlRZ",
      "include_colab_link": true
    },
    "kernelspec": {
      "name": "python3",
      "display_name": "Python 3"
    },
    "language_info": {
      "name": "python"
    }
  },
  "cells": [
    {
      "cell_type": "markdown",
      "metadata": {
        "id": "view-in-github",
        "colab_type": "text"
      },
      "source": [
        "<a href=\"https://colab.research.google.com/github/ohikouta/deep-learning_pytorch_fastai/blob/main/ch05.ipynb\" target=\"_parent\"><img src=\"https://colab.research.google.com/assets/colab-badge.svg\" alt=\"Open In Colab\"/></a>"
      ]
    },
    {
      "cell_type": "markdown",
      "source": [
        "# 5章 画像クラス分類"
      ],
      "metadata": {
        "id": "CLZTDky_Zaew"
      }
    },
    {
      "cell_type": "markdown",
      "source": [
        "## 5.1 犬と猫の識別から，品種の識別へ"
      ],
      "metadata": {
        "id": "L5YelVnVZhcK"
      }
    },
    {
      "cell_type": "markdown",
      "source": [
        "## 5.2 プリサイズ"
      ],
      "metadata": {
        "id": "sqUwkVkucRq4"
      }
    },
    {
      "cell_type": "markdown",
      "source": [
        "## 5.3 クロスエントロピーロス"
      ],
      "metadata": {
        "id": "_PGJmJ_ynoVF"
      }
    },
    {
      "cell_type": "markdown",
      "source": [
        "### 5.3.1 活性値とラベルを見る"
      ],
      "metadata": {
        "id": "B0SszybhnrQe"
      }
    },
    {
      "cell_type": "markdown",
      "source": [
        "### 5.3.2 ソフトマックス"
      ],
      "metadata": {
        "id": "5Yv1XwoWnuPc"
      }
    },
    {
      "cell_type": "markdown",
      "source": [
        "## 5.4 モデルの解釈"
      ],
      "metadata": {
        "id": "dcB79OYtoz_9"
      }
    },
    {
      "cell_type": "markdown",
      "source": [
        "## 5.5 モデルの改良"
      ],
      "metadata": {
        "id": "ebdmThz35L9N"
      }
    },
    {
      "cell_type": "markdown",
      "source": [
        "### 5.5.1 学習率ファインダ"
      ],
      "metadata": {
        "id": "7ASLQADf5b3d"
      }
    },
    {
      "cell_type": "markdown",
      "source": [
        "### 5.5.2 フリーズ解除と転移学習"
      ],
      "metadata": {
        "id": "CsKJ_PLx_1eK"
      }
    },
    {
      "cell_type": "markdown",
      "source": [
        "### 5.5.3 個別学習率"
      ],
      "metadata": {
        "id": "xjtQF1FJ_6c3"
      }
    },
    {
      "cell_type": "markdown",
      "source": [
        "### 5.5.4 訓練エポック数の選択"
      ],
      "metadata": {
        "id": "fgjdFsJXH39k"
      }
    },
    {
      "cell_type": "markdown",
      "source": [
        "### 5.5.5 よりディープなアーキテクチャ"
      ],
      "metadata": {
        "id": "fLR9XKAfJZTm"
      }
    },
    {
      "cell_type": "markdown",
      "source": [
        "## 5.6 結論"
      ],
      "metadata": {
        "id": "V7_SJ790LUY5"
      }
    },
    {
      "cell_type": "markdown",
      "source": [
        "## 5.7 問題"
      ],
      "metadata": {
        "id": "CvMyy9NXLWt0"
      }
    },
    {
      "cell_type": "markdown",
      "source": [
        "### 5.7.1 さらに詳しく"
      ],
      "metadata": {
        "id": "w3l4FoyxLZB3"
      }
    },
    {
      "cell_type": "markdown",
      "source": [],
      "metadata": {
        "id": "5sJIUL2FLbU0"
      }
    }
  ]
}